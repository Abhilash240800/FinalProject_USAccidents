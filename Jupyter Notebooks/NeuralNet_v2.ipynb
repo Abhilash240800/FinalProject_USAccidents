{
 "cells": [
  {
   "cell_type": "code",
   "execution_count": 1,
   "metadata": {},
   "outputs": [
    {
     "name": "stderr",
     "output_type": "stream",
     "text": [
      "C:\\Users\\liyoa\\Anaconda3\\lib\\site-packages\\tensorflow\\python\\framework\\dtypes.py:526: FutureWarning: Passing (type, 1) or '1type' as a synonym of type is deprecated; in a future version of numpy, it will be understood as (type, (1,)) / '(1,)type'.\n",
      "  _np_qint8 = np.dtype([(\"qint8\", np.int8, 1)])\n",
      "C:\\Users\\liyoa\\Anaconda3\\lib\\site-packages\\tensorflow\\python\\framework\\dtypes.py:527: FutureWarning: Passing (type, 1) or '1type' as a synonym of type is deprecated; in a future version of numpy, it will be understood as (type, (1,)) / '(1,)type'.\n",
      "  _np_quint8 = np.dtype([(\"quint8\", np.uint8, 1)])\n",
      "C:\\Users\\liyoa\\Anaconda3\\lib\\site-packages\\tensorflow\\python\\framework\\dtypes.py:528: FutureWarning: Passing (type, 1) or '1type' as a synonym of type is deprecated; in a future version of numpy, it will be understood as (type, (1,)) / '(1,)type'.\n",
      "  _np_qint16 = np.dtype([(\"qint16\", np.int16, 1)])\n",
      "C:\\Users\\liyoa\\Anaconda3\\lib\\site-packages\\tensorflow\\python\\framework\\dtypes.py:529: FutureWarning: Passing (type, 1) or '1type' as a synonym of type is deprecated; in a future version of numpy, it will be understood as (type, (1,)) / '(1,)type'.\n",
      "  _np_quint16 = np.dtype([(\"quint16\", np.uint16, 1)])\n",
      "C:\\Users\\liyoa\\Anaconda3\\lib\\site-packages\\tensorflow\\python\\framework\\dtypes.py:530: FutureWarning: Passing (type, 1) or '1type' as a synonym of type is deprecated; in a future version of numpy, it will be understood as (type, (1,)) / '(1,)type'.\n",
      "  _np_qint32 = np.dtype([(\"qint32\", np.int32, 1)])\n",
      "C:\\Users\\liyoa\\Anaconda3\\lib\\site-packages\\tensorflow\\python\\framework\\dtypes.py:535: FutureWarning: Passing (type, 1) or '1type' as a synonym of type is deprecated; in a future version of numpy, it will be understood as (type, (1,)) / '(1,)type'.\n",
      "  np_resource = np.dtype([(\"resource\", np.ubyte, 1)])\n"
     ]
    }
   ],
   "source": [
    "import pandas\n",
    "import numpy as np\n",
    "import pandas as pd\n",
    "from sklearn.preprocessing import OneHotEncoder, MinMaxScaler\n",
    "from sklearn.model_selection import train_test_split\n",
    "from sklearn.feature_selection import SelectKBest, chi2, mutual_info_classif\n",
    "from collections import Counter\n",
    "import time\n",
    "import seaborn as sns\n",
    "from matplotlib import pyplot as plt\n",
    "\n",
    "import tensorflow as tf\n",
    "#from keras.utils import to_categorical\n",
    "import feather\n",
    "import random\n",
    "from datetime import *\n",
    "import warnings\n",
    "warnings.filterwarnings(\"ignore\")"
   ]
  },
  {
   "cell_type": "code",
   "execution_count": 4,
   "metadata": {},
   "outputs": [],
   "source": [
    "FILENAME = \"Datasets/merged_data\""
   ]
  },
  {
   "cell_type": "code",
   "execution_count": 3,
   "metadata": {},
   "outputs": [],
   "source": [
    "data = feather.read_dataframe(f\"{FILENAME}.feather\")"
   ]
  },
  {
   "cell_type": "code",
   "execution_count": 4,
   "metadata": {},
   "outputs": [],
   "source": [
    "# Remove those one-hot encoded columns in the dataset created by Abhi\n",
    "\n",
    "def in_name(c, one_hots):\n",
    "    for col_name in one_hots:\n",
    "        if c.startswith(f\"{col_name}_\"):\n",
    "            return True\n",
    "    return False\n",
    "\n",
    "one_hots = ['Wind_Direction', 'Timezone','State', 'Weather_Condition']\n",
    "remove = [col for col in data.columns if in_name(col, one_hots)]\n",
    "df = data.drop(remove, axis=1)\n"
   ]
  },
  {
   "cell_type": "code",
   "execution_count": 5,
   "metadata": {},
   "outputs": [
    {
     "name": "stdout",
     "output_type": "stream",
     "text": [
      "2922400\n"
     ]
    }
   ],
   "source": [
    "# Remove missing values\n",
    "df = df.dropna().reset_index(drop=True)\n",
    "print(len(df))"
   ]
  },
  {
   "cell_type": "code",
   "execution_count": 6,
   "metadata": {},
   "outputs": [],
   "source": [
    "df['Severity'] = df['Severity'].astype(int)"
   ]
  },
  {
   "cell_type": "markdown",
   "metadata": {},
   "source": [
    "# Clean categorical features"
   ]
  },
  {
   "cell_type": "markdown",
   "metadata": {},
   "source": [
    "### Clean wind direction"
   ]
  },
  {
   "cell_type": "markdown",
   "metadata": {},
   "source": [
    "* \"CALM\" = [\"Calm\", \"CALM\"]\n",
    "* \"W\" = [\"W\", \"West\", \"WSW\", \"WNW\"] \n",
    "* \"S\" = [\"S\", \"South\", \"SSW\", \"SSE\"] \n",
    "* \"N\" = [\"N\", \"North\", \"NNW\", \"NNE\"] \n",
    "* \"E\" = [\"E\", \"East\", \"ESE\", \"ENE\"]\n",
    "* \"VAR\" = [\"VAR\", \"Variable\"]"
   ]
  },
  {
   "cell_type": "code",
   "execution_count": 7,
   "metadata": {},
   "outputs": [
    {
     "name": "stdout",
     "output_type": "stream",
     "text": [
      "Wind Direction after simplification:  ['SW' 'S' 'W' 'NW' 'N' 'VAR' 'SE' 'E' 'NE' 'CALM']\n"
     ]
    }
   ],
   "source": [
    "df.loc[df['Wind_Direction']=='Calm','Wind_Direction'] = 'CALM'\n",
    "df.loc[(df['Wind_Direction']=='West')|(df['Wind_Direction']=='WSW')|(df['Wind_Direction']=='WNW'),'Wind_Direction'] = 'W'\n",
    "df.loc[(df['Wind_Direction']=='South')|(df['Wind_Direction']=='SSW')|(df['Wind_Direction']=='SSE'),'Wind_Direction'] = 'S'\n",
    "df.loc[(df['Wind_Direction']=='North')|(df['Wind_Direction']=='NNW')|(df['Wind_Direction']=='NNE'),'Wind_Direction'] = 'N'\n",
    "df.loc[(df['Wind_Direction']=='East')|(df['Wind_Direction']=='ESE')|(df['Wind_Direction']=='ENE'),'Wind_Direction'] = 'E'\n",
    "df.loc[df['Wind_Direction']=='Variable','Wind_Direction'] = 'VAR'\n",
    "print(\"Wind Direction after simplification: \", df['Wind_Direction'].unique())"
   ]
  },
  {
   "cell_type": "markdown",
   "metadata": {},
   "source": [
    "### Clean weather condition"
   ]
  },
  {
   "cell_type": "code",
   "execution_count": 8,
   "metadata": {
    "scrolled": true
   },
   "outputs": [
    {
     "data": {
      "text/plain": [
       "Counter({'Overcast': 314137,\n",
       "         'Mostly Cloudy': 432506,\n",
       "         'Light Rain': 150052,\n",
       "         'Light Snow': 46407,\n",
       "         'Haze': 29015,\n",
       "         'Scattered Clouds': 170312,\n",
       "         'Partly Cloudy': 306197,\n",
       "         'Clear': 597336,\n",
       "         'Snow': 5176,\n",
       "         'Light Freezing Drizzle': 716,\n",
       "         'Fog': 24155,\n",
       "         'Shallow Fog': 710,\n",
       "         'Rain': 32900,\n",
       "         'Heavy Rain': 13063,\n",
       "         'Light Freezing Rain': 1800,\n",
       "         'Cloudy': 205447,\n",
       "         'Smoke': 2831,\n",
       "         'Patches of Fog': 1487,\n",
       "         'Mist': 1395,\n",
       "         'Light Freezing Fog': 478,\n",
       "         'Light Thunderstorms and Rain': 3807,\n",
       "         'Light Drizzle': 9415,\n",
       "         'Thunderstorms and Rain': 1620,\n",
       "         'Fair': 523539,\n",
       "         'Blowing Dust / Windy': 115,\n",
       "         'Widespread Dust': 147,\n",
       "         'Fair / Windy': 7741,\n",
       "         'Drizzle': 1197,\n",
       "         'Light Rain / Windy': 1991,\n",
       "         'Heavy Drizzle': 162,\n",
       "         'Showers in the Vicinity': 238,\n",
       "         'Light Rain with Thunder': 2772,\n",
       "         'Mostly Cloudy / Windy': 4305,\n",
       "         'Partly Cloudy / Windy': 2717,\n",
       "         'Thunder in the Vicinity': 2776,\n",
       "         'T-Storm': 3331,\n",
       "         'Heavy Thunderstorms and Rain': 1986,\n",
       "         'Thunderstorm': 3829,\n",
       "         'Thunder': 2113,\n",
       "         'Heavy T-Storm': 1865,\n",
       "         'Heavy T-Storm / Windy': 237,\n",
       "         'Blowing Snow': 283,\n",
       "         'Heavy Snow': 1374,\n",
       "         'Light Ice Pellets': 240,\n",
       "         'N/A Precipitation': 328,\n",
       "         'Cloudy / Windy': 4138,\n",
       "         'Rain / Windy': 521,\n",
       "         'Heavy Rain / Windy': 291,\n",
       "         'Light Snow / Windy': 883,\n",
       "         'T-Storm / Windy': 188,\n",
       "         'Thunder / Windy': 112,\n",
       "         'Wintry Mix': 1653,\n",
       "         'Drizzle and Fog': 129,\n",
       "         'Haze / Windy': 125,\n",
       "         'Snow / Windy': 112})"
      ]
     },
     "execution_count": 8,
     "metadata": {},
     "output_type": "execute_result"
    }
   ],
   "source": [
    "Counter(df['Weather_Condition'])"
   ]
  },
  {
   "cell_type": "markdown",
   "metadata": {},
   "source": [
    "https://www.timeanddate.com/weather/glossary.html <br>\n",
    "\n",
    "**Create features according the different weather conditions** <br>\n",
    "Scattered clouds, partly cloudy = PARTLY CLOUDY <br>\n",
    "Overcast, Mostly cloudly, Cloudy = CLOUDY <br>\n",
    "Fair, Clear = CLEAR <br>\n",
    "Snow (light snow, heavy snow), and wintry mix  = SNOW <br>\n",
    "drizzle, light rain/drizzle, light freezing rain/drizzle = LIGHT RAIN <br>\n",
    "Heavy Rain, heavy thunderstorms, heavy t-storm = HEAVY RAIN <br>\n",
    "Haze, fog, mist, smoke = fog     *(see https://www.worldatlas.com/articles/what-are-the-differences-between-mist-haze-and-fog.html)*<br>\n",
    "Rain, light thunderstorms, thunderstorms, t-storm, thunder = RAIN <br>"
   ]
  },
  {
   "cell_type": "code",
   "execution_count": 9,
   "metadata": {},
   "outputs": [],
   "source": [
    "def get_condition(string):\n",
    "    \n",
    "    conditions = ['Clear', 'Partly Cloudy', 'Cloudy', 'Snow', 'Light Rain', 'Heavy Rain', 'Rain', 'Fog'] \n",
    "    strings = [['clear', 'fair'],\n",
    "              ['partly cloudy', 'scattered clouds'],\n",
    "              ['overcast', 'mostly cloudy', 'cloudy'],\n",
    "              ['snow', 'wintry mix'],\n",
    "              ['drizzle', 'light rain', 'light freezing rain'],\n",
    "              ['heavy rain', 'heavy thunderstorms', 'heavy t-storm'],\n",
    "              ['rain', 'thunderstorms', 't-storm', 'thunder', 'showers'],\n",
    "              ['fog', 'haze', 'mist', 'smoke']]\n",
    "\n",
    "    for j, k in enumerate(strings):\n",
    "        for val in k:\n",
    "            if val in string.lower():\n",
    "                return conditions[j]\n",
    "    return 'Others'"
   ]
  },
  {
   "cell_type": "code",
   "execution_count": 10,
   "metadata": {
    "scrolled": true
   },
   "outputs": [
    {
     "data": {
      "text/html": [
       "<div>\n",
       "<style scoped>\n",
       "    .dataframe tbody tr th:only-of-type {\n",
       "        vertical-align: middle;\n",
       "    }\n",
       "\n",
       "    .dataframe tbody tr th {\n",
       "        vertical-align: top;\n",
       "    }\n",
       "\n",
       "    .dataframe thead th {\n",
       "        text-align: right;\n",
       "    }\n",
       "</style>\n",
       "<table border=\"1\" class=\"dataframe\">\n",
       "  <thead>\n",
       "    <tr style=\"text-align: right;\">\n",
       "      <th></th>\n",
       "      <th>Condition</th>\n",
       "      <th>Weather_Condition</th>\n",
       "    </tr>\n",
       "  </thead>\n",
       "  <tbody>\n",
       "    <tr>\n",
       "      <th>0</th>\n",
       "      <td>Cloudy</td>\n",
       "      <td>Overcast</td>\n",
       "    </tr>\n",
       "    <tr>\n",
       "      <th>1</th>\n",
       "      <td>Cloudy</td>\n",
       "      <td>Mostly Cloudy</td>\n",
       "    </tr>\n",
       "    <tr>\n",
       "      <th>2</th>\n",
       "      <td>Cloudy</td>\n",
       "      <td>Mostly Cloudy</td>\n",
       "    </tr>\n",
       "    <tr>\n",
       "      <th>3</th>\n",
       "      <td>Light Rain</td>\n",
       "      <td>Light Rain</td>\n",
       "    </tr>\n",
       "    <tr>\n",
       "      <th>4</th>\n",
       "      <td>Cloudy</td>\n",
       "      <td>Overcast</td>\n",
       "    </tr>\n",
       "    <tr>\n",
       "      <th>...</th>\n",
       "      <td>...</td>\n",
       "      <td>...</td>\n",
       "    </tr>\n",
       "    <tr>\n",
       "      <th>2922395</th>\n",
       "      <td>Clear</td>\n",
       "      <td>Fair</td>\n",
       "    </tr>\n",
       "    <tr>\n",
       "      <th>2922396</th>\n",
       "      <td>Clear</td>\n",
       "      <td>Fair</td>\n",
       "    </tr>\n",
       "    <tr>\n",
       "      <th>2922397</th>\n",
       "      <td>Partly Cloudy</td>\n",
       "      <td>Partly Cloudy</td>\n",
       "    </tr>\n",
       "    <tr>\n",
       "      <th>2922398</th>\n",
       "      <td>Clear</td>\n",
       "      <td>Fair</td>\n",
       "    </tr>\n",
       "    <tr>\n",
       "      <th>2922399</th>\n",
       "      <td>Clear</td>\n",
       "      <td>Fair</td>\n",
       "    </tr>\n",
       "  </tbody>\n",
       "</table>\n",
       "<p>2922400 rows × 2 columns</p>\n",
       "</div>"
      ],
      "text/plain": [
       "             Condition Weather_Condition\n",
       "0               Cloudy          Overcast\n",
       "1               Cloudy     Mostly Cloudy\n",
       "2               Cloudy     Mostly Cloudy\n",
       "3           Light Rain        Light Rain\n",
       "4               Cloudy          Overcast\n",
       "...                ...               ...\n",
       "2922395          Clear              Fair\n",
       "2922396          Clear              Fair\n",
       "2922397  Partly Cloudy     Partly Cloudy\n",
       "2922398          Clear              Fair\n",
       "2922399          Clear              Fair\n",
       "\n",
       "[2922400 rows x 2 columns]"
      ]
     },
     "execution_count": 10,
     "metadata": {},
     "output_type": "execute_result"
    }
   ],
   "source": [
    "res = []\n",
    "for i in df['Weather_Condition'].values:\n",
    "    res.append(get_condition(i))\n",
    "\n",
    "df['Condition'] = res\n",
    "df[['Condition', 'Weather_Condition']]"
   ]
  },
  {
   "cell_type": "code",
   "execution_count": 11,
   "metadata": {
    "scrolled": false
   },
   "outputs": [
    {
     "name": "stdout",
     "output_type": "stream",
     "text": [
      "Clear :\n",
      "{'Clear', 'Fair', 'Fair / Windy'}\n",
      "1128616\n",
      "\n",
      "\n",
      "Partly Cloudy :\n",
      "{'Scattered Clouds', 'Partly Cloudy / Windy', 'Partly Cloudy'}\n",
      "479226\n",
      "\n",
      "\n",
      "Cloudy :\n",
      "{'Mostly Cloudy / Windy', 'Mostly Cloudy', 'Cloudy', 'Overcast', 'Cloudy / Windy'}\n",
      "960533\n",
      "\n",
      "\n",
      "Snow :\n",
      "{'Blowing Snow', 'Wintry Mix', 'Snow', 'Snow / Windy', 'Light Snow', 'Light Snow / Windy', 'Heavy Snow'}\n",
      "55888\n",
      "\n",
      "\n",
      "Light Rain :\n",
      "{'Light Freezing Rain', 'Light Rain', 'Light Rain / Windy', 'Drizzle and Fog', 'Light Drizzle', 'Drizzle', 'Light Rain with Thunder', 'Light Freezing Drizzle', 'Heavy Drizzle'}\n",
      "168234\n",
      "\n",
      "\n",
      "Heavy Rain :\n",
      "{'Heavy Thunderstorms and Rain', 'Heavy T-Storm', 'Heavy Rain', 'Heavy T-Storm / Windy', 'Heavy Rain / Windy'}\n",
      "17442\n",
      "\n",
      "\n",
      "Rain :\n",
      "{'Thunder in the Vicinity', 'T-Storm', 'Rain', 'Thunderstorm', 'Rain / Windy', 'T-Storm / Windy', 'Light Thunderstorms and Rain', 'Thunder', 'Thunderstorms and Rain', 'Thunder / Windy'}\n",
      "51197\n",
      "\n",
      "\n",
      "Fog :\n",
      "{'Shallow Fog', 'Fog', 'Smoke', 'Mist', 'Haze', 'Patches of Fog', 'Light Freezing Fog', 'Haze / Windy'}\n",
      "60196\n",
      "\n",
      "\n"
     ]
    }
   ],
   "source": [
    "conditions = ['Clear', 'Partly Cloudy', 'Cloudy', 'Snow', 'Light Rain', 'Heavy Rain', 'Rain', 'Fog', 'Others'] \n",
    "\n",
    "for i in conditions:\n",
    "    print(i, \":\")\n",
    "    print(set(df[df['Condition']==i]['Weather_Condition']))\n",
    "    print(sum(df['Condition']==i))\n",
    "    print(\"\\n\")\n",
    "    \n",
    "df = df[df['Condition']!='Others']"
   ]
  },
  {
   "cell_type": "code",
   "execution_count": 12,
   "metadata": {},
   "outputs": [],
   "source": [
    "# One hot encode ['Wind_Direction', 'Timezone', 'State', 'Condition']\n",
    "\n",
    "one_hots = ['Wind_Direction', 'Timezone','State', 'Condition']\n",
    "oh = pd.DataFrame()\n",
    "for c in one_hots:\n",
    "    dummies = pd.get_dummies(df[c], prefix=c)\n",
    "    oh = pd.concat([oh, dummies], axis=1)\n",
    "\n",
    "df = pd.concat([df, oh], axis=1)"
   ]
  },
  {
   "cell_type": "code",
   "execution_count": 13,
   "metadata": {},
   "outputs": [],
   "source": [
    "# Save this dataframe\n",
    "df.to_feather(\"{}_v1.feather\".format(FILENAME))"
   ]
  },
  {
   "cell_type": "code",
   "execution_count": 6,
   "metadata": {},
   "outputs": [],
   "source": [
    "df = feather.read_dataframe(\"{}_v1.feather\".format(FILENAME))"
   ]
  },
  {
   "cell_type": "markdown",
   "metadata": {},
   "source": [
    "#### With numeric attributes"
   ]
  },
  {
   "cell_type": "code",
   "execution_count": 7,
   "metadata": {},
   "outputs": [],
   "source": [
    "# Filter the data\n",
    "#BUM NOEXIT ROUNABOUT GIVEWAY removed due to badly distributed data\n",
    "drop = ['Unnamed: 0', 'ID', 'Start_Lat', 'Start_Lng', 'Start_Time', 'End_Time', 'Weather_Timestamp', 'Description', \n",
    "        'Distance(mi)', \n",
    "        'County', 'City', 'Airport_Code', \n",
    "        'Wind_Direction', 'Timezone', 'State', 'Condition', 'Weather_Condition',\n",
    "        'Street', 'Bump', 'No_Exit', 'Roundabout', 'Give_Way', 'Traffic_Calming',\n",
    "        \"Wind_Direction\"]\n",
    "\n",
    "df = df.drop(drop, axis=1).reset_index(drop=True)\n",
    "\n",
    "# Convert to feather file format\n",
    "df.to_feather(\"{}_numeric_v2.feather\".format(FILENAME))"
   ]
  },
  {
   "cell_type": "code",
   "execution_count": 8,
   "metadata": {},
   "outputs": [],
   "source": [
    "del(df)"
   ]
  },
  {
   "cell_type": "markdown",
   "metadata": {},
   "source": [
    "#### without numeric attributes"
   ]
  },
  {
   "cell_type": "code",
   "execution_count": 16,
   "metadata": {
    "scrolled": true
   },
   "outputs": [],
   "source": [
    "# Filter the data\n",
    "#BUM NOEXIT ROUNABOUT GIVEWAY removed due to badly distributed data\n",
    "drop = ['Unnamed: 0', 'ID', 'Start_Lat', 'Start_Lng', 'Start_Time', 'End_Time', 'Weather_Timestamp', 'Description', \n",
    "        'Distance(mi)', \n",
    "        'County', 'City', 'Airport_Code', \n",
    "        'Wind_Direction', 'Timezone', 'State', 'Condition', 'Weather_Condition',\n",
    "        'Street', 'Bump', 'No_Exit', 'Roundabout', 'Give_Way', 'Traffic_Calming',\n",
    "       'Temperature(F)', 'Humidity(%)', 'Pressure(in)', 'Visibility(mi)', 'Wind_Direction', 'Wind_Speed(mph)', 'Precipitation(in)',\n",
    "       'Population_County', 'Drive_County', 'Transit_County', 'Walk_County', 'MedianHouseholdIncome_County']\n",
    "\n",
    "df = df.drop(drop, axis=1).reset_index(drop=True)\n",
    "\n",
    "# Convert to feather file format\n",
    "df.to_feather(\"{}_v2.feather\".format(FILENAME))\n",
    "\n",
    "# clears memory allocated to df\n",
    "df = 0 "
   ]
  },
  {
   "cell_type": "code",
   "execution_count": 17,
   "metadata": {},
   "outputs": [],
   "source": [
    "# Clear memory\n",
    "del(df)"
   ]
  },
  {
   "cell_type": "markdown",
   "metadata": {},
   "source": [
    "# Model"
   ]
  },
  {
   "cell_type": "markdown",
   "metadata": {},
   "source": [
    "### Finding best neuron size"
   ]
  },
  {
   "cell_type": "code",
   "execution_count": null,
   "metadata": {},
   "outputs": [],
   "source": [
    "data = feather.read_dataframe(\"{}_v2.feather\".format(FILENAME))\n",
    "EPOCHS = 5\n",
    "BATCH_SIZE = 128\n",
    "\n",
    "# One hot encode labels\n",
    "n = len(data)\n",
    "labels = data['Severity']\n",
    "y = np.zeros((n, 4))\n",
    "for i in range(n):\n",
    "    y[i, labels[i]-1] = 1\n",
    "    \n",
    "X = data.drop('Severity', axis=1)\n",
    "X_train, X_test, y_train, y_test = train_test_split(X, y, test_size=0.25, random_state=30034)\n",
    "\n",
    "max_neurons = X_train.shape[1]\n",
    "neuron_size = range(max_neurons,4,-10)\n",
    "\n",
    "for i in neuron_size:\n",
    "    model = tf.keras.Sequential()\n",
    "    model.add(tf.keras.layers.Dense(i, activation=tf.nn.swish,input_shape=(X_train.shape[1],)))\n",
    "    model.add(tf.keras.layers.Dense(4, activation=tf.nn.sigmoid))\n",
    "\n",
    "    # Compile and print out summary of model\n",
    "    model.compile(loss='categorical_crossentropy', \n",
    "              optimizer='adam',\n",
    "             metrics=['accuracy'])\n",
    "    \n",
    "    \n",
    "    print(\"==================================================\")\n",
    "    print(\"Number of Neurons: \",i)\n",
    "    print(\"==================================================\")\n",
    "    model.fit(X_train, y_train, epochs=EPOCHS, batch_size=BATCH_SIZE)\n",
    "    model.evaluate(X_test, y_test)"
   ]
  },
  {
   "cell_type": "markdown",
   "metadata": {},
   "source": [
    "### Model evaluation with numeric"
   ]
  },
  {
   "cell_type": "code",
   "execution_count": 12,
   "metadata": {},
   "outputs": [
    {
     "name": "stdout",
     "output_type": "stream",
     "text": [
      "FOLD NUMBER =  1\n",
      "Epoch 1/5\n",
      "1948266/1948266 [==============================] - 16s 8us/sample - loss: 0.6617 - acc: 0.6621\n",
      "Epoch 2/5\n",
      "1948266/1948266 [==============================] - 15s 8us/sample - loss: 0.6596 - acc: 0.6623\n",
      "Epoch 3/5\n",
      "1948266/1948266 [==============================] - 16s 8us/sample - loss: 0.6595 - acc: 0.6623\n",
      "Epoch 4/5\n",
      "1948266/1948266 [==============================] - 17s 8us/sample - loss: 0.6593 - acc: 0.6623\n",
      "Epoch 5/5\n",
      "1948266/1948266 [==============================] - 16s 8us/sample - loss: 0.6592 - acc: 0.6623\n",
      "974134/974134 [==============================] - 11s 12us/sample - loss: 0.6591 - acc: 0.6746\n",
      "Accuracy: 0.6745663\n",
      "============================================\n",
      "FOLD NUMBER =  2\n",
      "Epoch 1/5\n",
      "1948267/1948267 [==============================] - 17s 9us/sample - loss: 0.6345 - acc: 0.6642\n",
      "Epoch 2/5\n",
      "1948267/1948267 [==============================] - 17s 9us/sample - loss: 0.6288 - acc: 0.6660\n",
      "Epoch 3/5\n",
      "1948267/1948267 [==============================] - 17s 9us/sample - loss: 0.6271 - acc: 0.6669\n",
      "Epoch 4/5\n",
      "1948267/1948267 [==============================] - 17s 9us/sample - loss: 0.6260 - acc: 0.6676\n",
      "Epoch 5/5\n",
      "1948267/1948267 [==============================] - 17s 9us/sample - loss: 0.6251 - acc: 0.6679\n",
      "974133/974133 [==============================] - 11s 11us/sample - loss: 0.7078 - acc: 0.6632\n",
      "Accuracy: 0.6631507\n",
      "============================================\n",
      "FOLD NUMBER =  3\n",
      "Epoch 1/5\n",
      "1948267/1948267 [==============================] - 14s 7us/sample - loss: 0.5710 - acc: 0.7068\n",
      "Epoch 2/5\n",
      "1948267/1948267 [==============================] - 14s 7us/sample - loss: 0.5573 - acc: 0.7188\n",
      "Epoch 3/5\n",
      "1948267/1948267 [==============================] - 14s 7us/sample - loss: 0.5526 - acc: 0.7226\n",
      "Epoch 4/5\n",
      "1948267/1948267 [==============================] - 14s 7us/sample - loss: 0.5495 - acc: 0.7249\n",
      "Epoch 5/5\n",
      "1948267/1948267 [==============================] - 14s 7us/sample - loss: 0.5472 - acc: 0.7268\n",
      "974133/974133 [==============================] - 11s 11us/sample - loss: 0.7990 - acc: 0.5300\n",
      "Accuracy: 0.52999747\n",
      "============================================\n"
     ]
    }
   ],
   "source": [
    "from sklearn.model_selection import StratifiedKFold\n",
    "\n",
    "data = feather.read_dataframe(\"{}_numeric_v2.feather\".format(FILENAME))\n",
    "labels = data['Severity']\n",
    "X = data.drop('Severity', axis=1)\n",
    "\n",
    "scaler=MinMaxScaler(feature_range=(0,1))\n",
    "X = scaler.fit_transform(X)\n",
    "\n",
    "skf = StratifiedKFold(n_splits=3, random_state=30034, shuffle=False)\n",
    "\n",
    "fold_no = 1\n",
    "accs = []  # store each accuracy\n",
    "\n",
    "\n",
    "for train_index, test_index in skf.split(X, labels):\n",
    "\n",
    "    # One hot encode labels\n",
    "    print(\"FOLD NUMBER = \", str(fold_no))\n",
    "\n",
    "\n",
    "    X_train = X[train_index]\n",
    "    X_test = X[test_index]\n",
    "    \n",
    "    \n",
    "    y_train = np.zeros((len(X_train), 4))\n",
    "    for i in range(len(X_train)):\n",
    "        y_train[i, labels[i]-1] = 1\n",
    "\n",
    "    y_test = np.zeros((len(X_test), 4))\n",
    "    for i in range(len(X_test)):\n",
    "        y_test[i, labels[i]-1] = 1\n",
    "\n",
    "    EPOCHS = 5\n",
    "    BATCH_SIZE = 128\n",
    "\n",
    "    model = tf.keras.Sequential()\n",
    "    model.add(tf.keras.layers.Dense(70, activation=tf.nn.swish,input_shape=(X_train.shape[1],)))\n",
    "    model.add(tf.keras.layers.Dense(4, activation=tf.nn.sigmoid))\n",
    "\n",
    "    # Compile and print out summary of model\n",
    "    model.compile(loss='categorical_crossentropy', \n",
    "                  optimizer='adam',\n",
    "                 metrics=['accuracy'])\n",
    "\n",
    "    model.fit(X_train, y_train, epochs=EPOCHS, batch_size=BATCH_SIZE)\n",
    "    (test_loss, test_acc) = model.evaluate(X_test, y_test)\n",
    "    print('Accuracy:', test_acc)\n",
    "    accs.append(test_acc)\n",
    "    print(\"============================================\")\n",
    "    fold_no+=1"
   ]
  },
  {
   "cell_type": "markdown",
   "metadata": {},
   "source": [
    "### Model evaluation without numeric"
   ]
  },
  {
   "cell_type": "code",
   "execution_count": 24,
   "metadata": {},
   "outputs": [
    {
     "name": "stdout",
     "output_type": "stream",
     "text": [
      "accuracy: 0.7001286613742129\n"
     ]
    },
    {
     "data": {
      "image/png": "[encoded data removed]",
      "text/plain": [
       "<Figure size 432x288 with 1 Axes>"
      ]
     },
     "metadata": {
      "needs_background": "light"
     },
     "output_type": "display_data"
    }
   ],
   "source": [
    "from sklearn.metrics import accuracy_score, confusion_matrix\n",
    "\n",
    "p = []\n",
    "t = []\n",
    "for i in y_preds:\n",
    "    p.append(np.argmax(i)+1)\n",
    "\n",
    "for i in y_test:\n",
    "    t.append(np.argmax(i)+1)    \n",
    "\n",
    "print(\"accuracy:\", accuracy_score(t, p))\n",
    "\n",
    "cm=confusion_matrix(t,p)\n",
    "cm = pd.DataFrame(cm, index = [i for i in \"1234\"],\n",
    "                  columns = [i for i in \"1234\"])\n",
    "cm.index.name = 'Actual'\n",
    "cm.columns.name = 'Predicted'\n",
    "sns.heatmap(cm, annot=True, \n",
    "            cmap='Blues', cbar=False)\n",
    "plt.show()"
   ]
  },
  {
   "cell_type": "code",
   "execution_count": 13,
   "metadata": {},
   "outputs": [
    {
     "name": "stdout",
     "output_type": "stream",
     "text": [
      "FOLD NUMBER =  1\n",
      "Epoch 1/5\n",
      "1948266/1948266 [==============================] - 14s 7us/sample - loss: 0.6620 - acc: 0.6621\n",
      "Epoch 2/5\n",
      "1948266/1948266 [==============================] - 14s 7us/sample - loss: 0.6598 - acc: 0.6623\n",
      "Epoch 3/5\n",
      "1948266/1948266 [==============================] - 14s 7us/sample - loss: 0.6596 - acc: 0.6623\n",
      "Epoch 4/5\n",
      "1948266/1948266 [==============================] - 14s 7us/sample - loss: 0.6595 - acc: 0.6623\n",
      "Epoch 5/5\n",
      "1948266/1948266 [==============================] - 14s 7us/sample - loss: 0.6595 - acc: 0.6623\n",
      "974134/974134 [==============================] - 11s 11us/sample - loss: 0.6592 - acc: 0.6746\n",
      "Accuracy: 0.6745663\n",
      "============================================\n",
      "FOLD NUMBER =  2\n",
      "Epoch 1/5\n",
      "1948267/1948267 [==============================] - 15s 8us/sample - loss: 0.6369 - acc: 0.6635\n",
      "Epoch 2/5\n",
      "1948267/1948267 [==============================] - 16s 8us/sample - loss: 0.6327 - acc: 0.6642\n",
      "Epoch 3/5\n",
      "1948267/1948267 [==============================] - 17s 9us/sample - loss: 0.6321 - acc: 0.6645\n",
      "Epoch 4/5\n",
      "1948267/1948267 [==============================] - 16s 8us/sample - loss: 0.6317 - acc: 0.6646\n",
      "Epoch 5/5\n",
      "1948267/1948267 [==============================] - 16s 8us/sample - loss: 0.6316 - acc: 0.6646\n",
      "974133/974133 [==============================] - 12s 12us/sample - loss: 0.7014 - acc: 0.6687\n",
      "Accuracy: 0.6687321\n",
      "============================================\n",
      "FOLD NUMBER =  3\n",
      "Epoch 1/5\n",
      "1948267/1948267 [==============================] - 16s 8us/sample - loss: 0.5800 - acc: 0.6919\n",
      "Epoch 2/5\n",
      "1948267/1948267 [==============================] - 16s 8us/sample - loss: 0.5739 - acc: 0.6958\n",
      "Epoch 3/5\n",
      "1948267/1948267 [==============================] - 15s 8us/sample - loss: 0.5730 - acc: 0.6967\n",
      "Epoch 4/5\n",
      "1948267/1948267 [==============================] - 16s 8us/sample - loss: 0.5725 - acc: 0.6971\n",
      "Epoch 5/5\n",
      "1948267/1948267 [==============================] - 15s 8us/sample - loss: 0.5721 - acc: 0.6974\n",
      "974133/974133 [==============================] - 12s 12us/sample - loss: 0.7515 - acc: 0.5457\n",
      "Accuracy: 0.5456565\n",
      "============================================\n"
     ]
    }
   ],
   "source": [
    "from sklearn.model_selection import StratifiedKFold\n",
    "\n",
    "data = feather.read_dataframe(\"{}_v2.feather\".format(FILENAME))\n",
    "labels = data['Severity']\n",
    "X = data.drop('Severity', axis=1)\n",
    "\n",
    "scaler=MinMaxScaler(feature_range=(0,1))\n",
    "X = scaler.fit_transform(X)\n",
    "\n",
    "skf = StratifiedKFold(n_splits=3, random_state=30034, shuffle=False)\n",
    "\n",
    "fold_no = 1\n",
    "accs = []  # store each accuracy\n",
    "\n",
    "\n",
    "for train_index, test_index in skf.split(X, labels):\n",
    "\n",
    "    # One hot encode labels\n",
    "    print(\"FOLD NUMBER = \", str(fold_no))\n",
    "\n",
    "\n",
    "    X_train = X[train_index]\n",
    "    X_test = X[test_index]\n",
    "\n",
    "    y_train = np.zeros((len(X_train), 4))\n",
    "    for i in range(len(X_train)):\n",
    "        y_train[i, labels[i]-1] = 1\n",
    "\n",
    "    y_test = np.zeros((len(X_test), 4))\n",
    "    for i in range(len(X_test)):\n",
    "        y_test[i, labels[i]-1] = 1\n",
    "\n",
    "    EPOCHS = 5\n",
    "    BATCH_SIZE = 128\n",
    "\n",
    "    model = tf.keras.Sequential()\n",
    "    model.add(tf.keras.layers.Dense(70, activation=tf.nn.swish,input_shape=(X_train.shape[1],)))\n",
    "    model.add(tf.keras.layers.Dense(4, activation=tf.nn.sigmoid))\n",
    "\n",
    "    # Compile and print out summary of model\n",
    "    model.compile(loss='categorical_crossentropy', \n",
    "                  optimizer='adam',\n",
    "                 metrics=['accuracy'])\n",
    "\n",
    "    model.fit(X_train, y_train, epochs=EPOCHS, batch_size=BATCH_SIZE)\n",
    "    (test_loss, test_acc) = model.evaluate(X_test, y_test)\n",
    "    print('Accuracy:', test_acc)\n",
    "    accs.append(test_acc)\n",
    "    print(\"============================================\")\n",
    "    fold_no+=1"
   ]
  },
  {
   "cell_type": "code",
   "execution_count": null,
   "metadata": {},
   "outputs": [],
   "source": []
  },
  {
   "cell_type": "code",
   "execution_count": 24,
   "metadata": {},
   "outputs": [],
   "source": [
    "grouped_sev = []\n",
    "for i in data[\"Severity\"].values:\n",
    "    if i == 1 or i == 2:\n",
    "        grouped_sev.append(0)\n",
    "    else:\n",
    "        grouped_sev.append(1)\n",
    "\n",
    "data[\"Grouped_Severity\"] = grouped_sev"
   ]
  },
  {
   "cell_type": "code",
   "execution_count": 30,
   "metadata": {
    "scrolled": true
   },
   "outputs": [
    {
     "name": "stdout",
     "output_type": "stream",
     "text": [
      "FOLD NUMBER =  1\n",
      "Epoch 1/10\n",
      "1948266/1948266 [==============================] - 10s 5us/sample - loss: 0.5305 - acc: 0.7190\n",
      "Epoch 2/10\n",
      "1948266/1948266 [==============================] - 10s 5us/sample - loss: 0.5176 - acc: 0.7280\n",
      "Epoch 3/10\n",
      "1948266/1948266 [==============================] - 10s 5us/sample - loss: 0.5127 - acc: 0.7323\n",
      "Epoch 4/10\n",
      "1948266/1948266 [==============================] - 10s 5us/sample - loss: 0.5102 - acc: 0.7348\n",
      "Epoch 5/10\n",
      "1948266/1948266 [==============================] - 10s 5us/sample - loss: 0.5087 - acc: 0.7358\n",
      "Epoch 6/10\n",
      "1948266/1948266 [==============================] - 10s 5us/sample - loss: 0.5077 - acc: 0.7368\n",
      "Epoch 7/10\n",
      "1948266/1948266 [==============================] - 10s 5us/sample - loss: 0.5067 - acc: 0.7377\n",
      "Epoch 8/10\n",
      "1948266/1948266 [==============================] - 10s 5us/sample - loss: 0.5058 - acc: 0.7384\n",
      "Epoch 9/10\n",
      "1948266/1948266 [==============================] - 10s 5us/sample - loss: 0.5050 - acc: 0.7389\n",
      "Epoch 10/10\n",
      "1948266/1948266 [==============================] - 10s 5us/sample - loss: 0.5044 - acc: 0.7395\n",
      "974134/974134 [==============================] - 8s 8us/sample - loss: 0.5241 - acc: 0.7241\n",
      "Accuracy: 0.724076\n",
      "============================================\n",
      "FOLD NUMBER =  2\n",
      "Epoch 1/10\n",
      " 917248/1948267 [=============>................] - ETA: 5s - loss: 0.5447 - acc: 0.7153"
     ]
    },
    {
     "ename": "KeyboardInterrupt",
     "evalue": "",
     "output_type": "error",
     "traceback": [
      "\u001b[1;31m---------------------------------------------------------------------------\u001b[0m",
      "\u001b[1;31mKeyboardInterrupt\u001b[0m                         Traceback (most recent call last)",
      "\u001b[1;32m<ipython-input-30-62a66cf72760>\u001b[0m in \u001b[0;36m<module>\u001b[1;34m\u001b[0m\n\u001b[0;32m     35\u001b[0m     \u001b[0mmodel\u001b[0m\u001b[1;33m.\u001b[0m\u001b[0mcompile\u001b[0m\u001b[1;33m(\u001b[0m\u001b[0mloss\u001b[0m\u001b[1;33m=\u001b[0m\u001b[1;34m'binary_crossentropy'\u001b[0m\u001b[1;33m,\u001b[0m \u001b[0moptimizer\u001b[0m\u001b[1;33m=\u001b[0m\u001b[1;34m'adam'\u001b[0m\u001b[1;33m,\u001b[0m \u001b[0mmetrics\u001b[0m\u001b[1;33m=\u001b[0m\u001b[1;33m[\u001b[0m\u001b[1;34m'accuracy'\u001b[0m\u001b[1;33m]\u001b[0m\u001b[1;33m)\u001b[0m\u001b[1;33m\u001b[0m\u001b[1;33m\u001b[0m\u001b[0m\n\u001b[0;32m     36\u001b[0m \u001b[1;33m\u001b[0m\u001b[0m\n\u001b[1;32m---> 37\u001b[1;33m     \u001b[0mmodel\u001b[0m\u001b[1;33m.\u001b[0m\u001b[0mfit\u001b[0m\u001b[1;33m(\u001b[0m\u001b[0mX_train\u001b[0m\u001b[1;33m,\u001b[0m \u001b[0my_train\u001b[0m\u001b[1;33m,\u001b[0m \u001b[0mepochs\u001b[0m\u001b[1;33m=\u001b[0m\u001b[0mEPOCHS\u001b[0m\u001b[1;33m,\u001b[0m \u001b[0mbatch_size\u001b[0m\u001b[1;33m=\u001b[0m\u001b[0mBATCH_SIZE\u001b[0m\u001b[1;33m)\u001b[0m\u001b[1;33m\u001b[0m\u001b[1;33m\u001b[0m\u001b[0m\n\u001b[0m\u001b[0;32m     38\u001b[0m     \u001b[1;33m(\u001b[0m\u001b[0mtest_loss\u001b[0m\u001b[1;33m,\u001b[0m \u001b[0mtest_acc\u001b[0m\u001b[1;33m)\u001b[0m \u001b[1;33m=\u001b[0m \u001b[0mmodel\u001b[0m\u001b[1;33m.\u001b[0m\u001b[0mevaluate\u001b[0m\u001b[1;33m(\u001b[0m\u001b[0mX_test\u001b[0m\u001b[1;33m,\u001b[0m \u001b[0my_test\u001b[0m\u001b[1;33m)\u001b[0m\u001b[1;33m\u001b[0m\u001b[1;33m\u001b[0m\u001b[0m\n\u001b[0;32m     39\u001b[0m     \u001b[0mprint\u001b[0m\u001b[1;33m(\u001b[0m\u001b[1;34m'Accuracy:'\u001b[0m\u001b[1;33m,\u001b[0m \u001b[0mtest_acc\u001b[0m\u001b[1;33m)\u001b[0m\u001b[1;33m\u001b[0m\u001b[1;33m\u001b[0m\u001b[0m\n",
      "\u001b[1;32m~\\anaconda3\\lib\\site-packages\\tensorflow\\python\\keras\\engine\\training.py\u001b[0m in \u001b[0;36mfit\u001b[1;34m(self, x, y, batch_size, epochs, verbose, callbacks, validation_split, validation_data, shuffle, class_weight, sample_weight, initial_epoch, steps_per_epoch, validation_steps, validation_freq, max_queue_size, workers, use_multiprocessing, **kwargs)\u001b[0m\n\u001b[0;32m    778\u001b[0m           \u001b[0mvalidation_steps\u001b[0m\u001b[1;33m=\u001b[0m\u001b[0mvalidation_steps\u001b[0m\u001b[1;33m,\u001b[0m\u001b[1;33m\u001b[0m\u001b[1;33m\u001b[0m\u001b[0m\n\u001b[0;32m    779\u001b[0m           \u001b[0mvalidation_freq\u001b[0m\u001b[1;33m=\u001b[0m\u001b[0mvalidation_freq\u001b[0m\u001b[1;33m,\u001b[0m\u001b[1;33m\u001b[0m\u001b[1;33m\u001b[0m\u001b[0m\n\u001b[1;32m--> 780\u001b[1;33m           steps_name='steps_per_epoch')\n\u001b[0m\u001b[0;32m    781\u001b[0m \u001b[1;33m\u001b[0m\u001b[0m\n\u001b[0;32m    782\u001b[0m   def evaluate(self,\n",
      "\u001b[1;32m~\\anaconda3\\lib\\site-packages\\tensorflow\\python\\keras\\engine\\training_arrays.py\u001b[0m in \u001b[0;36mmodel_iteration\u001b[1;34m(model, inputs, targets, sample_weights, batch_size, epochs, verbose, callbacks, val_inputs, val_targets, val_sample_weights, shuffle, initial_epoch, steps_per_epoch, validation_steps, validation_freq, mode, validation_in_fit, prepared_feed_values_from_dataset, steps_name, **kwargs)\u001b[0m\n\u001b[0;32m    342\u001b[0m           \u001b[1;32mif\u001b[0m \u001b[0mins\u001b[0m \u001b[1;32mand\u001b[0m \u001b[0misinstance\u001b[0m\u001b[1;33m(\u001b[0m\u001b[0mins\u001b[0m\u001b[1;33m[\u001b[0m\u001b[1;33m-\u001b[0m\u001b[1;36m1\u001b[0m\u001b[1;33m]\u001b[0m\u001b[1;33m,\u001b[0m \u001b[0mint\u001b[0m\u001b[1;33m)\u001b[0m\u001b[1;33m:\u001b[0m\u001b[1;33m\u001b[0m\u001b[1;33m\u001b[0m\u001b[0m\n\u001b[0;32m    343\u001b[0m             \u001b[1;31m# Do not slice the training phase flag.\u001b[0m\u001b[1;33m\u001b[0m\u001b[1;33m\u001b[0m\u001b[1;33m\u001b[0m\u001b[0m\n\u001b[1;32m--> 344\u001b[1;33m             \u001b[0mins_batch\u001b[0m \u001b[1;33m=\u001b[0m \u001b[0mslice_arrays\u001b[0m\u001b[1;33m(\u001b[0m\u001b[0mins\u001b[0m\u001b[1;33m[\u001b[0m\u001b[1;33m:\u001b[0m\u001b[1;33m-\u001b[0m\u001b[1;36m1\u001b[0m\u001b[1;33m]\u001b[0m\u001b[1;33m,\u001b[0m \u001b[0mbatch_ids\u001b[0m\u001b[1;33m)\u001b[0m \u001b[1;33m+\u001b[0m \u001b[1;33m[\u001b[0m\u001b[0mins\u001b[0m\u001b[1;33m[\u001b[0m\u001b[1;33m-\u001b[0m\u001b[1;36m1\u001b[0m\u001b[1;33m]\u001b[0m\u001b[1;33m]\u001b[0m\u001b[1;33m\u001b[0m\u001b[1;33m\u001b[0m\u001b[0m\n\u001b[0m\u001b[0;32m    345\u001b[0m           \u001b[1;32melse\u001b[0m\u001b[1;33m:\u001b[0m\u001b[1;33m\u001b[0m\u001b[1;33m\u001b[0m\u001b[0m\n\u001b[0;32m    346\u001b[0m             \u001b[0mins_batch\u001b[0m \u001b[1;33m=\u001b[0m \u001b[0mslice_arrays\u001b[0m\u001b[1;33m(\u001b[0m\u001b[0mins\u001b[0m\u001b[1;33m,\u001b[0m \u001b[0mbatch_ids\u001b[0m\u001b[1;33m)\u001b[0m\u001b[1;33m\u001b[0m\u001b[1;33m\u001b[0m\u001b[0m\n",
      "\u001b[1;32m~\\anaconda3\\lib\\site-packages\\tensorflow\\python\\keras\\utils\\generic_utils.py\u001b[0m in \u001b[0;36mslice_arrays\u001b[1;34m(arrays, start, stop)\u001b[0m\n\u001b[0;32m    529\u001b[0m       \u001b[1;32mif\u001b[0m \u001b[0mhasattr\u001b[0m\u001b[1;33m(\u001b[0m\u001b[0mstart\u001b[0m\u001b[1;33m,\u001b[0m \u001b[1;34m'shape'\u001b[0m\u001b[1;33m)\u001b[0m\u001b[1;33m:\u001b[0m\u001b[1;33m\u001b[0m\u001b[1;33m\u001b[0m\u001b[0m\n\u001b[0;32m    530\u001b[0m         \u001b[0mstart\u001b[0m \u001b[1;33m=\u001b[0m \u001b[0mstart\u001b[0m\u001b[1;33m.\u001b[0m\u001b[0mtolist\u001b[0m\u001b[1;33m(\u001b[0m\u001b[1;33m)\u001b[0m\u001b[1;33m\u001b[0m\u001b[1;33m\u001b[0m\u001b[0m\n\u001b[1;32m--> 531\u001b[1;33m       \u001b[1;32mreturn\u001b[0m \u001b[1;33m[\u001b[0m\u001b[1;32mNone\u001b[0m \u001b[1;32mif\u001b[0m \u001b[0mx\u001b[0m \u001b[1;32mis\u001b[0m \u001b[1;32mNone\u001b[0m \u001b[1;32melse\u001b[0m \u001b[0mx\u001b[0m\u001b[1;33m[\u001b[0m\u001b[0mstart\u001b[0m\u001b[1;33m]\u001b[0m \u001b[1;32mfor\u001b[0m \u001b[0mx\u001b[0m \u001b[1;32min\u001b[0m \u001b[0marrays\u001b[0m\u001b[1;33m]\u001b[0m\u001b[1;33m\u001b[0m\u001b[1;33m\u001b[0m\u001b[0m\n\u001b[0m\u001b[0;32m    532\u001b[0m     \u001b[1;32melse\u001b[0m\u001b[1;33m:\u001b[0m\u001b[1;33m\u001b[0m\u001b[1;33m\u001b[0m\u001b[0m\n\u001b[0;32m    533\u001b[0m       \u001b[1;32mreturn\u001b[0m \u001b[1;33m[\u001b[0m\u001b[1;32mNone\u001b[0m \u001b[1;32mif\u001b[0m \u001b[0mx\u001b[0m \u001b[1;32mis\u001b[0m \u001b[1;32mNone\u001b[0m \u001b[1;32melse\u001b[0m \u001b[0mx\u001b[0m\u001b[1;33m[\u001b[0m\u001b[0mstart\u001b[0m\u001b[1;33m:\u001b[0m\u001b[0mstop\u001b[0m\u001b[1;33m]\u001b[0m \u001b[1;32mfor\u001b[0m \u001b[0mx\u001b[0m \u001b[1;32min\u001b[0m \u001b[0marrays\u001b[0m\u001b[1;33m]\u001b[0m\u001b[1;33m\u001b[0m\u001b[1;33m\u001b[0m\u001b[0m\n",
      "\u001b[1;32m~\\anaconda3\\lib\\site-packages\\tensorflow\\python\\keras\\utils\\generic_utils.py\u001b[0m in \u001b[0;36m<listcomp>\u001b[1;34m(.0)\u001b[0m\n\u001b[0;32m    529\u001b[0m       \u001b[1;32mif\u001b[0m \u001b[0mhasattr\u001b[0m\u001b[1;33m(\u001b[0m\u001b[0mstart\u001b[0m\u001b[1;33m,\u001b[0m \u001b[1;34m'shape'\u001b[0m\u001b[1;33m)\u001b[0m\u001b[1;33m:\u001b[0m\u001b[1;33m\u001b[0m\u001b[1;33m\u001b[0m\u001b[0m\n\u001b[0;32m    530\u001b[0m         \u001b[0mstart\u001b[0m \u001b[1;33m=\u001b[0m \u001b[0mstart\u001b[0m\u001b[1;33m.\u001b[0m\u001b[0mtolist\u001b[0m\u001b[1;33m(\u001b[0m\u001b[1;33m)\u001b[0m\u001b[1;33m\u001b[0m\u001b[1;33m\u001b[0m\u001b[0m\n\u001b[1;32m--> 531\u001b[1;33m       \u001b[1;32mreturn\u001b[0m \u001b[1;33m[\u001b[0m\u001b[1;32mNone\u001b[0m \u001b[1;32mif\u001b[0m \u001b[0mx\u001b[0m \u001b[1;32mis\u001b[0m \u001b[1;32mNone\u001b[0m \u001b[1;32melse\u001b[0m \u001b[0mx\u001b[0m\u001b[1;33m[\u001b[0m\u001b[0mstart\u001b[0m\u001b[1;33m]\u001b[0m \u001b[1;32mfor\u001b[0m \u001b[0mx\u001b[0m \u001b[1;32min\u001b[0m \u001b[0marrays\u001b[0m\u001b[1;33m]\u001b[0m\u001b[1;33m\u001b[0m\u001b[1;33m\u001b[0m\u001b[0m\n\u001b[0m\u001b[0;32m    532\u001b[0m     \u001b[1;32melse\u001b[0m\u001b[1;33m:\u001b[0m\u001b[1;33m\u001b[0m\u001b[1;33m\u001b[0m\u001b[0m\n\u001b[0;32m    533\u001b[0m       \u001b[1;32mreturn\u001b[0m \u001b[1;33m[\u001b[0m\u001b[1;32mNone\u001b[0m \u001b[1;32mif\u001b[0m \u001b[0mx\u001b[0m \u001b[1;32mis\u001b[0m \u001b[1;32mNone\u001b[0m \u001b[1;32melse\u001b[0m \u001b[0mx\u001b[0m\u001b[1;33m[\u001b[0m\u001b[0mstart\u001b[0m\u001b[1;33m:\u001b[0m\u001b[0mstop\u001b[0m\u001b[1;33m]\u001b[0m \u001b[1;32mfor\u001b[0m \u001b[0mx\u001b[0m \u001b[1;32min\u001b[0m \u001b[0marrays\u001b[0m\u001b[1;33m]\u001b[0m\u001b[1;33m\u001b[0m\u001b[1;33m\u001b[0m\u001b[0m\n",
      "\u001b[1;31mKeyboardInterrupt\u001b[0m: "
     ]
    }
   ],
   "source": [
    "from sklearn.model_selection import StratifiedKFold\n",
    "\n",
    "labels = data['Grouped_Severity']\n",
    "X = data.drop(['Severity',\"Grouped_Severity\"], axis=1)\n",
    "\n",
    "scaler=MinMaxScaler(feature_range=(0,1))\n",
    "X = scaler.fit_transform(X)\n",
    "\n",
    "skf = StratifiedKFold(n_splits=3, random_state=30034, shuffle=False)\n",
    "\n",
    "fold_no = 1\n",
    "accs = []  # store each accuracy\n",
    "\n",
    "\n",
    "for train_index, test_index in skf.split(X, labels):\n",
    "\n",
    "    # One hot encode labels\n",
    "    print(\"FOLD NUMBER = \", str(fold_no))\n",
    "\n",
    "\n",
    "    X_train = X[train_index]\n",
    "    X_test = X[test_index]\n",
    "\n",
    "    y_train = labels[train_index]\n",
    "    y_test = labels[test_index]\n",
    "\n",
    "    EPOCHS = 10\n",
    "    BATCH_SIZE = 128\n",
    "\n",
    "    \n",
    "    model = tf.keras.Sequential()\n",
    "    model.add(tf.keras.layers.Dense(40, input_dim=X_train.shape[1], activation='relu'))\n",
    "    model.add(tf.keras.layers.Dense(1, activation='sigmoid'))\n",
    "    # Compile model\n",
    "    model.compile(loss='binary_crossentropy', optimizer='adam', metrics=['accuracy'])\n",
    "\n",
    "    model.fit(X_train, y_train, epochs=EPOCHS, batch_size=BATCH_SIZE)\n",
    "    (test_loss, test_acc) = model.evaluate(X_test, y_test)\n",
    "    print('Accuracy:', test_acc)\n",
    "    accs.append(test_acc)\n",
    "    print(\"============================================\")\n",
    "    fold_no+=1"
   ]
  },
  {
   "cell_type": "code",
   "execution_count": 31,
   "metadata": {
    "scrolled": true
   },
   "outputs": [
    {
     "name": "stdout",
     "output_type": "stream",
     "text": [
      "FOLD NUMBER =  1\n",
      "Epoch 1/10\n",
      "1948266/1948266 [==============================] - 10s 5us/sample - loss: 0.5316 - acc: 0.71850s - loss: 0.5318 - acc: 0\n",
      "Epoch 2/10\n",
      "1948266/1948266 [==============================] - 10s 5us/sample - loss: 0.5198 - acc: 0.7264\n",
      "Epoch 3/10\n",
      "1948266/1948266 [==============================] - 11s 5us/sample - loss: 0.5148 - acc: 0.7301\n",
      "Epoch 4/10\n",
      "1948266/1948266 [==============================] - 11s 5us/sample - loss: 0.5124 - acc: 0.7326\n",
      "Epoch 5/10\n",
      "1948266/1948266 [==============================] - 10s 5us/sample - loss: 0.5108 - acc: 0.7339\n",
      "Epoch 6/10\n",
      "1948266/1948266 [==============================] - 11s 6us/sample - loss: 0.5095 - acc: 0.7351\n",
      "Epoch 7/10\n",
      "1948266/1948266 [==============================] - 11s 6us/sample - loss: 0.5085 - acc: 0.7357\n",
      "Epoch 8/10\n",
      "1948266/1948266 [==============================] - 11s 6us/sample - loss: 0.5077 - acc: 0.7364\n",
      "Epoch 9/10\n",
      "1948266/1948266 [==============================] - 11s 6us/sample - loss: 0.5071 - acc: 0.7370\n",
      "Epoch 10/10\n",
      "1948266/1948266 [==============================] - 10s 5us/sample - loss: 0.5064 - acc: 0.7372\n",
      "974134/974134 [==============================] - 10s 10us/sample - loss: 0.5366 - acc: 0.7198\n",
      "Accuracy: 0.71984965\n",
      "============================================\n",
      "FOLD NUMBER =  2\n",
      "Epoch 1/10\n",
      "1948267/1948267 [==============================] - 11s 6us/sample - loss: 0.5387 - acc: 0.7182\n",
      "Epoch 2/10\n",
      "1948267/1948267 [==============================] - 11s 6us/sample - loss: 0.5275 - acc: 0.7260\n",
      "Epoch 3/10\n",
      "1547904/1948267 [======================>.......] - ETA: 2s - loss: 0.5236 - acc: 0.7282"
     ]
    },
    {
     "ename": "KeyboardInterrupt",
     "evalue": "",
     "output_type": "error",
     "traceback": [
      "\u001b[1;31m---------------------------------------------------------------------------\u001b[0m",
      "\u001b[1;31mKeyboardInterrupt\u001b[0m                         Traceback (most recent call last)",
      "\u001b[1;32m<ipython-input-31-18217d1f1aa3>\u001b[0m in \u001b[0;36m<module>\u001b[1;34m\u001b[0m\n\u001b[0;32m     46\u001b[0m     \u001b[0mmodel\u001b[0m\u001b[1;33m.\u001b[0m\u001b[0mcompile\u001b[0m\u001b[1;33m(\u001b[0m\u001b[0mloss\u001b[0m\u001b[1;33m=\u001b[0m\u001b[1;34m'binary_crossentropy'\u001b[0m\u001b[1;33m,\u001b[0m \u001b[0moptimizer\u001b[0m\u001b[1;33m=\u001b[0m\u001b[1;34m'adam'\u001b[0m\u001b[1;33m,\u001b[0m \u001b[0mmetrics\u001b[0m\u001b[1;33m=\u001b[0m\u001b[1;33m[\u001b[0m\u001b[1;34m'accuracy'\u001b[0m\u001b[1;33m]\u001b[0m\u001b[1;33m)\u001b[0m\u001b[1;33m\u001b[0m\u001b[1;33m\u001b[0m\u001b[0m\n\u001b[0;32m     47\u001b[0m \u001b[1;33m\u001b[0m\u001b[0m\n\u001b[1;32m---> 48\u001b[1;33m     \u001b[0mmodel\u001b[0m\u001b[1;33m.\u001b[0m\u001b[0mfit\u001b[0m\u001b[1;33m(\u001b[0m\u001b[0mX_train\u001b[0m\u001b[1;33m,\u001b[0m \u001b[0my_train\u001b[0m\u001b[1;33m,\u001b[0m \u001b[0mepochs\u001b[0m\u001b[1;33m=\u001b[0m\u001b[0mEPOCHS\u001b[0m\u001b[1;33m,\u001b[0m \u001b[0mbatch_size\u001b[0m\u001b[1;33m=\u001b[0m\u001b[0mBATCH_SIZE\u001b[0m\u001b[1;33m)\u001b[0m\u001b[1;33m\u001b[0m\u001b[1;33m\u001b[0m\u001b[0m\n\u001b[0m\u001b[0;32m     49\u001b[0m     \u001b[1;33m(\u001b[0m\u001b[0mtest_loss\u001b[0m\u001b[1;33m,\u001b[0m \u001b[0mtest_acc\u001b[0m\u001b[1;33m)\u001b[0m \u001b[1;33m=\u001b[0m \u001b[0mmodel\u001b[0m\u001b[1;33m.\u001b[0m\u001b[0mevaluate\u001b[0m\u001b[1;33m(\u001b[0m\u001b[0mX_test\u001b[0m\u001b[1;33m,\u001b[0m \u001b[0my_test\u001b[0m\u001b[1;33m)\u001b[0m\u001b[1;33m\u001b[0m\u001b[1;33m\u001b[0m\u001b[0m\n\u001b[0;32m     50\u001b[0m     \u001b[0mprint\u001b[0m\u001b[1;33m(\u001b[0m\u001b[1;34m'Accuracy:'\u001b[0m\u001b[1;33m,\u001b[0m \u001b[0mtest_acc\u001b[0m\u001b[1;33m)\u001b[0m\u001b[1;33m\u001b[0m\u001b[1;33m\u001b[0m\u001b[0m\n",
      "\u001b[1;32m~\\anaconda3\\lib\\site-packages\\tensorflow\\python\\keras\\engine\\training.py\u001b[0m in \u001b[0;36mfit\u001b[1;34m(self, x, y, batch_size, epochs, verbose, callbacks, validation_split, validation_data, shuffle, class_weight, sample_weight, initial_epoch, steps_per_epoch, validation_steps, validation_freq, max_queue_size, workers, use_multiprocessing, **kwargs)\u001b[0m\n\u001b[0;32m    778\u001b[0m           \u001b[0mvalidation_steps\u001b[0m\u001b[1;33m=\u001b[0m\u001b[0mvalidation_steps\u001b[0m\u001b[1;33m,\u001b[0m\u001b[1;33m\u001b[0m\u001b[1;33m\u001b[0m\u001b[0m\n\u001b[0;32m    779\u001b[0m           \u001b[0mvalidation_freq\u001b[0m\u001b[1;33m=\u001b[0m\u001b[0mvalidation_freq\u001b[0m\u001b[1;33m,\u001b[0m\u001b[1;33m\u001b[0m\u001b[1;33m\u001b[0m\u001b[0m\n\u001b[1;32m--> 780\u001b[1;33m           steps_name='steps_per_epoch')\n\u001b[0m\u001b[0;32m    781\u001b[0m \u001b[1;33m\u001b[0m\u001b[0m\n\u001b[0;32m    782\u001b[0m   def evaluate(self,\n",
      "\u001b[1;32m~\\anaconda3\\lib\\site-packages\\tensorflow\\python\\keras\\engine\\training_arrays.py\u001b[0m in \u001b[0;36mmodel_iteration\u001b[1;34m(model, inputs, targets, sample_weights, batch_size, epochs, verbose, callbacks, val_inputs, val_targets, val_sample_weights, shuffle, initial_epoch, steps_per_epoch, validation_steps, validation_freq, mode, validation_in_fit, prepared_feed_values_from_dataset, steps_name, **kwargs)\u001b[0m\n\u001b[0;32m    361\u001b[0m \u001b[1;33m\u001b[0m\u001b[0m\n\u001b[0;32m    362\u001b[0m         \u001b[1;31m# Get outputs.\u001b[0m\u001b[1;33m\u001b[0m\u001b[1;33m\u001b[0m\u001b[1;33m\u001b[0m\u001b[0m\n\u001b[1;32m--> 363\u001b[1;33m         \u001b[0mbatch_outs\u001b[0m \u001b[1;33m=\u001b[0m \u001b[0mf\u001b[0m\u001b[1;33m(\u001b[0m\u001b[0mins_batch\u001b[0m\u001b[1;33m)\u001b[0m\u001b[1;33m\u001b[0m\u001b[1;33m\u001b[0m\u001b[0m\n\u001b[0m\u001b[0;32m    364\u001b[0m         \u001b[1;32mif\u001b[0m \u001b[1;32mnot\u001b[0m \u001b[0misinstance\u001b[0m\u001b[1;33m(\u001b[0m\u001b[0mbatch_outs\u001b[0m\u001b[1;33m,\u001b[0m \u001b[0mlist\u001b[0m\u001b[1;33m)\u001b[0m\u001b[1;33m:\u001b[0m\u001b[1;33m\u001b[0m\u001b[1;33m\u001b[0m\u001b[0m\n\u001b[0;32m    365\u001b[0m           \u001b[0mbatch_outs\u001b[0m \u001b[1;33m=\u001b[0m \u001b[1;33m[\u001b[0m\u001b[0mbatch_outs\u001b[0m\u001b[1;33m]\u001b[0m\u001b[1;33m\u001b[0m\u001b[1;33m\u001b[0m\u001b[0m\n",
      "\u001b[1;32m~\\anaconda3\\lib\\site-packages\\tensorflow\\python\\keras\\backend.py\u001b[0m in \u001b[0;36m__call__\u001b[1;34m(self, inputs)\u001b[0m\n\u001b[0;32m   3290\u001b[0m \u001b[1;33m\u001b[0m\u001b[0m\n\u001b[0;32m   3291\u001b[0m     fetched = self._callable_fn(*array_vals,\n\u001b[1;32m-> 3292\u001b[1;33m                                 run_metadata=self.run_metadata)\n\u001b[0m\u001b[0;32m   3293\u001b[0m     \u001b[0mself\u001b[0m\u001b[1;33m.\u001b[0m\u001b[0m_call_fetch_callbacks\u001b[0m\u001b[1;33m(\u001b[0m\u001b[0mfetched\u001b[0m\u001b[1;33m[\u001b[0m\u001b[1;33m-\u001b[0m\u001b[0mlen\u001b[0m\u001b[1;33m(\u001b[0m\u001b[0mself\u001b[0m\u001b[1;33m.\u001b[0m\u001b[0m_fetches\u001b[0m\u001b[1;33m)\u001b[0m\u001b[1;33m:\u001b[0m\u001b[1;33m]\u001b[0m\u001b[1;33m)\u001b[0m\u001b[1;33m\u001b[0m\u001b[1;33m\u001b[0m\u001b[0m\n\u001b[0;32m   3294\u001b[0m     output_structure = nest.pack_sequence_as(\n",
      "\u001b[1;32m~\\anaconda3\\lib\\site-packages\\tensorflow\\python\\client\\session.py\u001b[0m in \u001b[0;36m__call__\u001b[1;34m(self, *args, **kwargs)\u001b[0m\n\u001b[0;32m   1456\u001b[0m         ret = tf_session.TF_SessionRunCallable(self._session._session,\n\u001b[0;32m   1457\u001b[0m                                                \u001b[0mself\u001b[0m\u001b[1;33m.\u001b[0m\u001b[0m_handle\u001b[0m\u001b[1;33m,\u001b[0m \u001b[0margs\u001b[0m\u001b[1;33m,\u001b[0m\u001b[1;33m\u001b[0m\u001b[1;33m\u001b[0m\u001b[0m\n\u001b[1;32m-> 1458\u001b[1;33m                                                run_metadata_ptr)\n\u001b[0m\u001b[0;32m   1459\u001b[0m         \u001b[1;32mif\u001b[0m \u001b[0mrun_metadata\u001b[0m\u001b[1;33m:\u001b[0m\u001b[1;33m\u001b[0m\u001b[1;33m\u001b[0m\u001b[0m\n\u001b[0;32m   1460\u001b[0m           \u001b[0mproto_data\u001b[0m \u001b[1;33m=\u001b[0m \u001b[0mtf_session\u001b[0m\u001b[1;33m.\u001b[0m\u001b[0mTF_GetBuffer\u001b[0m\u001b[1;33m(\u001b[0m\u001b[0mrun_metadata_ptr\u001b[0m\u001b[1;33m)\u001b[0m\u001b[1;33m\u001b[0m\u001b[1;33m\u001b[0m\u001b[0m\n",
      "\u001b[1;31mKeyboardInterrupt\u001b[0m: "
     ]
    }
   ],
   "source": [
    "data = feather.read_dataframe(\"{}_numeric_v2.feather\".format(FILENAME))\n",
    "\n",
    "grouped_sev = []\n",
    "for i in data[\"Severity\"].values:\n",
    "    if i == 1 or i == 2:\n",
    "        grouped_sev.append(0)\n",
    "    else:\n",
    "        grouped_sev.append(1)\n",
    "\n",
    "data[\"Grouped_Severity\"] = grouped_sev\n",
    "\n",
    "from sklearn.model_selection import StratifiedKFold\n",
    "\n",
    "labels = data['Grouped_Severity']\n",
    "X = data.drop(['Severity',\"Grouped_Severity\"], axis=1)\n",
    "\n",
    "scaler=MinMaxScaler(feature_range=(0,1))\n",
    "X = scaler.fit_transform(X)\n",
    "\n",
    "skf = StratifiedKFold(n_splits=3, random_state=30034, shuffle=False)\n",
    "\n",
    "fold_no = 1\n",
    "accs = []  # store each accuracy\n",
    "\n",
    "\n",
    "for train_index, test_index in skf.split(X, labels):\n",
    "\n",
    "    # One hot encode labels\n",
    "    print(\"FOLD NUMBER = \", str(fold_no))\n",
    "\n",
    "\n",
    "    X_train = X[train_index]\n",
    "    X_test = X[test_index]\n",
    "\n",
    "    y_train = labels[train_index]\n",
    "    y_test = labels[test_index]\n",
    "\n",
    "    EPOCHS = 10\n",
    "    BATCH_SIZE = 128\n",
    "\n",
    "    \n",
    "    model = tf.keras.Sequential()\n",
    "    model.add(tf.keras.layers.Dense(40, input_dim=X_train.shape[1], activation='relu'))\n",
    "    model.add(tf.keras.layers.Dense(1, activation='sigmoid'))\n",
    "    # Compile model\n",
    "    model.compile(loss='binary_crossentropy', optimizer='adam', metrics=['accuracy'])\n",
    "\n",
    "    model.fit(X_train, y_train, epochs=EPOCHS, batch_size=BATCH_SIZE)\n",
    "    (test_loss, test_acc) = model.evaluate(X_test, y_test)\n",
    "    print('Accuracy:', test_acc)\n",
    "    accs.append(test_acc)\n",
    "    print(\"============================================\")\n",
    "    fold_no+=1"
   ]
  },
  {
   "cell_type": "code",
   "execution_count": 33,
   "metadata": {},
   "outputs": [
    {
     "data": {
      "image/png": "[encoded data removed]",
      "text/plain": [
       "<Figure size 1080x1440 with 12 Axes>"
      ]
     },
     "metadata": {},
     "output_type": "display_data"
    }
   ],
   "source": [
    "cols = ['Temperature(F)', 'Humidity(%)', 'Pressure(in)', 'Visibility(mi)', \n",
    "        'Wind_Speed(mph)', 'Precipitation(in)',\n",
    "       'Population_County', 'Drive_County', 'Transit_County', 'Walk_County', 'MedianHouseholdIncome_County']\n",
    "\n",
    "sns.set_style('darkgrid')\n",
    "f, axes = plt.subplots(6,2, figsize=(15,20))\n",
    "y = 0;\n",
    "for name in cols[1:]:\n",
    "    i, j = divmod(y, 2)\n",
    "    sns.boxplot(x=data[name], ax=axes[i, j])\n",
    "    y = y+1\n",
    "\n",
    "plt.tight_layout()\n",
    "plt.show()"
   ]
  },
  {
   "cell_type": "code",
   "execution_count": null,
   "metadata": {},
   "outputs": [],
   "source": []
  }
 ],
 "metadata": {
  "kernelspec": {
   "display_name": "Python 3",
   "language": "python",
   "name": "python3"
  },
  "language_info": {
   "codemirror_mode": {
    "name": "ipython",
    "version": 3
   },
   "file_extension": ".py",
   "mimetype": "text/x-python",
   "name": "python",
   "nbconvert_exporter": "python",
   "pygments_lexer": "ipython3",
   "version": "3.7.1"
  }
 },
 "nbformat": 4,
 "nbformat_minor": 2
}
