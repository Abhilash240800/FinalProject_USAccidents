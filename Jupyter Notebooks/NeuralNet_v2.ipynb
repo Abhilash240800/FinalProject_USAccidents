{
 "cells": [
  {
   "cell_type": "code",
   "execution_count": 1,
   "metadata": {},
   "outputs": [
    {
     "name": "stderr",
     "output_type": "stream",
     "text": [
      "C:\\Users\\aufbpc\\anaconda3\\lib\\site-packages\\tensorflow\\python\\framework\\dtypes.py:516: FutureWarning: Passing (type, 1) or '1type' as a synonym of type is deprecated; in a future version of numpy, it will be understood as (type, (1,)) / '(1,)type'.\n",
      "  _np_qint8 = np.dtype([(\"qint8\", np.int8, 1)])\n",
      "C:\\Users\\aufbpc\\anaconda3\\lib\\site-packages\\tensorflow\\python\\framework\\dtypes.py:517: FutureWarning: Passing (type, 1) or '1type' as a synonym of type is deprecated; in a future version of numpy, it will be understood as (type, (1,)) / '(1,)type'.\n",
      "  _np_quint8 = np.dtype([(\"quint8\", np.uint8, 1)])\n",
      "C:\\Users\\aufbpc\\anaconda3\\lib\\site-packages\\tensorflow\\python\\framework\\dtypes.py:518: FutureWarning: Passing (type, 1) or '1type' as a synonym of type is deprecated; in a future version of numpy, it will be understood as (type, (1,)) / '(1,)type'.\n",
      "  _np_qint16 = np.dtype([(\"qint16\", np.int16, 1)])\n",
      "C:\\Users\\aufbpc\\anaconda3\\lib\\site-packages\\tensorflow\\python\\framework\\dtypes.py:519: FutureWarning: Passing (type, 1) or '1type' as a synonym of type is deprecated; in a future version of numpy, it will be understood as (type, (1,)) / '(1,)type'.\n",
      "  _np_quint16 = np.dtype([(\"quint16\", np.uint16, 1)])\n",
      "C:\\Users\\aufbpc\\anaconda3\\lib\\site-packages\\tensorflow\\python\\framework\\dtypes.py:520: FutureWarning: Passing (type, 1) or '1type' as a synonym of type is deprecated; in a future version of numpy, it will be understood as (type, (1,)) / '(1,)type'.\n",
      "  _np_qint32 = np.dtype([(\"qint32\", np.int32, 1)])\n",
      "C:\\Users\\aufbpc\\anaconda3\\lib\\site-packages\\tensorflow\\python\\framework\\dtypes.py:525: FutureWarning: Passing (type, 1) or '1type' as a synonym of type is deprecated; in a future version of numpy, it will be understood as (type, (1,)) / '(1,)type'.\n",
      "  np_resource = np.dtype([(\"resource\", np.ubyte, 1)])\n",
      "C:\\Users\\aufbpc\\anaconda3\\lib\\site-packages\\tensorboard\\compat\\tensorflow_stub\\dtypes.py:541: FutureWarning: Passing (type, 1) or '1type' as a synonym of type is deprecated; in a future version of numpy, it will be understood as (type, (1,)) / '(1,)type'.\n",
      "  _np_qint8 = np.dtype([(\"qint8\", np.int8, 1)])\n",
      "C:\\Users\\aufbpc\\anaconda3\\lib\\site-packages\\tensorboard\\compat\\tensorflow_stub\\dtypes.py:542: FutureWarning: Passing (type, 1) or '1type' as a synonym of type is deprecated; in a future version of numpy, it will be understood as (type, (1,)) / '(1,)type'.\n",
      "  _np_quint8 = np.dtype([(\"quint8\", np.uint8, 1)])\n",
      "C:\\Users\\aufbpc\\anaconda3\\lib\\site-packages\\tensorboard\\compat\\tensorflow_stub\\dtypes.py:543: FutureWarning: Passing (type, 1) or '1type' as a synonym of type is deprecated; in a future version of numpy, it will be understood as (type, (1,)) / '(1,)type'.\n",
      "  _np_qint16 = np.dtype([(\"qint16\", np.int16, 1)])\n",
      "C:\\Users\\aufbpc\\anaconda3\\lib\\site-packages\\tensorboard\\compat\\tensorflow_stub\\dtypes.py:544: FutureWarning: Passing (type, 1) or '1type' as a synonym of type is deprecated; in a future version of numpy, it will be understood as (type, (1,)) / '(1,)type'.\n",
      "  _np_quint16 = np.dtype([(\"quint16\", np.uint16, 1)])\n",
      "C:\\Users\\aufbpc\\anaconda3\\lib\\site-packages\\tensorboard\\compat\\tensorflow_stub\\dtypes.py:545: FutureWarning: Passing (type, 1) or '1type' as a synonym of type is deprecated; in a future version of numpy, it will be understood as (type, (1,)) / '(1,)type'.\n",
      "  _np_qint32 = np.dtype([(\"qint32\", np.int32, 1)])\n",
      "C:\\Users\\aufbpc\\anaconda3\\lib\\site-packages\\tensorboard\\compat\\tensorflow_stub\\dtypes.py:550: FutureWarning: Passing (type, 1) or '1type' as a synonym of type is deprecated; in a future version of numpy, it will be understood as (type, (1,)) / '(1,)type'.\n",
      "  np_resource = np.dtype([(\"resource\", np.ubyte, 1)])\n"
     ]
    }
   ],
   "source": [
    "import pandas\n",
    "import numpy as np\n",
    "import pandas as pd\n",
    "from sklearn.preprocessing import OneHotEncoder, MinMaxScaler\n",
    "from sklearn.model_selection import train_test_split\n",
    "from sklearn.feature_selection import SelectKBest, chi2, mutual_info_classif\n",
    "from sklearn.metrics import accuracy_score, confusion_matrix\n",
    "from sklearn.model_selection import StratifiedKFold\n",
    "from collections import Counter\n",
    "import time\n",
    "import seaborn as sns\n",
    "from matplotlib import pyplot as plt\n",
    "\n",
    "import tensorflow as tf\n",
    "#from keras.utils import to_categorical\n",
    "import feather\n",
    "import random\n",
    "from datetime import *\n",
    "import warnings\n",
    "warnings.filterwarnings(\"ignore\")"
   ]
  },
  {
   "cell_type": "code",
   "execution_count": 2,
   "metadata": {},
   "outputs": [],
   "source": [
    "FILENAME = \"Datasets/final_datasets/merged_data\""
   ]
  },
  {
   "cell_type": "code",
   "execution_count": 3,
   "metadata": {},
   "outputs": [],
   "source": [
    "data = feather.read_dataframe(f\"{FILENAME}.feather\")"
   ]
  },
  {
   "cell_type": "code",
   "execution_count": 4,
   "metadata": {},
   "outputs": [],
   "source": [
    "# Remove those one-hot encoded columns in the dataset created by Abhi\n",
    "\n",
    "def in_name(c, one_hots):\n",
    "    for col_name in one_hots:\n",
    "        if c.startswith(f\"{col_name}_\"):\n",
    "            return True\n",
    "    return False\n",
    "\n",
    "one_hots = ['Wind_Direction', 'Timezone','State', 'Weather_Condition']\n",
    "remove = [col for col in data.columns if in_name(col, one_hots)]\n",
    "df = data.drop(remove, axis=1)\n"
   ]
  },
  {
   "cell_type": "code",
   "execution_count": 5,
   "metadata": {},
   "outputs": [
    {
     "name": "stdout",
     "output_type": "stream",
     "text": [
      "2922400\n"
     ]
    }
   ],
   "source": [
    "# Remove missing values\n",
    "df = df.dropna().reset_index(drop=True)\n",
    "print(len(df))"
   ]
  },
  {
   "cell_type": "code",
   "execution_count": 6,
   "metadata": {},
   "outputs": [],
   "source": [
    "df['Severity'] = df['Severity'].astype(int)"
   ]
  },
  {
   "cell_type": "markdown",
   "metadata": {},
   "source": [
    "# Clean categorical features"
   ]
  },
  {
   "cell_type": "markdown",
   "metadata": {},
   "source": [
    "### Clean wind direction"
   ]
  },
  {
   "cell_type": "markdown",
   "metadata": {},
   "source": [
    "* \"CALM\" = [\"Calm\", \"CALM\"]\n",
    "* \"W\" = [\"W\", \"West\", \"WSW\", \"WNW\"] \n",
    "* \"S\" = [\"S\", \"South\", \"SSW\", \"SSE\"] \n",
    "* \"N\" = [\"N\", \"North\", \"NNW\", \"NNE\"] \n",
    "* \"E\" = [\"E\", \"East\", \"ESE\", \"ENE\"]\n",
    "* \"VAR\" = [\"VAR\", \"Variable\"]"
   ]
  },
  {
   "cell_type": "code",
   "execution_count": 7,
   "metadata": {},
   "outputs": [
    {
     "name": "stdout",
     "output_type": "stream",
     "text": [
      "Wind Direction after simplification:  ['SW' 'S' 'W' 'NW' 'N' 'VAR' 'SE' 'E' 'NE' 'CALM']\n"
     ]
    }
   ],
   "source": [
    "df.loc[df['Wind_Direction']=='Calm','Wind_Direction'] = 'CALM'\n",
    "df.loc[(df['Wind_Direction']=='West')|(df['Wind_Direction']=='WSW')|(df['Wind_Direction']=='WNW'),'Wind_Direction'] = 'W'\n",
    "df.loc[(df['Wind_Direction']=='South')|(df['Wind_Direction']=='SSW')|(df['Wind_Direction']=='SSE'),'Wind_Direction'] = 'S'\n",
    "df.loc[(df['Wind_Direction']=='North')|(df['Wind_Direction']=='NNW')|(df['Wind_Direction']=='NNE'),'Wind_Direction'] = 'N'\n",
    "df.loc[(df['Wind_Direction']=='East')|(df['Wind_Direction']=='ESE')|(df['Wind_Direction']=='ENE'),'Wind_Direction'] = 'E'\n",
    "df.loc[df['Wind_Direction']=='Variable','Wind_Direction'] = 'VAR'\n",
    "print(\"Wind Direction after simplification: \", df['Wind_Direction'].unique())"
   ]
  },
  {
   "cell_type": "markdown",
   "metadata": {},
   "source": [
    "### Clean weather condition"
   ]
  },
  {
   "cell_type": "code",
   "execution_count": 8,
   "metadata": {
    "scrolled": true
   },
   "outputs": [
    {
     "data": {
      "text/plain": [
       "Counter({'Overcast': 314137,\n",
       "         'Mostly Cloudy': 432506,\n",
       "         'Light Rain': 150052,\n",
       "         'Light Snow': 46407,\n",
       "         'Haze': 29015,\n",
       "         'Scattered Clouds': 170312,\n",
       "         'Partly Cloudy': 306197,\n",
       "         'Clear': 597336,\n",
       "         'Snow': 5176,\n",
       "         'Light Freezing Drizzle': 716,\n",
       "         'Fog': 24155,\n",
       "         'Shallow Fog': 710,\n",
       "         'Rain': 32900,\n",
       "         'Heavy Rain': 13063,\n",
       "         'Light Freezing Rain': 1800,\n",
       "         'Cloudy': 205447,\n",
       "         'Smoke': 2831,\n",
       "         'Patches of Fog': 1487,\n",
       "         'Mist': 1395,\n",
       "         'Light Freezing Fog': 478,\n",
       "         'Light Thunderstorms and Rain': 3807,\n",
       "         'Light Drizzle': 9415,\n",
       "         'Thunderstorms and Rain': 1620,\n",
       "         'Fair': 523539,\n",
       "         'Blowing Dust / Windy': 115,\n",
       "         'Widespread Dust': 147,\n",
       "         'Fair / Windy': 7741,\n",
       "         'Drizzle': 1197,\n",
       "         'Light Rain / Windy': 1991,\n",
       "         'Heavy Drizzle': 162,\n",
       "         'Showers in the Vicinity': 238,\n",
       "         'Light Rain with Thunder': 2772,\n",
       "         'Mostly Cloudy / Windy': 4305,\n",
       "         'Partly Cloudy / Windy': 2717,\n",
       "         'Thunder in the Vicinity': 2776,\n",
       "         'T-Storm': 3331,\n",
       "         'Heavy Thunderstorms and Rain': 1986,\n",
       "         'Thunderstorm': 3829,\n",
       "         'Thunder': 2113,\n",
       "         'Heavy T-Storm': 1865,\n",
       "         'Heavy T-Storm / Windy': 237,\n",
       "         'Blowing Snow': 283,\n",
       "         'Heavy Snow': 1374,\n",
       "         'Light Ice Pellets': 240,\n",
       "         'N/A Precipitation': 328,\n",
       "         'Cloudy / Windy': 4138,\n",
       "         'Rain / Windy': 521,\n",
       "         'Heavy Rain / Windy': 291,\n",
       "         'Light Snow / Windy': 883,\n",
       "         'T-Storm / Windy': 188,\n",
       "         'Thunder / Windy': 112,\n",
       "         'Wintry Mix': 1653,\n",
       "         'Drizzle and Fog': 129,\n",
       "         'Haze / Windy': 125,\n",
       "         'Snow / Windy': 112})"
      ]
     },
     "execution_count": 8,
     "metadata": {},
     "output_type": "execute_result"
    }
   ],
   "source": [
    "Counter(df['Weather_Condition'])"
   ]
  },
  {
   "cell_type": "markdown",
   "metadata": {},
   "source": [
    "https://www.timeanddate.com/weather/glossary.html <br>\n",
    "\n",
    "**Create features according the different weather conditions** <br>\n",
    "Scattered clouds, partly cloudy = PARTLY CLOUDY <br>\n",
    "Overcast, Mostly cloudly, Cloudy = CLOUDY <br>\n",
    "Fair, Clear = CLEAR <br>\n",
    "Snow (light snow, heavy snow), and wintry mix  = SNOW <br>\n",
    "drizzle, light rain/drizzle, light freezing rain/drizzle = LIGHT RAIN <br>\n",
    "Heavy Rain, heavy thunderstorms, heavy t-storm = HEAVY RAIN <br>\n",
    "Haze, fog, mist, smoke = fog     *(see https://www.worldatlas.com/articles/what-are-the-differences-between-mist-haze-and-fog.html)*<br>\n",
    "Rain, light thunderstorms, thunderstorms, t-storm, thunder = RAIN <br>"
   ]
  },
  {
   "cell_type": "code",
   "execution_count": 9,
   "metadata": {},
   "outputs": [],
   "source": [
    "def get_condition(string):\n",
    "    \n",
    "    conditions = ['Clear', 'Partly Cloudy', 'Cloudy', 'Snow', 'Light Rain', 'Heavy Rain', 'Rain', 'Fog'] \n",
    "    strings = [['clear', 'fair'],\n",
    "              ['partly cloudy', 'scattered clouds'],\n",
    "              ['overcast', 'mostly cloudy', 'cloudy'],\n",
    "              ['snow', 'wintry mix'],\n",
    "              ['drizzle', 'light rain', 'light freezing rain'],\n",
    "              ['heavy rain', 'heavy thunderstorms', 'heavy t-storm'],\n",
    "              ['rain', 'thunderstorms', 't-storm', 'thunder', 'showers'],\n",
    "              ['fog', 'haze', 'mist', 'smoke']]\n",
    "\n",
    "    for j, k in enumerate(strings):\n",
    "        for val in k:\n",
    "            if val in string.lower():\n",
    "                return conditions[j]\n",
    "    return 'Others'"
   ]
  },
  {
   "cell_type": "code",
   "execution_count": 10,
   "metadata": {
    "scrolled": true
   },
   "outputs": [
    {
     "data": {
      "text/html": [
       "<div>\n",
       "<style scoped>\n",
       "    .dataframe tbody tr th:only-of-type {\n",
       "        vertical-align: middle;\n",
       "    }\n",
       "\n",
       "    .dataframe tbody tr th {\n",
       "        vertical-align: top;\n",
       "    }\n",
       "\n",
       "    .dataframe thead th {\n",
       "        text-align: right;\n",
       "    }\n",
       "</style>\n",
       "<table border=\"1\" class=\"dataframe\">\n",
       "  <thead>\n",
       "    <tr style=\"text-align: right;\">\n",
       "      <th></th>\n",
       "      <th>Condition</th>\n",
       "      <th>Weather_Condition</th>\n",
       "    </tr>\n",
       "  </thead>\n",
       "  <tbody>\n",
       "    <tr>\n",
       "      <th>0</th>\n",
       "      <td>Cloudy</td>\n",
       "      <td>Overcast</td>\n",
       "    </tr>\n",
       "    <tr>\n",
       "      <th>1</th>\n",
       "      <td>Cloudy</td>\n",
       "      <td>Mostly Cloudy</td>\n",
       "    </tr>\n",
       "    <tr>\n",
       "      <th>2</th>\n",
       "      <td>Cloudy</td>\n",
       "      <td>Mostly Cloudy</td>\n",
       "    </tr>\n",
       "    <tr>\n",
       "      <th>3</th>\n",
       "      <td>Light Rain</td>\n",
       "      <td>Light Rain</td>\n",
       "    </tr>\n",
       "    <tr>\n",
       "      <th>4</th>\n",
       "      <td>Cloudy</td>\n",
       "      <td>Overcast</td>\n",
       "    </tr>\n",
       "    <tr>\n",
       "      <th>...</th>\n",
       "      <td>...</td>\n",
       "      <td>...</td>\n",
       "    </tr>\n",
       "    <tr>\n",
       "      <th>2922395</th>\n",
       "      <td>Clear</td>\n",
       "      <td>Fair</td>\n",
       "    </tr>\n",
       "    <tr>\n",
       "      <th>2922396</th>\n",
       "      <td>Clear</td>\n",
       "      <td>Fair</td>\n",
       "    </tr>\n",
       "    <tr>\n",
       "      <th>2922397</th>\n",
       "      <td>Partly Cloudy</td>\n",
       "      <td>Partly Cloudy</td>\n",
       "    </tr>\n",
       "    <tr>\n",
       "      <th>2922398</th>\n",
       "      <td>Clear</td>\n",
       "      <td>Fair</td>\n",
       "    </tr>\n",
       "    <tr>\n",
       "      <th>2922399</th>\n",
       "      <td>Clear</td>\n",
       "      <td>Fair</td>\n",
       "    </tr>\n",
       "  </tbody>\n",
       "</table>\n",
       "<p>2922400 rows × 2 columns</p>\n",
       "</div>"
      ],
      "text/plain": [
       "             Condition Weather_Condition\n",
       "0               Cloudy          Overcast\n",
       "1               Cloudy     Mostly Cloudy\n",
       "2               Cloudy     Mostly Cloudy\n",
       "3           Light Rain        Light Rain\n",
       "4               Cloudy          Overcast\n",
       "...                ...               ...\n",
       "2922395          Clear              Fair\n",
       "2922396          Clear              Fair\n",
       "2922397  Partly Cloudy     Partly Cloudy\n",
       "2922398          Clear              Fair\n",
       "2922399          Clear              Fair\n",
       "\n",
       "[2922400 rows x 2 columns]"
      ]
     },
     "execution_count": 10,
     "metadata": {},
     "output_type": "execute_result"
    }
   ],
   "source": [
    "res = []\n",
    "for i in df['Weather_Condition'].values:\n",
    "    res.append(get_condition(i))\n",
    "\n",
    "df['Condition'] = res\n",
    "df[['Condition', 'Weather_Condition']]"
   ]
  },
  {
   "cell_type": "code",
   "execution_count": 11,
   "metadata": {
    "scrolled": false
   },
   "outputs": [
    {
     "name": "stdout",
     "output_type": "stream",
     "text": [
      "Clear :\n",
      "{'Fair / Windy', 'Clear', 'Fair'}\n",
      "1128616\n",
      "\n",
      "\n",
      "Partly Cloudy :\n",
      "{'Partly Cloudy / Windy', 'Partly Cloudy', 'Scattered Clouds'}\n",
      "479226\n",
      "\n",
      "\n",
      "Cloudy :\n",
      "{'Mostly Cloudy', 'Overcast', 'Mostly Cloudy / Windy', 'Cloudy', 'Cloudy / Windy'}\n",
      "960533\n",
      "\n",
      "\n",
      "Snow :\n",
      "{'Light Snow', 'Blowing Snow', 'Light Snow / Windy', 'Snow', 'Heavy Snow', 'Snow / Windy', 'Wintry Mix'}\n",
      "55888\n",
      "\n",
      "\n",
      "Light Rain :\n",
      "{'Light Freezing Drizzle', 'Drizzle and Fog', 'Light Rain', 'Light Freezing Rain', 'Light Rain with Thunder', 'Light Drizzle', 'Drizzle', 'Heavy Drizzle', 'Light Rain / Windy'}\n",
      "168234\n",
      "\n",
      "\n",
      "Heavy Rain :\n",
      "{'Heavy Rain', 'Heavy T-Storm', 'Heavy Thunderstorms and Rain', 'Heavy T-Storm / Windy', 'Heavy Rain / Windy'}\n",
      "17442\n",
      "\n",
      "\n",
      "Rain :\n",
      "{'Rain', 'Showers in the Vicinity', 'Thunderstorms and Rain', 'Thunder / Windy', 'Thunder in the Vicinity', 'Light Thunderstorms and Rain', 'Thunderstorm', 'T-Storm', 'T-Storm / Windy', 'Thunder', 'Rain / Windy'}\n",
      "51435\n",
      "\n",
      "\n",
      "Fog :\n",
      "{'Smoke', 'Light Freezing Fog', 'Haze / Windy', 'Shallow Fog', 'Patches of Fog', 'Mist', 'Fog', 'Haze'}\n",
      "60196\n",
      "\n",
      "\n",
      "Others :\n",
      "{'Widespread Dust', 'Blowing Dust / Windy', 'Light Ice Pellets', 'N/A Precipitation'}\n",
      "830\n",
      "\n",
      "\n"
     ]
    }
   ],
   "source": [
    "conditions = ['Clear', 'Partly Cloudy', 'Cloudy', 'Snow', 'Light Rain', 'Heavy Rain', 'Rain', 'Fog', 'Others'] \n",
    "\n",
    "for i in conditions:\n",
    "    print(i, \":\")\n",
    "    print(set(df[df['Condition']==i]['Weather_Condition']))\n",
    "    print(sum(df['Condition']==i))\n",
    "    print(\"\\n\")\n",
    "    \n",
    "df = df[df['Condition']!='Others']"
   ]
  },
  {
   "cell_type": "code",
   "execution_count": 12,
   "metadata": {},
   "outputs": [],
   "source": [
    "# One hot encode ['Wind_Direction', 'Timezone', 'State', 'Condition']\n",
    "\n",
    "one_hots = ['Wind_Direction', 'Timezone','State', 'Condition']\n",
    "oh = pd.DataFrame()\n",
    "for c in one_hots:\n",
    "    dummies = pd.get_dummies(df[c], prefix=c)\n",
    "    oh = pd.concat([oh, dummies], axis=1)\n",
    "\n",
    "df = pd.concat([df, oh], axis=1)"
   ]
  },
  {
   "cell_type": "code",
   "execution_count": 13,
   "metadata": {},
   "outputs": [],
   "source": [
    "# Save this dataframe\n",
    "df = df.reset_index(drop = True)\n",
    "df.to_feather(\"{}_v1.feather\".format(FILENAME))"
   ]
  },
  {
   "cell_type": "markdown",
   "metadata": {},
   "source": [
    "# SHOW CORRELATION BELOW (CHANGE THIS TITLE)"
   ]
  },
  {
   "cell_type": "code",
   "execution_count": null,
   "metadata": {},
   "outputs": [],
   "source": []
  },
  {
   "cell_type": "markdown",
   "metadata": {},
   "source": [
    "#### With numeric attributes"
   ]
  },
  {
   "cell_type": "code",
   "execution_count": 14,
   "metadata": {},
   "outputs": [],
   "source": [
    "# Filter the data\n",
    "#BUM NOEXIT ROUNABOUT GIVEWAY removed due to badly distributed data\n",
    "df = feather.read_dataframe(\"{}_v1.feather\".format(FILENAME))\n",
    "drop = ['Unnamed: 0', 'ID', 'Start_Lat', 'Start_Lng', 'Start_Time', 'End_Time', 'Weather_Timestamp', 'Description', \n",
    "        'Distance(mi)', \n",
    "        'County', 'City', 'Airport_Code', \n",
    "        'Wind_Direction', 'Timezone', 'State', 'Condition', 'Weather_Condition',\n",
    "        'Street', 'Bump', 'No_Exit', 'Roundabout', 'Give_Way', 'Traffic_Calming',\n",
    "        \"Wind_Direction\"]\n",
    "\n",
    "df = df.drop(drop, axis=1).reset_index(drop=True)\n",
    "\n",
    "# Convert to feather file format\n",
    "df.to_feather(\"{}_numeric_v2.feather\".format(FILENAME))"
   ]
  },
  {
   "cell_type": "code",
   "execution_count": 15,
   "metadata": {},
   "outputs": [],
   "source": [
    "del(df)"
   ]
  },
  {
   "cell_type": "markdown",
   "metadata": {},
   "source": [
    "#### without numeric attributes"
   ]
  },
  {
   "cell_type": "code",
   "execution_count": 16,
   "metadata": {
    "scrolled": true
   },
   "outputs": [],
   "source": [
    "# Filter the data\n",
    "#BUM NOEXIT ROUNABOUT GIVEWAY removed due to badly distributed data\n",
    "df = feather.read_dataframe(\"{}_v1.feather\".format(FILENAME))\n",
    "drop = ['Unnamed: 0', 'ID', 'Start_Lat', 'Start_Lng', 'Start_Time', 'End_Time', 'Weather_Timestamp', 'Description', \n",
    "        'Distance(mi)', \n",
    "        'County', 'City', 'Airport_Code', \n",
    "        'Wind_Direction', 'Timezone', 'State', 'Condition', 'Weather_Condition',\n",
    "        'Street', 'Bump', 'No_Exit', 'Roundabout', 'Give_Way', 'Traffic_Calming',\n",
    "       'Temperature(F)', 'Humidity(%)', 'Pressure(in)', 'Visibility(mi)', 'Wind_Direction', 'Wind_Speed(mph)', 'Precipitation(in)',\n",
    "       'Population_County', 'Drive_County', 'Transit_County', 'Walk_County', 'MedianHouseholdIncome_County']\n",
    "\n",
    "df = df.drop(drop, axis=1).reset_index(drop=True)\n",
    "\n",
    "# Convert to feather file format\n",
    "df.to_feather(\"{}_v2.feather\".format(FILENAME))"
   ]
  },
  {
   "cell_type": "code",
   "execution_count": 17,
   "metadata": {},
   "outputs": [],
   "source": [
    "# Clear memory\n",
    "del(df)"
   ]
  },
  {
   "cell_type": "markdown",
   "metadata": {},
   "source": [
    "# Model"
   ]
  },
  {
   "cell_type": "code",
   "execution_count": 21,
   "metadata": {},
   "outputs": [],
   "source": [
    "#function for removing outliers in numeric data\n",
    "def outlier_removal(data,columns):\n",
    "    for col in columns:\n",
    "        Q1 = np.quantile(data[col].values,0.25)\n",
    "        Q3 = np.quantile(data[col].values,0.75)\n",
    "        IQR = Q3-Q1\n",
    "        \n",
    "        lower = Q1 - 1.5*IQR\n",
    "        upper = Q3+ 1.5*IQR\n",
    "        \n",
    "        data = data[(data[col]>=lower) & (data[col]<=upper)]\n",
    "    return data\n",
    "\n",
    "# Model Function\n",
    "def Neural_Network(X,labels,neuron_size,epoch_size,k_folds):\n",
    "    scaler=MinMaxScaler(feature_range=(0,1))\n",
    "    X = scaler.fit_transform(X)\n",
    "    \n",
    "    skf = StratifiedKFold(n_splits=k_folds, random_state=30034, shuffle=True)\n",
    "\n",
    "    fold_no = 1\n",
    "    accs = []  # store each accuracy\n",
    "\n",
    "\n",
    "    for train_index, test_index in skf.split(X, labels):\n",
    "\n",
    "        # One hot encode labels\n",
    "        print(\"FOLD NUMBER = \", str(fold_no))\n",
    "\n",
    "\n",
    "        X_train = X[train_index]\n",
    "        X_test = X[test_index]\n",
    "\n",
    "        y_train = labels[train_index]\n",
    "        y_test = labels[test_index]\n",
    "\n",
    "        EPOCHS = epoch_size\n",
    "        BATCH_SIZE = 128\n",
    "\n",
    "\n",
    "        model = tf.keras.Sequential()\n",
    "        model.add(tf.keras.layers.Dense(neuron_size,input_dim=X_train.shape[1], activation='relu'))\n",
    "        model.add(tf.keras.layers.Dense(int(2/3*neuron_size), activation=tf.nn.leaky_relu))\n",
    "        model.add(tf.keras.layers.Dense(2, activation=tf.nn.softmax))\n",
    "        # Compile model\n",
    "        model.compile(loss='sparse_categorical_crossentropy', optimizer='adam', metrics=['accuracy'])\n",
    "\n",
    "        model.fit(X_train, y_train, epochs=EPOCHS, batch_size=BATCH_SIZE)\n",
    "        (test_loss, test_acc) = model.evaluate(X_test, y_test)\n",
    "        print('Accuracy:', test_acc)\n",
    "        accs.append(test_acc)\n",
    "\n",
    "        y_preds = model.predict(X_test)\n",
    "        p = []\n",
    "        for i in y_preds:\n",
    "            p.append(np.argmax(i))\n",
    "\n",
    "        print(\"accuracy:\", accuracy_score(y_test, p))\n",
    "\n",
    "        cm=confusion_matrix(y_test,p)\n",
    "        cm = pd.DataFrame(cm, index = [i for i in \"01\"],\n",
    "                          columns = [i for i in \"01\"])\n",
    "        cm.index.name = 'Actual'\n",
    "        cm.columns.name = 'Predicted'\n",
    "        sns.heatmap(cm, annot=True, \n",
    "                    cmap='Blues', cbar=False)\n",
    "        plt.show()\n",
    "\n",
    "        print(\"============================================\")\n",
    "        fold_no+=1\n",
    "\n",
    "    return accs"
   ]
  },
  {
   "cell_type": "markdown",
   "metadata": {},
   "source": [
    "### Model evaluation with numeric"
   ]
  },
  {
   "cell_type": "code",
   "execution_count": 22,
   "metadata": {},
   "outputs": [
    {
     "name": "stdout",
     "output_type": "stream",
     "text": [
      "FOLD NUMBER =  1\n",
      "Epoch 1/10\n",
      "1947713/1947713 [==============================] - 13s 7us/sample - loss: 0.5252 - acc: 0.7204\n",
      "Epoch 2/10\n",
      "1947713/1947713 [==============================] - 13s 7us/sample - loss: 0.5150 - acc: 0.7282\n",
      "Epoch 3/10\n",
      "1947713/1947713 [==============================] - 13s 7us/sample - loss: 0.5103 - acc: 0.7319\n",
      "Epoch 4/10\n",
      "1947713/1947713 [==============================] - 13s 7us/sample - loss: 0.5070 - acc: 0.7343\n",
      "Epoch 5/10\n",
      "1947713/1947713 [==============================] - 13s 7us/sample - loss: 0.5045 - acc: 0.7361\n",
      "Epoch 6/10\n",
      "1947713/1947713 [==============================] - 13s 7us/sample - loss: 0.5024 - acc: 0.7376\n",
      "Epoch 7/10\n",
      "1947713/1947713 [==============================] - 13s 7us/sample - loss: 0.5010 - acc: 0.7388\n",
      "Epoch 8/10\n",
      "1947713/1947713 [==============================] - 13s 7us/sample - loss: 0.4999 - acc: 0.7395\n",
      "Epoch 9/10\n",
      "1947713/1947713 [==============================] - 13s 7us/sample - loss: 0.4989 - acc: 0.7404\n",
      "Epoch 10/10\n",
      "1947713/1947713 [==============================] - 13s 7us/sample - loss: 0.4980 - acc: 0.7410\n",
      "973857/973857 [==============================] - 11s 12us/sample - loss: 0.4978 - acc: 0.7402\n",
      "Accuracy: 0.7401857\n",
      "accuracy: 0.7401856740774057\n"
     ]
    },
    {
     "data": {
      "image/png": "[encoded data removed]",
      "text/plain": [
       "<Figure size 432x288 with 1 Axes>"
      ]
     },
     "metadata": {
      "needs_background": "light"
     },
     "output_type": "display_data"
    },
    {
     "name": "stdout",
     "output_type": "stream",
     "text": [
      "============================================\n",
      "FOLD NUMBER =  2\n",
      "Epoch 1/10\n",
      "1947713/1947713 [==============================] - 14s 7us/sample - loss: 0.5240 - acc: 0.7216\n",
      "Epoch 2/10\n",
      "1947713/1947713 [==============================] - 13s 7us/sample - loss: 0.5122 - acc: 0.7303\n",
      "Epoch 3/10\n",
      "1947713/1947713 [==============================] - 13s 7us/sample - loss: 0.5068 - acc: 0.7346\n",
      "Epoch 4/10\n",
      "1947713/1947713 [==============================] - 13s 7us/sample - loss: 0.5039 - acc: 0.7368\n",
      "Epoch 5/10\n",
      "1947713/1947713 [==============================] - 13s 7us/sample - loss: 0.5017 - acc: 0.73840s - loss: 0.5017 \n",
      "Epoch 6/10\n",
      "1947713/1947713 [==============================] - 13s 7us/sample - loss: 0.4999 - acc: 0.7400\n",
      "Epoch 7/10\n",
      "1947713/1947713 [==============================] - 13s 7us/sample - loss: 0.4986 - acc: 0.7406\n",
      "Epoch 8/10\n",
      "1947713/1947713 [==============================] - 13s 7us/sample - loss: 0.4975 - acc: 0.7413\n",
      "Epoch 9/10\n",
      "1947713/1947713 [==============================] - 13s 7us/sample - loss: 0.4966 - acc: 0.7419\n",
      "Epoch 10/10\n",
      "1947713/1947713 [==============================] - 13s 7us/sample - loss: 0.4959 - acc: 0.7423\n",
      "973857/973857 [==============================] - 11s 12us/sample - loss: 0.4979 - acc: 0.7410\n",
      "Accuracy: 0.7409681\n",
      "accuracy: 0.7409681298178274\n"
     ]
    },
    {
     "data": {
      "image/png": "[encoded data removed]",
      "text/plain": [
       "<Figure size 432x288 with 1 Axes>"
      ]
     },
     "metadata": {
      "needs_background": "light"
     },
     "output_type": "display_data"
    },
    {
     "name": "stdout",
     "output_type": "stream",
     "text": [
      "============================================\n",
      "FOLD NUMBER =  3\n",
      "Epoch 1/10\n",
      "1947714/1947714 [==============================] - 14s 7us/sample - loss: 0.5258 - acc: 0.7202\n",
      "Epoch 2/10\n",
      "1947714/1947714 [==============================] - 14s 7us/sample - loss: 0.5129 - acc: 0.7297\n",
      "Epoch 3/10\n",
      "1947714/1947714 [==============================] - 14s 7us/sample - loss: 0.5068 - acc: 0.7344\n",
      "Epoch 4/10\n",
      "1947714/1947714 [==============================] - 14s 7us/sample - loss: 0.5035 - acc: 0.7365\n",
      "Epoch 5/10\n",
      "1947714/1947714 [==============================] - 14s 7us/sample - loss: 0.5012 - acc: 0.7384\n",
      "Epoch 6/10\n",
      "1947714/1947714 [==============================] - 14s 7us/sample - loss: 0.4996 - acc: 0.7390\n",
      "Epoch 7/10\n",
      "1947714/1947714 [==============================] - 14s 7us/sample - loss: 0.4984 - acc: 0.7403\n",
      "Epoch 8/10\n",
      "1947714/1947714 [==============================] - 14s 7us/sample - loss: 0.4975 - acc: 0.7409\n",
      "Epoch 9/10\n",
      "1947714/1947714 [==============================] - 14s 7us/sample - loss: 0.4967 - acc: 0.7414\n",
      "Epoch 10/10\n",
      "1947714/1947714 [==============================] - 14s 7us/sample - loss: 0.4961 - acc: 0.7419\n",
      "973856/973856 [==============================] - 12s 12us/sample - loss: 0.4964 - acc: 0.7428\n",
      "Accuracy: 0.74279565\n",
      "accuracy: 0.7427956494594683\n"
     ]
    },
    {
     "data": {
      "image/png": "[encoded data removed]",
      "text/plain": [
       "<Figure size 432x288 with 1 Axes>"
      ]
     },
     "metadata": {
      "needs_background": "light"
     },
     "output_type": "display_data"
    },
    {
     "name": "stdout",
     "output_type": "stream",
     "text": [
      "============================================\n",
      "Fold  1  Accuracy:  0.7401857\n",
      "Fold  2  Accuracy:  0.7409681\n",
      "Fold  3  Accuracy:  0.74279565\n",
      "Average Accuracy:  0.7413165\n"
     ]
    }
   ],
   "source": [
    "data = feather.read_dataframe(\"{}_numeric_v2.feather\".format(FILENAME))\n",
    "data['Grouped_Severity'] = np.where(data['Severity']<=2, 0, 1)\n",
    "labels = data['Grouped_Severity']\n",
    "X = data.drop(['Severity',\"Grouped_Severity\"], axis=1)\n",
    "\n",
    "accuracies = Neural_Network(X,labels,50,10,3)\n",
    "for i in range(1,4):\n",
    "    print(\"Fold \",i,\" Accuracy: \",accuracies[i-1])\n",
    "print(\"Average Accuracy: \",np.mean(accuracies))"
   ]
  },
  {
   "cell_type": "markdown",
   "metadata": {},
   "source": [
    "### Model evaluation without numeric"
   ]
  },
  {
   "cell_type": "code",
   "execution_count": null,
   "metadata": {},
   "outputs": [],
   "source": [
    "data = feather.read_dataframe(\"{}_v2.feather\".format(FILENAME))\n",
    "data['Grouped_Severity'] = np.where(data['Severity']<=2, 0, 1)   \n",
    "labels = data['Grouped_Severity']\n",
    "X = data.drop(['Severity',\"Grouped_Severity\"], axis=1)\n",
    "\n",
    "accuracies = Neural_Network(X,labels,50,10,3)\n",
    "for i in range(1,4):\n",
    "    print(\"Fold \",i,\" Accuracy: \",accuracies[i])\n",
    "print(\"Average Accuracy: \",np.mean(accuracies))"
   ]
  },
  {
   "cell_type": "markdown",
   "metadata": {},
   "source": [
    "### Finding best neuron size"
   ]
  },
  {
   "cell_type": "code",
   "execution_count": null,
   "metadata": {},
   "outputs": [],
   "source": [
    "data = feather.read_dataframe(\"{}_numeric_v2.feather\".format(FILENAME))\n",
    "\n",
    "data['Grouped_Severity'] = np.where(data['Severity']<=2, 0, 1)    \n",
    "y = data['Grouped_Severity']\n",
    "X = data.drop(['Severity',\"Grouped_Severity\"], axis=1)\n",
    "X_train, X_test, y_train, y_test = train_test_split(X, y, test_size=0.25, random_state=30034)\n",
    "\n",
    "max_neurons = X_train.shape[1]\n",
    "neuron_size = range(max_neurons,4,-10)\n",
    "\n",
    "accs = []\n",
    "\n",
    "for i in neuron_size:\n",
    "    model = tf.keras.Sequential()\n",
    "    model.add(tf.keras.layers.Dense(i,input_dim=X_train.shape[1], activation='relu'))\n",
    "    model.add(tf.keras.layers.Dense(int(2/3*i), activation=tf.nn.leaky_relu))\n",
    "    model.add(tf.keras.layers.Dense(1, activation='sigmoid'))\n",
    "    # Compile model\n",
    "    model.compile(loss='binary_crossentropy', optimizer='adam', metrics=['accuracy'])\n",
    "\n",
    "    model.fit(X_train, y_train, epochs=10, batch_size=128)\n",
    "    (test_loss, test_acc) = model.evaluate(X_test, y_test)\n",
    "    print('Accuracy:', test_acc)\n",
    "    accs.append(test_acc)\n",
    "\n",
    "#plotting line graph of accuracy vs neuron_size\n",
    "sns.set_style(\"darkgrid\")\n",
    "plt.plot(neuron_size, accuracies, label=\"Accuracy\")\n",
    "\n",
    "    \n",
    "best_neuron_size = neuron_size[np.argmax(accs)]"
   ]
  },
  {
   "cell_type": "markdown",
   "metadata": {},
   "source": [
    "### Performing  outlier removal"
   ]
  },
  {
   "cell_type": "code",
   "execution_count": null,
   "metadata": {
    "scrolled": true
   },
   "outputs": [],
   "source": [
    "data = feather.read_dataframe(\"{}_numeric_v2.feather\".format(FILENAME))\n",
    "\n",
    "numeric_cols = ['Temperature(F)', 'Humidity(%)', 'Pressure(in)', 'Visibility(mi)', \n",
    "        'Wind_Speed(mph)', 'Precipitation(in)',\n",
    "       'Population_County', 'Drive_County', 'Transit_County', 'Walk_County', 'MedianHouseholdIncome_County']\n",
    "data = outlier_removal(data,numeric_cols).reset_index(drop = True)"
   ]
  },
  {
   "cell_type": "code",
   "execution_count": null,
   "metadata": {},
   "outputs": [],
   "source": [
    "#Boxplot after outlier removal\n",
    "cols = ['Temperature(F)', 'Humidity(%)', 'Pressure(in)', 'Visibility(mi)', \n",
    "        'Wind_Speed(mph)', 'Precipitation(in)',\n",
    "       'Population_County', 'Drive_County', 'Transit_County', 'Walk_County', 'MedianHouseholdIncome_County']\n",
    "\n",
    "sns.set_style('darkgrid')\n",
    "f, axes = plt.subplots(6,2, figsize=(15,20))\n",
    "y = 0;\n",
    "for name in cols[1:]:\n",
    "    i, j = divmod(y, 2)\n",
    "    sns.boxplot(x=data[name], ax=axes[i, j])\n",
    "    y = y+1\n",
    "\n",
    "plt.tight_layout()\n",
    "plt.show()"
   ]
  },
  {
   "cell_type": "code",
   "execution_count": null,
   "metadata": {},
   "outputs": [],
   "source": [
    "data['Grouped_Severity'] = np.where(data['Severity']<=2, 0, 1)\n",
    "labels = data['Grouped_Severity']\n",
    "#dropping percipitation and visibility due to all values removed as outliers\n",
    "X = data.drop(['Severity',\"Grouped_Severity\",'Precipitation(in)','Visibility(mi)'], axis=1)\n",
    "\n",
    "accuracies = Neural_Network(data,labels,best_neuron_size,20,5)\n",
    "for i in range(1,4):\n",
    "    print(\"Fold \",i,\" Accuracy: \",accuracies[i])\n",
    "print(\"Average Accuracy: \",np.mean(accuracies))"
   ]
  },
  {
   "cell_type": "code",
   "execution_count": null,
   "metadata": {},
   "outputs": [],
   "source": []
  },
  {
   "cell_type": "code",
   "execution_count": null,
   "metadata": {},
   "outputs": [],
   "source": []
  }
 ],
 "metadata": {
  "kernelspec": {
   "display_name": "Python 3",
   "language": "python",
   "name": "python3"
  },
  "language_info": {
   "codemirror_mode": {
    "name": "ipython",
    "version": 3
   },
   "file_extension": ".py",
   "mimetype": "text/x-python",
   "name": "python",
   "nbconvert_exporter": "python",
   "pygments_lexer": "ipython3",
   "version": "3.7.6"
  }
 },
 "nbformat": 4,
 "nbformat_minor": 2
}
