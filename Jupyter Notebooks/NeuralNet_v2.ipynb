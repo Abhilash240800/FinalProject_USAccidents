{
 "cells": [
  {
   "cell_type": "code",
   "execution_count": 3,
   "metadata": {},
   "outputs": [],
   "source": [
    "import pandas\n",
    "import numpy as np\n",
    "import pandas as pd\n",
    "from sklearn.preprocessing import OneHotEncoder, MinMaxScaler\n",
    "from sklearn.model_selection import train_test_split\n",
    "from sklearn.feature_selection import SelectKBest, chi2, mutual_info_classif\n",
    "from sklearn.metrics import accuracy_score, confusion_matrix\n",
    "from sklearn.model_selection import StratifiedKFold\n",
    "from collections import Counter\n",
    "import time\n",
    "import seaborn as sns\n",
    "from matplotlib import pyplot as plt\n",
    "\n",
    "import tensorflow as tf\n",
    "#from keras.utils import to_categorical\n",
    "import feather\n",
    "import random\n",
    "from datetime import *\n",
    "\n",
    "import warnings\n",
    "warnings.filterwarnings(\"ignore\")\n"
   ]
  },
  {
   "cell_type": "code",
   "execution_count": 5,
   "metadata": {},
   "outputs": [],
   "source": [
    "FILENAME = \"Datasets/final_datasets/merged_data\""
   ]
  },
  {
   "cell_type": "code",
   "execution_count": 92,
   "metadata": {},
   "outputs": [],
   "source": [
    "data = feather.read_dataframe(f\"{FILENAME}.feather\")"
   ]
  },
  {
   "cell_type": "code",
   "execution_count": 93,
   "metadata": {},
   "outputs": [],
   "source": [
    "# Remove those one-hot encoded columns in the dataset created by Abhi\n",
    "\n",
    "def in_name(c, one_hots):\n",
    "    for col_name in one_hots:\n",
    "        if c.startswith(f\"{col_name}_\"):\n",
    "            return True\n",
    "    return False\n",
    "\n",
    "one_hots = ['Wind_Direction', 'Timezone','State', 'Weather_Condition']\n",
    "remove = [col for col in data.columns if in_name(col, one_hots)]\n",
    "data = data.drop(remove, axis=1)"
   ]
  },
  {
   "cell_type": "code",
   "execution_count": 94,
   "metadata": {},
   "outputs": [
    {
     "name": "stdout",
     "output_type": "stream",
     "text": [
      "2922400\n"
     ]
    }
   ],
   "source": [
    "# Remove missing values\n",
    "data = data.dropna().reset_index(drop=True)\n",
    "print(len(df))"
   ]
  },
  {
   "cell_type": "code",
   "execution_count": 95,
   "metadata": {},
   "outputs": [],
   "source": [
    "# Get the grouped severity\n",
    "\n",
    "data['Severity'] = data['Severity'].astype(int)\n",
    "data['Grouped_Severity'] = np.where(data['Severity']<=2, 0, 1)\n",
    "data = data.drop('Severity', axis=1)"
   ]
  },
  {
   "cell_type": "markdown",
   "metadata": {},
   "source": [
    "# Clean categorical features"
   ]
  },
  {
   "cell_type": "markdown",
   "metadata": {},
   "source": [
    "### Clean wind direction"
   ]
  },
  {
   "cell_type": "markdown",
   "metadata": {},
   "source": [
    "* \"CALM\" = [\"Calm\", \"CALM\"]\n",
    "* \"W\" = [\"W\", \"West\", \"WSW\", \"WNW\"] \n",
    "* \"S\" = [\"S\", \"South\", \"SSW\", \"SSE\"] \n",
    "* \"N\" = [\"N\", \"North\", \"NNW\", \"NNE\"] \n",
    "* \"E\" = [\"E\", \"East\", \"ESE\", \"ENE\"]\n",
    "* \"VAR\" = [\"VAR\", \"Variable\"]"
   ]
  },
  {
   "cell_type": "code",
   "execution_count": 96,
   "metadata": {},
   "outputs": [
    {
     "name": "stdout",
     "output_type": "stream",
     "text": [
      "Wind Direction after simplification:  ['SW' 'S' 'W' 'NW' 'N' 'VAR' 'SE' 'E' 'NE' 'CALM']\n"
     ]
    }
   ],
   "source": [
    "df.loc[df['Wind_Direction']=='Calm','Wind_Direction'] = 'CALM'\n",
    "df.loc[(df['Wind_Direction']=='West')|(df['Wind_Direction']=='WSW')|(df['Wind_Direction']=='WNW'),'Wind_Direction'] = 'W'\n",
    "df.loc[(df['Wind_Direction']=='South')|(df['Wind_Direction']=='SSW')|(df['Wind_Direction']=='SSE'),'Wind_Direction'] = 'S'\n",
    "df.loc[(df['Wind_Direction']=='North')|(df['Wind_Direction']=='NNW')|(df['Wind_Direction']=='NNE'),'Wind_Direction'] = 'N'\n",
    "df.loc[(df['Wind_Direction']=='East')|(df['Wind_Direction']=='ESE')|(df['Wind_Direction']=='ENE'),'Wind_Direction'] = 'E'\n",
    "df.loc[df['Wind_Direction']=='Variable','Wind_Direction'] = 'VAR'\n",
    "print(\"Wind Direction after simplification: \", df['Wind_Direction'].unique())"
   ]
  },
  {
   "cell_type": "markdown",
   "metadata": {},
   "source": [
    "### Clean weather condition"
   ]
  },
  {
   "cell_type": "code",
   "execution_count": 8,
   "metadata": {
    "scrolled": true
   },
   "outputs": [
    {
     "data": {
      "text/plain": [
       "Counter({'Overcast': 314137,\n",
       "         'Mostly Cloudy': 432506,\n",
       "         'Light Rain': 150052,\n",
       "         'Light Snow': 46407,\n",
       "         'Haze': 29015,\n",
       "         'Scattered Clouds': 170312,\n",
       "         'Partly Cloudy': 306197,\n",
       "         'Clear': 597336,\n",
       "         'Snow': 5176,\n",
       "         'Light Freezing Drizzle': 716,\n",
       "         'Fog': 24155,\n",
       "         'Shallow Fog': 710,\n",
       "         'Rain': 32900,\n",
       "         'Heavy Rain': 13063,\n",
       "         'Light Freezing Rain': 1800,\n",
       "         'Cloudy': 205447,\n",
       "         'Smoke': 2831,\n",
       "         'Patches of Fog': 1487,\n",
       "         'Mist': 1395,\n",
       "         'Light Freezing Fog': 478,\n",
       "         'Light Thunderstorms and Rain': 3807,\n",
       "         'Light Drizzle': 9415,\n",
       "         'Thunderstorms and Rain': 1620,\n",
       "         'Fair': 523539,\n",
       "         'Blowing Dust / Windy': 115,\n",
       "         'Widespread Dust': 147,\n",
       "         'Fair / Windy': 7741,\n",
       "         'Drizzle': 1197,\n",
       "         'Light Rain / Windy': 1991,\n",
       "         'Heavy Drizzle': 162,\n",
       "         'Showers in the Vicinity': 238,\n",
       "         'Light Rain with Thunder': 2772,\n",
       "         'Mostly Cloudy / Windy': 4305,\n",
       "         'Partly Cloudy / Windy': 2717,\n",
       "         'Thunder in the Vicinity': 2776,\n",
       "         'T-Storm': 3331,\n",
       "         'Heavy Thunderstorms and Rain': 1986,\n",
       "         'Thunderstorm': 3829,\n",
       "         'Thunder': 2113,\n",
       "         'Heavy T-Storm': 1865,\n",
       "         'Heavy T-Storm / Windy': 237,\n",
       "         'Blowing Snow': 283,\n",
       "         'Heavy Snow': 1374,\n",
       "         'Light Ice Pellets': 240,\n",
       "         'N/A Precipitation': 328,\n",
       "         'Cloudy / Windy': 4138,\n",
       "         'Rain / Windy': 521,\n",
       "         'Heavy Rain / Windy': 291,\n",
       "         'Light Snow / Windy': 883,\n",
       "         'T-Storm / Windy': 188,\n",
       "         'Thunder / Windy': 112,\n",
       "         'Wintry Mix': 1653,\n",
       "         'Drizzle and Fog': 129,\n",
       "         'Haze / Windy': 125,\n",
       "         'Snow / Windy': 112})"
      ]
     },
     "execution_count": 8,
     "metadata": {},
     "output_type": "execute_result"
    }
   ],
   "source": [
    "Counter(df['Weather_Condition'])"
   ]
  },
  {
   "cell_type": "markdown",
   "metadata": {},
   "source": [
    "https://www.timeanddate.com/weather/glossary.html <br>\n",
    "\n",
    "**Create features according the different weather conditions** <br>\n",
    "Scattered clouds, partly cloudy = PARTLY CLOUDY <br>\n",
    "Overcast, Mostly cloudly, Cloudy = CLOUDY <br>\n",
    "Fair, Clear = CLEAR <br>\n",
    "Snow (light snow, heavy snow), and wintry mix  = SNOW <br>\n",
    "drizzle, light rain/drizzle, light freezing rain/drizzle = LIGHT RAIN <br>\n",
    "Heavy Rain, heavy thunderstorms, heavy t-storm = HEAVY RAIN <br>\n",
    "Haze, fog, mist, smoke = fog     *(see https://www.worldatlas.com/articles/what-are-the-differences-between-mist-haze-and-fog.html)*<br>\n",
    "Rain, light thunderstorms, thunderstorms, t-storm, thunder = RAIN <br>"
   ]
  },
  {
   "cell_type": "code",
   "execution_count": 56,
   "metadata": {},
   "outputs": [],
   "source": [
    "conditions = ['Clear', 'Partly Cloudy', 'Cloudy', 'Light Snow', 'Heavy Snow', 'Snow',\n",
    "              'Heavy Rain', 'Heavy Thunderstorm', 'Thunderstorm', 'Light Rain',  'Rain', \n",
    "              'Fog'] \n",
    "\n",
    "def get_condition(string, conditions):\n",
    "    strings = [['clear', 'fair'],\n",
    "               ['partly cloudy', 'scattered clouds'],\n",
    "               ['overcast', 'mostly cloudy', 'cloudy'],\n",
    "               ['light snow', 'light ice', 'wintry mix'],\n",
    "               ['heavy snow', 'blowing snow'],\n",
    "               ['snow'],\n",
    "               ['heavy rain', 'heavy drizzle'],\n",
    "               ['heavy thunderstorms', 'heavy t-storm'],\n",
    "               ['thunder', 't-storm'],\n",
    "               ['drizzle', 'light rain', 'light freezing rain'],\n",
    "               ['rain', 'thunderstorms', 't-storm', 'thunder', 'showers'],\n",
    "               ['fog', 'haze', 'mist', 'smoke']]\n",
    "\n",
    "    for j, k in enumerate(strings):\n",
    "        for val in k:\n",
    "            if val in string.lower():\n",
    "                return conditions[j]\n",
    "    return 'Others'"
   ]
  },
  {
   "cell_type": "code",
   "execution_count": 97,
   "metadata": {
    "scrolled": true
   },
   "outputs": [
    {
     "name": "stdout",
     "output_type": "stream",
     "text": [
      "Clear :\n",
      "{'Fair', 'Clear', 'Fair / Windy'}\n",
      "1128616\n",
      "\n",
      "\n",
      "Partly Cloudy :\n",
      "{'Partly Cloudy', 'Scattered Clouds', 'Partly Cloudy / Windy'}\n",
      "479226\n",
      "\n",
      "\n",
      "Cloudy :\n",
      "{'Mostly Cloudy', 'Cloudy', 'Mostly Cloudy / Windy', 'Cloudy / Windy', 'Overcast'}\n",
      "960533\n",
      "\n",
      "\n",
      "Light Snow :\n",
      "{'Light Snow / Windy', 'Light Ice Pellets', 'Wintry Mix', 'Light Snow'}\n",
      "49183\n",
      "\n",
      "\n",
      "Heavy Snow :\n",
      "{'Heavy Snow', 'Blowing Snow'}\n",
      "1657\n",
      "\n",
      "\n",
      "Snow :\n",
      "{'Snow / Windy', 'Snow'}\n",
      "5288\n",
      "\n",
      "\n",
      "Heavy Rain :\n",
      "{'Heavy Rain / Windy', 'Heavy Rain', 'Heavy Drizzle'}\n",
      "13516\n",
      "\n",
      "\n",
      "Heavy Thunderstorm :\n",
      "{'Heavy Thunderstorms and Rain', 'Heavy T-Storm / Windy', 'Heavy T-Storm'}\n",
      "4088\n",
      "\n",
      "\n",
      "Thunderstorm :\n",
      "{'Thunder in the Vicinity', 'Light Rain with Thunder', 'Thunderstorms and Rain', 'Light Thunderstorms and Rain', 'T-Storm', 'Thunderstorm', 'Thunder / Windy', 'Thunder', 'T-Storm / Windy'}\n",
      "20548\n",
      "\n",
      "\n",
      "Light Rain :\n",
      "{'Light Drizzle', 'Drizzle', 'Light Freezing Rain', 'Drizzle and Fog', 'Light Freezing Drizzle', 'Light Rain / Windy', 'Light Rain'}\n",
      "165300\n",
      "\n",
      "\n",
      "Rain :\n",
      "{'Rain / Windy', 'Showers in the Vicinity', 'Rain'}\n",
      "33659\n",
      "\n",
      "\n",
      "Fog :\n",
      "{'Haze', 'Patches of Fog', 'Smoke', 'Fog', 'Light Freezing Fog', 'Shallow Fog', 'Haze / Windy', 'Mist'}\n",
      "60196\n",
      "\n",
      "\n",
      "Others :\n",
      "{'Blowing Dust / Windy', 'Widespread Dust', 'N/A Precipitation'}\n",
      "590\n",
      "\n",
      "\n"
     ]
    }
   ],
   "source": [
    "res = []\n",
    "for i in data['Weather_Condition'].values:\n",
    "    res.append(get_condition(i, conditions))\n",
    "\n",
    "data['Condition'] = res\n",
    "\n",
    "for i in conditions+['Others']:\n",
    "    print(i, \":\")\n",
    "    print(set(data[data['Condition']==i]['Weather_Condition']))\n",
    "    print(sum(data['Condition']==i))\n",
    "    print(\"\\n\")\n",
    "    \n",
    "data = data[data['Condition']!='Others']"
   ]
  },
  {
   "cell_type": "code",
   "execution_count": 98,
   "metadata": {},
   "outputs": [],
   "source": [
    "# Save this dataframe\n",
    "data = data.reset_index(drop = True)\n",
    "data.to_feather(\"{}_v1.feather\".format(FILENAME))"
   ]
  },
  {
   "cell_type": "markdown",
   "metadata": {},
   "source": [
    "# Correlation for numeric attributes"
   ]
  },
  {
   "cell_type": "code",
   "execution_count": 6,
   "metadata": {},
   "outputs": [],
   "source": [
    "data = feather.read_dataframe(\"{}_v1.feather\".format(FILENAME))"
   ]
  },
  {
   "cell_type": "markdown",
   "metadata": {},
   "source": [
    "### NOTE: At this point we already did some basic outlier removal in previous files"
   ]
  },
  {
   "cell_type": "code",
   "execution_count": 100,
   "metadata": {
    "scrolled": true
   },
   "outputs": [
    {
     "data": {
      "image/png": "[encoded data removed]",
      "text/plain": [
       "<Figure size 576x576 with 2 Axes>"
      ]
     },
     "metadata": {},
     "output_type": "display_data"
    },
    {
     "data": {
      "image/png": "[encoded data removed]",
      "text/plain": [
       "<Figure size 576x576 with 2 Axes>"
      ]
     },
     "metadata": {},
     "output_type": "display_data"
    }
   ],
   "source": [
    "cols = ['Grouped_Severity', 'Temperature(F)', 'Humidity(%)', 'Pressure(in)', 'Visibility(mi)', \n",
    "        'Wind_Speed(mph)', 'Precipitation(in)',\n",
    "       'Population_County', 'Drive_County', 'Transit_County', 'Walk_County', 'MedianHouseholdIncome_County']\n",
    "\n",
    "plt.figure(figsize=(8,8))\n",
    "ax = sns.heatmap(data[cols].corr(),\n",
    " vmax=1, vmin=-1, cmap=sns.color_palette(\"vlag\", as_cmap=True));\n",
    "ax.invert_yaxis()\n",
    "plt.show()\n",
    "\n",
    "\n",
    "plt.figure(figsize=(8,8))\n",
    "ax = sns.heatmap(data[cols].corr()[['Grouped_Severity']].sort_values('Grouped_Severity'),\n",
    " vmax=1, vmin=-1, cmap=sns.color_palette(\"vlag\", as_cmap=True), annot=True);\n",
    "ax.invert_yaxis()\n",
    "plt.show()"
   ]
  },
  {
   "cell_type": "markdown",
   "metadata": {},
   "source": [
    "# Feature engineering"
   ]
  },
  {
   "cell_type": "markdown",
   "metadata": {},
   "source": [
    "### Create hour, weekend, and month attributes"
   ]
  },
  {
   "cell_type": "code",
   "execution_count": 8,
   "metadata": {},
   "outputs": [],
   "source": [
    "data['Start_Time'] = pd.to_datetime(data['Start_Time'])\n",
    "\n",
    "data['Hour'] = data['Start_Time'].dt.hour\n",
    "data['Weekday'] = data['Start_Time'].dt.weekday\n",
    "data['Month'] = data['Start_Time'].dt.month"
   ]
  },
  {
   "cell_type": "markdown",
   "metadata": {},
   "source": [
    "# Chi Square Categorical Attributes"
   ]
  },
  {
   "cell_type": "code",
   "execution_count": 9,
   "metadata": {
    "scrolled": false
   },
   "outputs": [
    {
     "data": {
      "image/png": "[encoded data removed]",
      "text/plain": [
       "<Figure size 576x576 with 1 Axes>"
      ]
     },
     "metadata": {},
     "output_type": "display_data"
    }
   ],
   "source": [
    "from sklearn.preprocessing import LabelEncoder, OrdinalEncoder\n",
    "\n",
    "# prepare input data\n",
    "def prepare_inputs(X_train, X_test):\n",
    "    oe = OrdinalEncoder()\n",
    "    oe.fit(X_train)\n",
    "    X_train_enc = oe.transform(X_train)\n",
    "    X_test_enc = oe.transform(X_test)\n",
    "    return X_train_enc, X_test_enc\n",
    "\n",
    "# prepare target\n",
    "def prepare_targets(y_train, y_test):\n",
    "    le = LabelEncoder()\n",
    "    le.fit(y_train)\n",
    "    y_train_enc = le.transform(y_train)\n",
    "    y_test_enc = le.transform(y_test)\n",
    "    return y_train_enc, y_test_enc\n",
    "\n",
    "# feature selection\n",
    "def select_features(X_train, y_train, X_test):\n",
    "    fs = SelectKBest(score_func=chi2, k='all')\n",
    "    fs.fit(X_train, y_train)\n",
    "    X_train_fs = fs.transform(X_train)\n",
    "    X_test_fs = fs.transform(X_test)\n",
    "    return X_train_fs, X_test_fs, fs\n",
    "\n",
    "col_names = ['Side', 'State', 'Timezone', 'Condition', 'Wind_Direction',\n",
    "             'Amenity', 'Bump', 'Crossing', 'Give_Way', 'Junction', 'No_Exit', 'Railway', 'Roundabout', \n",
    "             'Station', 'Stop', 'Traffic_Calming', 'Traffic_Signal', \n",
    "             'Sunrise_Sunset', 'Civil_Twilight', 'Nautical_Twilight', 'Astronomical_Twilight',\n",
    "             'Hour', 'Weekday', 'Month'\n",
    "            ]\n",
    "X_train, X_test, y_train, y_test = train_test_split(data[col_names],\n",
    "                                                    data['Grouped_Severity'], test_size=0.33, random_state=30034)\n",
    "# prepare input data\n",
    "X_train_enc, X_test_enc = prepare_inputs(X_train, X_test)\n",
    "# prepare output data\n",
    "y_train_enc, y_test_enc = prepare_targets(y_train, y_test)\n",
    "# feature selection\n",
    "X_train_fs, X_test_fs, fs = select_features(X_train_enc, y_train_enc, X_test_enc)\n",
    "# what are scores for the features\n",
    "\n",
    "# for i in range(len(fs.scores_)):\n",
    "#     print(f\"{col_names[i]}: {fs.scores_[i]}\")\n",
    "\n",
    "sns.set_style(\"dark\")\n",
    "plt.figure(figsize=(8,8))\n",
    "plt.bar([i for i in range(len(fs.scores_))], fs.scores_)\n",
    "plt.xticks(range(len(col_names)), col_names, rotation=270)\n",
    "plt.ylabel('Chi Square score')\n",
    "plt.title(\"Chi Square scores for the categorical features\", fontsize=17)\n",
    "plt.show()"
   ]
  },
  {
   "cell_type": "markdown",
   "metadata": {},
   "source": [
    "# Save the dataset"
   ]
  },
  {
   "cell_type": "code",
   "execution_count": 11,
   "metadata": {},
   "outputs": [],
   "source": [
    "one_hots = ['Timezone', 'Wind_Direction','State', 'Condition', 'Hour', 'Weekday']\n",
    "oh = pd.DataFrame()\n",
    "for c in one_hots:\n",
    "    dummies = pd.get_dummies(data[c], prefix=c)\n",
    "    oh = pd.concat([oh, dummies], axis=1)\n",
    "\n",
    "data = pd.concat([data, oh], axis=1)"
   ]
  },
  {
   "cell_type": "code",
   "execution_count": 13,
   "metadata": {},
   "outputs": [],
   "source": [
    "# Remove those logical/categorical attributes that seem irrelevant + any irrelevant attributes\n",
    "\n",
    "drop = ['Unnamed: 0', 'ID', 'Start_Lat', 'Start_Lng', 'Start_Time', 'End_Time', 'Weather_Timestamp', 'Description', \n",
    "        'Distance(mi)', \n",
    "        'County', 'City', 'Airport_Code', 'State', \n",
    "        'Wind_Direction', 'Timezone', 'Condition', 'Weather_Condition',\n",
    "        'Street', 'Bump', 'No_Exit', 'Railway', 'Roundabout', 'Give_Way', 'Traffic_Calming',\n",
    "        'Nautical_Twilight', 'Astronomical_Twilight',\n",
    "        'Hour', 'Weekday', 'Month']\n",
    "\n",
    "data = data.drop(drop, axis=1).reset_index(drop=True)"
   ]
  },
  {
   "cell_type": "code",
   "execution_count": 14,
   "metadata": {},
   "outputs": [],
   "source": [
    "# Save this dataframe\n",
    "data = data.reset_index(drop = True)\n",
    "data.to_feather(\"{}_v1.feather\".format(FILENAME))"
   ]
  },
  {
   "cell_type": "markdown",
   "metadata": {},
   "source": [
    "#### With numeric attributes"
   ]
  },
  {
   "cell_type": "code",
   "execution_count": 16,
   "metadata": {},
   "outputs": [],
   "source": [
    "# Filter the data\n",
    "#BUM NOEXIT ROUNABOUT GIVEWAY removed due to badly distributed data\n",
    "df = feather.read_dataframe(\"{}_v1.feather\".format(FILENAME))\n",
    "df.to_feather(\"{}_numeric_v2.feather\".format(FILENAME))\n",
    "del(df)"
   ]
  },
  {
   "cell_type": "markdown",
   "metadata": {},
   "source": [
    "#### without numeric attributes"
   ]
  },
  {
   "cell_type": "code",
   "execution_count": 18,
   "metadata": {
    "scrolled": true
   },
   "outputs": [],
   "source": [
    "# Filter the data\n",
    "#BUM NOEXIT ROUNABOUT GIVEWAY removed due to badly distributed data\n",
    "df = feather.read_dataframe(\"{}_v1.feather\".format(FILENAME))\n",
    "num_cols = ['Temperature(F)', 'Humidity(%)', 'Pressure(in)', 'Visibility(mi)', 'Wind_Speed(mph)', 'Precipitation(in)',\n",
    "       'Population_County', 'Drive_County', 'Transit_County', 'Walk_County', 'MedianHouseholdIncome_County']\n",
    "\n",
    "df = df.drop(num_cols, axis=1).reset_index(drop=True)\n",
    "\n",
    "# Convert to feather file format\n",
    "df.to_feather(\"{}_v2.feather\".format(FILENAME))\n",
    "\n",
    "# Clear memory\n",
    "del(df)"
   ]
  },
  {
   "cell_type": "markdown",
   "metadata": {},
   "source": [
    "# Model"
   ]
  },
  {
   "cell_type": "code",
   "execution_count": 27,
   "metadata": {},
   "outputs": [],
   "source": [
    "# Model Function\n",
    "def Neural_Network(X,labels,neuron_size,epoch_size,k_folds):\n",
    "    scaler=MinMaxScaler(feature_range=(0,1))\n",
    "    X = scaler.fit_transform(X)\n",
    "    \n",
    "    skf = StratifiedKFold(n_splits=k_folds, random_state=30034, shuffle=True)\n",
    "\n",
    "    fold_no = 1\n",
    "    accs = []  # store each accuracy\n",
    "\n",
    "\n",
    "    for train_index, test_index in skf.split(X, labels):\n",
    "\n",
    "        # One hot encode labels\n",
    "        print(\"FOLD NUMBER = \", str(fold_no))\n",
    "\n",
    "\n",
    "        X_train = X[train_index]\n",
    "        X_test = X[test_index]\n",
    "\n",
    "        y_train = labels[train_index]\n",
    "        y_test = labels[test_index]\n",
    "\n",
    "        EPOCHS = epoch_size\n",
    "        BATCH_SIZE = 128\n",
    "\n",
    "\n",
    "        model = tf.keras.Sequential()\n",
    "        model.add(tf.keras.layers.Dense(neuron_size,input_dim=X_train.shape[1], activation='relu'))\n",
    "        model.add(tf.keras.layers.Dense(int(2/3*neuron_size), activation=tf.nn.leaky_relu))\n",
    "        model.add(tf.keras.layers.Dense(2, activation=tf.nn.softmax))\n",
    "        # Compile model\n",
    "        model.compile(loss='sparse_categorical_crossentropy', optimizer='adam', metrics=['accuracy'])\n",
    "\n",
    "        model.fit(X_train, y_train, epochs=EPOCHS, batch_size=BATCH_SIZE)\n",
    "        \n",
    "        y_preds = model.predict(X_test)\n",
    "        p = []\n",
    "        for i in y_preds:\n",
    "            p.append(np.argmax(i))\n",
    "\n",
    "        test_acc = accuracy_score(y_test, p)\n",
    "        accs.append(test_acc)\n",
    "        \n",
    "        print(\"\\nTest Accuracy:\", test_acc)\n",
    "\n",
    "        cm=confusion_matrix(y_test,p)\n",
    "        cm = pd.DataFrame(cm, index = [i for i in \"01\"],\n",
    "                          columns = [i for i in \"01\"])\n",
    "        cm.index.name = 'Actual'\n",
    "        cm.columns.name = 'Predicted'\n",
    "        sns.heatmap(cm, annot=True, \n",
    "                    cmap='Blues', cbar=False)\n",
    "        plt.show()\n",
    "\n",
    "        print(\"============================================\")\n",
    "        fold_no+=1\n",
    "\n",
    "    return accs"
   ]
  },
  {
   "cell_type": "markdown",
   "metadata": {},
   "source": [
    "### Model evaluation with numeric"
   ]
  },
  {
   "cell_type": "code",
   "execution_count": 20,
   "metadata": {},
   "outputs": [
    {
     "data": {
      "text/plain": [
       "(2921810, 139)"
      ]
     },
     "execution_count": 20,
     "metadata": {},
     "output_type": "execute_result"
    }
   ],
   "source": [
    "data.shape"
   ]
  },
  {
   "cell_type": "code",
   "execution_count": 23,
   "metadata": {
    "scrolled": true
   },
   "outputs": [
    {
     "name": "stderr",
     "output_type": "stream",
     "text": [
      "C:\\Users\\liyoa\\Anaconda3\\lib\\site-packages\\sklearn\\preprocessing\\data.py:323: DataConversionWarning: Data with input dtype uint8, float64 were all converted to float64 by MinMaxScaler.\n",
      "  return self.partial_fit(X, y)\n"
     ]
    },
    {
     "name": "stdout",
     "output_type": "stream",
     "text": [
      "FOLD NUMBER =  1\n",
      "WARNING:tensorflow:From C:\\Users\\liyoa\\Anaconda3\\lib\\site-packages\\tensorflow\\python\\ops\\resource_variable_ops.py:435: colocate_with (from tensorflow.python.framework.ops) is deprecated and will be removed in a future version.\n",
      "Instructions for updating:\n",
      "Colocations handled automatically by placer.\n",
      "Epoch 1/10\n",
      "2337447/2337447 [==============================] - 45s 19us/sample - loss: 0.5099 - acc: 0.7340\n",
      "Epoch 2/10\n",
      "2337447/2337447 [==============================] - 41s 18us/sample - loss: 0.4979 - acc: 0.7428\n",
      "Epoch 3/10\n",
      "2337447/2337447 [==============================] - 41s 18us/sample - loss: 0.4925 - acc: 0.7467\n",
      "Epoch 4/10\n",
      "2337447/2337447 [==============================] - 41s 18us/sample - loss: 0.4889 - acc: 0.7493\n",
      "Epoch 5/10\n",
      "2337447/2337447 [==============================] - 42s 18us/sample - loss: 0.4866 - acc: 0.7511\n",
      "Epoch 6/10\n",
      "2337447/2337447 [==============================] - 42s 18us/sample - loss: 0.4846 - acc: 0.7526\n",
      "Epoch 7/10\n",
      "2337447/2337447 [==============================] - 43s 18us/sample - loss: 0.4830 - acc: 0.7538\n",
      "Epoch 8/10\n",
      "2337447/2337447 [==============================] - 42s 18us/sample - loss: 0.4818 - acc: 0.7545\n",
      "Epoch 9/10\n",
      "2337447/2337447 [==============================] - 42s 18us/sample - loss: 0.4810 - acc: 0.7551\n",
      "Epoch 10/10\n",
      "2337447/2337447 [==============================] - 42s 18us/sample - loss: 0.4801 - acc: 0.7558\n",
      "584363/584363 [==============================] - 17s 29us/sample - loss: 0.4862 - acc: 0.7513\n",
      "Accuracy: 0.75132924\n",
      "accuracy: 0.7513292251562813\n"
     ]
    },
    {
     "data": {
      "image/png": "[encoded data removed]",
      "text/plain": [
       "<Figure size 432x288 with 1 Axes>"
      ]
     },
     "metadata": {},
     "output_type": "display_data"
    },
    {
     "name": "stdout",
     "output_type": "stream",
     "text": [
      "============================================\n",
      "FOLD NUMBER =  2\n",
      "Epoch 1/10\n",
      "1054464/2337448 [============>.................] - ETA: 24s - loss: 0.5172 - acc: 0.7289"
     ]
    },
    {
     "ename": "KeyboardInterrupt",
     "evalue": "",
     "output_type": "error",
     "traceback": [
      "\u001b[1;31m---------------------------------------------------------------------------\u001b[0m",
      "\u001b[1;31mKeyboardInterrupt\u001b[0m                         Traceback (most recent call last)",
      "\u001b[1;32m<ipython-input-23-f901d9fb0d5b>\u001b[0m in \u001b[0;36m<module>\u001b[1;34m\u001b[0m\n\u001b[0;32m      3\u001b[0m \u001b[0mX\u001b[0m \u001b[1;33m=\u001b[0m \u001b[0mdata\u001b[0m\u001b[1;33m.\u001b[0m\u001b[0mdrop\u001b[0m\u001b[1;33m(\u001b[0m\u001b[1;33m[\u001b[0m\u001b[1;34m\"Grouped_Severity\"\u001b[0m\u001b[1;33m]\u001b[0m\u001b[1;33m,\u001b[0m \u001b[0maxis\u001b[0m\u001b[1;33m=\u001b[0m\u001b[1;36m1\u001b[0m\u001b[1;33m)\u001b[0m\u001b[1;33m\u001b[0m\u001b[1;33m\u001b[0m\u001b[0m\n\u001b[0;32m      4\u001b[0m \u001b[1;33m\u001b[0m\u001b[0m\n\u001b[1;32m----> 5\u001b[1;33m \u001b[0maccuracies\u001b[0m \u001b[1;33m=\u001b[0m \u001b[0mNeural_Network\u001b[0m\u001b[1;33m(\u001b[0m\u001b[0mX\u001b[0m\u001b[1;33m,\u001b[0m\u001b[0mlabels\u001b[0m\u001b[1;33m,\u001b[0m\u001b[1;36m90\u001b[0m\u001b[1;33m,\u001b[0m\u001b[1;36m10\u001b[0m\u001b[1;33m,\u001b[0m\u001b[1;36m5\u001b[0m\u001b[1;33m)\u001b[0m\u001b[1;33m\u001b[0m\u001b[1;33m\u001b[0m\u001b[0m\n\u001b[0m\u001b[0;32m      6\u001b[0m \u001b[1;32mfor\u001b[0m \u001b[0mi\u001b[0m \u001b[1;32min\u001b[0m \u001b[0mrange\u001b[0m\u001b[1;33m(\u001b[0m\u001b[1;36m1\u001b[0m\u001b[1;33m,\u001b[0m\u001b[1;36m4\u001b[0m\u001b[1;33m)\u001b[0m\u001b[1;33m:\u001b[0m\u001b[1;33m\u001b[0m\u001b[1;33m\u001b[0m\u001b[0m\n\u001b[0;32m      7\u001b[0m     \u001b[0mprint\u001b[0m\u001b[1;33m(\u001b[0m\u001b[1;34m\"Fold \"\u001b[0m\u001b[1;33m,\u001b[0m\u001b[0mi\u001b[0m\u001b[1;33m,\u001b[0m\u001b[1;34m\" Accuracy: \"\u001b[0m\u001b[1;33m,\u001b[0m\u001b[0maccuracies\u001b[0m\u001b[1;33m[\u001b[0m\u001b[0mi\u001b[0m\u001b[1;33m-\u001b[0m\u001b[1;36m1\u001b[0m\u001b[1;33m]\u001b[0m\u001b[1;33m)\u001b[0m\u001b[1;33m\u001b[0m\u001b[1;33m\u001b[0m\u001b[0m\n",
      "\u001b[1;32m<ipython-input-19-15df2f4f204d>\u001b[0m in \u001b[0;36mNeural_Network\u001b[1;34m(X, labels, neuron_size, epoch_size, k_folds)\u001b[0m\n\u001b[0;32m     33\u001b[0m         \u001b[0mmodel\u001b[0m\u001b[1;33m.\u001b[0m\u001b[0mcompile\u001b[0m\u001b[1;33m(\u001b[0m\u001b[0mloss\u001b[0m\u001b[1;33m=\u001b[0m\u001b[1;34m'sparse_categorical_crossentropy'\u001b[0m\u001b[1;33m,\u001b[0m \u001b[0moptimizer\u001b[0m\u001b[1;33m=\u001b[0m\u001b[1;34m'adam'\u001b[0m\u001b[1;33m,\u001b[0m \u001b[0mmetrics\u001b[0m\u001b[1;33m=\u001b[0m\u001b[1;33m[\u001b[0m\u001b[1;34m'accuracy'\u001b[0m\u001b[1;33m]\u001b[0m\u001b[1;33m)\u001b[0m\u001b[1;33m\u001b[0m\u001b[1;33m\u001b[0m\u001b[0m\n\u001b[0;32m     34\u001b[0m \u001b[1;33m\u001b[0m\u001b[0m\n\u001b[1;32m---> 35\u001b[1;33m         \u001b[0mmodel\u001b[0m\u001b[1;33m.\u001b[0m\u001b[0mfit\u001b[0m\u001b[1;33m(\u001b[0m\u001b[0mX_train\u001b[0m\u001b[1;33m,\u001b[0m \u001b[0my_train\u001b[0m\u001b[1;33m,\u001b[0m \u001b[0mepochs\u001b[0m\u001b[1;33m=\u001b[0m\u001b[0mEPOCHS\u001b[0m\u001b[1;33m,\u001b[0m \u001b[0mbatch_size\u001b[0m\u001b[1;33m=\u001b[0m\u001b[0mBATCH_SIZE\u001b[0m\u001b[1;33m)\u001b[0m\u001b[1;33m\u001b[0m\u001b[1;33m\u001b[0m\u001b[0m\n\u001b[0m\u001b[0;32m     36\u001b[0m         \u001b[1;33m(\u001b[0m\u001b[0mtest_loss\u001b[0m\u001b[1;33m,\u001b[0m \u001b[0mtest_acc\u001b[0m\u001b[1;33m)\u001b[0m \u001b[1;33m=\u001b[0m \u001b[0mmodel\u001b[0m\u001b[1;33m.\u001b[0m\u001b[0mevaluate\u001b[0m\u001b[1;33m(\u001b[0m\u001b[0mX_test\u001b[0m\u001b[1;33m,\u001b[0m \u001b[0my_test\u001b[0m\u001b[1;33m)\u001b[0m\u001b[1;33m\u001b[0m\u001b[1;33m\u001b[0m\u001b[0m\n\u001b[0;32m     37\u001b[0m         \u001b[0mprint\u001b[0m\u001b[1;33m(\u001b[0m\u001b[1;34m'Accuracy:'\u001b[0m\u001b[1;33m,\u001b[0m \u001b[0mtest_acc\u001b[0m\u001b[1;33m)\u001b[0m\u001b[1;33m\u001b[0m\u001b[1;33m\u001b[0m\u001b[0m\n",
      "\u001b[1;32m~\\Anaconda3\\lib\\site-packages\\tensorflow\\python\\keras\\engine\\training.py\u001b[0m in \u001b[0;36mfit\u001b[1;34m(self, x, y, batch_size, epochs, verbose, callbacks, validation_split, validation_data, shuffle, class_weight, sample_weight, initial_epoch, steps_per_epoch, validation_steps, max_queue_size, workers, use_multiprocessing, **kwargs)\u001b[0m\n\u001b[0;32m    878\u001b[0m           \u001b[0minitial_epoch\u001b[0m\u001b[1;33m=\u001b[0m\u001b[0minitial_epoch\u001b[0m\u001b[1;33m,\u001b[0m\u001b[1;33m\u001b[0m\u001b[1;33m\u001b[0m\u001b[0m\n\u001b[0;32m    879\u001b[0m           \u001b[0msteps_per_epoch\u001b[0m\u001b[1;33m=\u001b[0m\u001b[0msteps_per_epoch\u001b[0m\u001b[1;33m,\u001b[0m\u001b[1;33m\u001b[0m\u001b[1;33m\u001b[0m\u001b[0m\n\u001b[1;32m--> 880\u001b[1;33m           validation_steps=validation_steps)\n\u001b[0m\u001b[0;32m    881\u001b[0m \u001b[1;33m\u001b[0m\u001b[0m\n\u001b[0;32m    882\u001b[0m   def evaluate(self,\n",
      "\u001b[1;32m~\\Anaconda3\\lib\\site-packages\\tensorflow\\python\\keras\\engine\\training_arrays.py\u001b[0m in \u001b[0;36mmodel_iteration\u001b[1;34m(model, inputs, targets, sample_weights, batch_size, epochs, verbose, callbacks, val_inputs, val_targets, val_sample_weights, shuffle, initial_epoch, steps_per_epoch, validation_steps, mode, validation_in_fit, **kwargs)\u001b[0m\n\u001b[0;32m    327\u001b[0m \u001b[1;33m\u001b[0m\u001b[0m\n\u001b[0;32m    328\u001b[0m         \u001b[1;31m# Get outputs.\u001b[0m\u001b[1;33m\u001b[0m\u001b[1;33m\u001b[0m\u001b[1;33m\u001b[0m\u001b[0m\n\u001b[1;32m--> 329\u001b[1;33m         \u001b[0mbatch_outs\u001b[0m \u001b[1;33m=\u001b[0m \u001b[0mf\u001b[0m\u001b[1;33m(\u001b[0m\u001b[0mins_batch\u001b[0m\u001b[1;33m)\u001b[0m\u001b[1;33m\u001b[0m\u001b[1;33m\u001b[0m\u001b[0m\n\u001b[0m\u001b[0;32m    330\u001b[0m         \u001b[1;32mif\u001b[0m \u001b[1;32mnot\u001b[0m \u001b[0misinstance\u001b[0m\u001b[1;33m(\u001b[0m\u001b[0mbatch_outs\u001b[0m\u001b[1;33m,\u001b[0m \u001b[0mlist\u001b[0m\u001b[1;33m)\u001b[0m\u001b[1;33m:\u001b[0m\u001b[1;33m\u001b[0m\u001b[1;33m\u001b[0m\u001b[0m\n\u001b[0;32m    331\u001b[0m           \u001b[0mbatch_outs\u001b[0m \u001b[1;33m=\u001b[0m \u001b[1;33m[\u001b[0m\u001b[0mbatch_outs\u001b[0m\u001b[1;33m]\u001b[0m\u001b[1;33m\u001b[0m\u001b[1;33m\u001b[0m\u001b[0m\n",
      "\u001b[1;32m~\\Anaconda3\\lib\\site-packages\\tensorflow\\python\\keras\\backend.py\u001b[0m in \u001b[0;36m__call__\u001b[1;34m(self, inputs)\u001b[0m\n\u001b[0;32m   3074\u001b[0m \u001b[1;33m\u001b[0m\u001b[0m\n\u001b[0;32m   3075\u001b[0m     fetched = self._callable_fn(*array_vals,\n\u001b[1;32m-> 3076\u001b[1;33m                                 run_metadata=self.run_metadata)\n\u001b[0m\u001b[0;32m   3077\u001b[0m     \u001b[0mself\u001b[0m\u001b[1;33m.\u001b[0m\u001b[0m_call_fetch_callbacks\u001b[0m\u001b[1;33m(\u001b[0m\u001b[0mfetched\u001b[0m\u001b[1;33m[\u001b[0m\u001b[1;33m-\u001b[0m\u001b[0mlen\u001b[0m\u001b[1;33m(\u001b[0m\u001b[0mself\u001b[0m\u001b[1;33m.\u001b[0m\u001b[0m_fetches\u001b[0m\u001b[1;33m)\u001b[0m\u001b[1;33m:\u001b[0m\u001b[1;33m]\u001b[0m\u001b[1;33m)\u001b[0m\u001b[1;33m\u001b[0m\u001b[1;33m\u001b[0m\u001b[0m\n\u001b[0;32m   3078\u001b[0m     return nest.pack_sequence_as(self._outputs_structure,\n",
      "\u001b[1;32m~\\Anaconda3\\lib\\site-packages\\tensorflow\\python\\client\\session.py\u001b[0m in \u001b[0;36m__call__\u001b[1;34m(self, *args, **kwargs)\u001b[0m\n\u001b[0;32m   1437\u001b[0m           ret = tf_session.TF_SessionRunCallable(\n\u001b[0;32m   1438\u001b[0m               \u001b[0mself\u001b[0m\u001b[1;33m.\u001b[0m\u001b[0m_session\u001b[0m\u001b[1;33m.\u001b[0m\u001b[0m_session\u001b[0m\u001b[1;33m,\u001b[0m \u001b[0mself\u001b[0m\u001b[1;33m.\u001b[0m\u001b[0m_handle\u001b[0m\u001b[1;33m,\u001b[0m \u001b[0margs\u001b[0m\u001b[1;33m,\u001b[0m \u001b[0mstatus\u001b[0m\u001b[1;33m,\u001b[0m\u001b[1;33m\u001b[0m\u001b[1;33m\u001b[0m\u001b[0m\n\u001b[1;32m-> 1439\u001b[1;33m               run_metadata_ptr)\n\u001b[0m\u001b[0;32m   1440\u001b[0m         \u001b[1;32mif\u001b[0m \u001b[0mrun_metadata\u001b[0m\u001b[1;33m:\u001b[0m\u001b[1;33m\u001b[0m\u001b[1;33m\u001b[0m\u001b[0m\n\u001b[0;32m   1441\u001b[0m           \u001b[0mproto_data\u001b[0m \u001b[1;33m=\u001b[0m \u001b[0mtf_session\u001b[0m\u001b[1;33m.\u001b[0m\u001b[0mTF_GetBuffer\u001b[0m\u001b[1;33m(\u001b[0m\u001b[0mrun_metadata_ptr\u001b[0m\u001b[1;33m)\u001b[0m\u001b[1;33m\u001b[0m\u001b[1;33m\u001b[0m\u001b[0m\n",
      "\u001b[1;31mKeyboardInterrupt\u001b[0m: "
     ]
    }
   ],
   "source": [
    "data = feather.read_dataframe(\"{}_numeric_v2.feather\".format(FILENAME))\n",
    "y = data['Grouped_Severity']\n",
    "X = data.drop([\"Grouped_Severity\"], axis=1)\n",
    "\n",
    "accuracies = Neural_Network(X,y,90,10,5)\n",
    "for i in range(1,4):\n",
    "    print(\"Fold \",i,\" Accuracy: \",accuracies[i-1])\n",
    "print(\"Average Accuracy: \",np.mean(accuracies))"
   ]
  },
  {
   "cell_type": "markdown",
   "metadata": {},
   "source": [
    "### Model evaluation without numeric"
   ]
  },
  {
   "cell_type": "code",
   "execution_count": 28,
   "metadata": {
    "scrolled": true
   },
   "outputs": [
    {
     "name": "stdout",
     "output_type": "stream",
     "text": [
      "FOLD NUMBER =  1\n",
      "Epoch 1/10\n",
      "1947873/1947873 [==============================] - 38s 20us/sample - loss: 0.5200 - acc: 0.7282\n",
      "Epoch 2/10\n",
      "1360000/1947873 [===================>..........] - ETA: 11s - loss: 0.5140 - acc: 0.7323"
     ]
    },
    {
     "ename": "KeyboardInterrupt",
     "evalue": "",
     "output_type": "error",
     "traceback": [
      "\u001b[1;31m---------------------------------------------------------------------------\u001b[0m",
      "\u001b[1;31mKeyboardInterrupt\u001b[0m                         Traceback (most recent call last)",
      "\u001b[1;32m<ipython-input-28-23ff63bf8e3f>\u001b[0m in \u001b[0;36m<module>\u001b[1;34m\u001b[0m\n\u001b[0;32m      3\u001b[0m \u001b[0mX\u001b[0m \u001b[1;33m=\u001b[0m \u001b[0mdata\u001b[0m\u001b[1;33m.\u001b[0m\u001b[0mdrop\u001b[0m\u001b[1;33m(\u001b[0m\u001b[1;33m[\u001b[0m\u001b[1;34m\"Grouped_Severity\"\u001b[0m\u001b[1;33m]\u001b[0m\u001b[1;33m,\u001b[0m \u001b[0maxis\u001b[0m\u001b[1;33m=\u001b[0m\u001b[1;36m1\u001b[0m\u001b[1;33m)\u001b[0m\u001b[1;33m\u001b[0m\u001b[1;33m\u001b[0m\u001b[0m\n\u001b[0;32m      4\u001b[0m \u001b[1;33m\u001b[0m\u001b[0m\n\u001b[1;32m----> 5\u001b[1;33m \u001b[0maccuracies\u001b[0m \u001b[1;33m=\u001b[0m \u001b[0mNeural_Network\u001b[0m\u001b[1;33m(\u001b[0m\u001b[0mX\u001b[0m\u001b[1;33m,\u001b[0m\u001b[0my\u001b[0m\u001b[1;33m,\u001b[0m\u001b[1;36m90\u001b[0m\u001b[1;33m,\u001b[0m\u001b[1;36m10\u001b[0m\u001b[1;33m,\u001b[0m\u001b[1;36m3\u001b[0m\u001b[1;33m)\u001b[0m\u001b[1;33m\u001b[0m\u001b[1;33m\u001b[0m\u001b[0m\n\u001b[0m\u001b[0;32m      6\u001b[0m \u001b[1;32mfor\u001b[0m \u001b[0mi\u001b[0m \u001b[1;32min\u001b[0m \u001b[0mrange\u001b[0m\u001b[1;33m(\u001b[0m\u001b[1;36m1\u001b[0m\u001b[1;33m,\u001b[0m\u001b[1;36m4\u001b[0m\u001b[1;33m)\u001b[0m\u001b[1;33m:\u001b[0m\u001b[1;33m\u001b[0m\u001b[1;33m\u001b[0m\u001b[0m\n\u001b[0;32m      7\u001b[0m     \u001b[0mprint\u001b[0m\u001b[1;33m(\u001b[0m\u001b[1;34m\"Fold \"\u001b[0m\u001b[1;33m,\u001b[0m\u001b[0mi\u001b[0m\u001b[1;33m,\u001b[0m\u001b[1;34m\" Accuracy: \"\u001b[0m\u001b[1;33m,\u001b[0m\u001b[0maccuracies\u001b[0m\u001b[1;33m[\u001b[0m\u001b[0mi\u001b[0m\u001b[1;33m]\u001b[0m\u001b[1;33m)\u001b[0m\u001b[1;33m\u001b[0m\u001b[1;33m\u001b[0m\u001b[0m\n",
      "\u001b[1;32m<ipython-input-27-b20633d51c9f>\u001b[0m in \u001b[0;36mNeural_Network\u001b[1;34m(X, labels, neuron_size, epoch_size, k_folds)\u001b[0m\n\u001b[0;32m     33\u001b[0m         \u001b[0mmodel\u001b[0m\u001b[1;33m.\u001b[0m\u001b[0mcompile\u001b[0m\u001b[1;33m(\u001b[0m\u001b[0mloss\u001b[0m\u001b[1;33m=\u001b[0m\u001b[1;34m'sparse_categorical_crossentropy'\u001b[0m\u001b[1;33m,\u001b[0m \u001b[0moptimizer\u001b[0m\u001b[1;33m=\u001b[0m\u001b[1;34m'adam'\u001b[0m\u001b[1;33m,\u001b[0m \u001b[0mmetrics\u001b[0m\u001b[1;33m=\u001b[0m\u001b[1;33m[\u001b[0m\u001b[1;34m'accuracy'\u001b[0m\u001b[1;33m]\u001b[0m\u001b[1;33m)\u001b[0m\u001b[1;33m\u001b[0m\u001b[1;33m\u001b[0m\u001b[0m\n\u001b[0;32m     34\u001b[0m \u001b[1;33m\u001b[0m\u001b[0m\n\u001b[1;32m---> 35\u001b[1;33m         \u001b[0mmodel\u001b[0m\u001b[1;33m.\u001b[0m\u001b[0mfit\u001b[0m\u001b[1;33m(\u001b[0m\u001b[0mX_train\u001b[0m\u001b[1;33m,\u001b[0m \u001b[0my_train\u001b[0m\u001b[1;33m,\u001b[0m \u001b[0mepochs\u001b[0m\u001b[1;33m=\u001b[0m\u001b[0mEPOCHS\u001b[0m\u001b[1;33m,\u001b[0m \u001b[0mbatch_size\u001b[0m\u001b[1;33m=\u001b[0m\u001b[0mBATCH_SIZE\u001b[0m\u001b[1;33m)\u001b[0m\u001b[1;33m\u001b[0m\u001b[1;33m\u001b[0m\u001b[0m\n\u001b[0m\u001b[0;32m     36\u001b[0m \u001b[1;33m\u001b[0m\u001b[0m\n\u001b[0;32m     37\u001b[0m         \u001b[0my_preds\u001b[0m \u001b[1;33m=\u001b[0m \u001b[0mmodel\u001b[0m\u001b[1;33m.\u001b[0m\u001b[0mpredict\u001b[0m\u001b[1;33m(\u001b[0m\u001b[0mX_test\u001b[0m\u001b[1;33m)\u001b[0m\u001b[1;33m\u001b[0m\u001b[1;33m\u001b[0m\u001b[0m\n",
      "\u001b[1;32m~\\Anaconda3\\lib\\site-packages\\tensorflow\\python\\keras\\engine\\training.py\u001b[0m in \u001b[0;36mfit\u001b[1;34m(self, x, y, batch_size, epochs, verbose, callbacks, validation_split, validation_data, shuffle, class_weight, sample_weight, initial_epoch, steps_per_epoch, validation_steps, max_queue_size, workers, use_multiprocessing, **kwargs)\u001b[0m\n\u001b[0;32m    878\u001b[0m           \u001b[0minitial_epoch\u001b[0m\u001b[1;33m=\u001b[0m\u001b[0minitial_epoch\u001b[0m\u001b[1;33m,\u001b[0m\u001b[1;33m\u001b[0m\u001b[1;33m\u001b[0m\u001b[0m\n\u001b[0;32m    879\u001b[0m           \u001b[0msteps_per_epoch\u001b[0m\u001b[1;33m=\u001b[0m\u001b[0msteps_per_epoch\u001b[0m\u001b[1;33m,\u001b[0m\u001b[1;33m\u001b[0m\u001b[1;33m\u001b[0m\u001b[0m\n\u001b[1;32m--> 880\u001b[1;33m           validation_steps=validation_steps)\n\u001b[0m\u001b[0;32m    881\u001b[0m \u001b[1;33m\u001b[0m\u001b[0m\n\u001b[0;32m    882\u001b[0m   def evaluate(self,\n",
      "\u001b[1;32m~\\Anaconda3\\lib\\site-packages\\tensorflow\\python\\keras\\engine\\training_arrays.py\u001b[0m in \u001b[0;36mmodel_iteration\u001b[1;34m(model, inputs, targets, sample_weights, batch_size, epochs, verbose, callbacks, val_inputs, val_targets, val_sample_weights, shuffle, initial_epoch, steps_per_epoch, validation_steps, mode, validation_in_fit, **kwargs)\u001b[0m\n\u001b[0;32m    327\u001b[0m \u001b[1;33m\u001b[0m\u001b[0m\n\u001b[0;32m    328\u001b[0m         \u001b[1;31m# Get outputs.\u001b[0m\u001b[1;33m\u001b[0m\u001b[1;33m\u001b[0m\u001b[1;33m\u001b[0m\u001b[0m\n\u001b[1;32m--> 329\u001b[1;33m         \u001b[0mbatch_outs\u001b[0m \u001b[1;33m=\u001b[0m \u001b[0mf\u001b[0m\u001b[1;33m(\u001b[0m\u001b[0mins_batch\u001b[0m\u001b[1;33m)\u001b[0m\u001b[1;33m\u001b[0m\u001b[1;33m\u001b[0m\u001b[0m\n\u001b[0m\u001b[0;32m    330\u001b[0m         \u001b[1;32mif\u001b[0m \u001b[1;32mnot\u001b[0m \u001b[0misinstance\u001b[0m\u001b[1;33m(\u001b[0m\u001b[0mbatch_outs\u001b[0m\u001b[1;33m,\u001b[0m \u001b[0mlist\u001b[0m\u001b[1;33m)\u001b[0m\u001b[1;33m:\u001b[0m\u001b[1;33m\u001b[0m\u001b[1;33m\u001b[0m\u001b[0m\n\u001b[0;32m    331\u001b[0m           \u001b[0mbatch_outs\u001b[0m \u001b[1;33m=\u001b[0m \u001b[1;33m[\u001b[0m\u001b[0mbatch_outs\u001b[0m\u001b[1;33m]\u001b[0m\u001b[1;33m\u001b[0m\u001b[1;33m\u001b[0m\u001b[0m\n",
      "\u001b[1;32m~\\Anaconda3\\lib\\site-packages\\tensorflow\\python\\keras\\backend.py\u001b[0m in \u001b[0;36m__call__\u001b[1;34m(self, inputs)\u001b[0m\n\u001b[0;32m   3059\u001b[0m         \u001b[0mtensor_type\u001b[0m \u001b[1;33m=\u001b[0m \u001b[0mdtypes_module\u001b[0m\u001b[1;33m.\u001b[0m\u001b[0mas_dtype\u001b[0m\u001b[1;33m(\u001b[0m\u001b[0mtensor\u001b[0m\u001b[1;33m.\u001b[0m\u001b[0mdtype\u001b[0m\u001b[1;33m)\u001b[0m\u001b[1;33m\u001b[0m\u001b[1;33m\u001b[0m\u001b[0m\n\u001b[0;32m   3060\u001b[0m         array_vals.append(np.asarray(value,\n\u001b[1;32m-> 3061\u001b[1;33m                                      dtype=tensor_type.as_numpy_dtype))\n\u001b[0m\u001b[0;32m   3062\u001b[0m \u001b[1;33m\u001b[0m\u001b[0m\n\u001b[0;32m   3063\u001b[0m     \u001b[1;32mif\u001b[0m \u001b[0mself\u001b[0m\u001b[1;33m.\u001b[0m\u001b[0mfeed_dict\u001b[0m\u001b[1;33m:\u001b[0m\u001b[1;33m\u001b[0m\u001b[1;33m\u001b[0m\u001b[0m\n",
      "\u001b[1;32m~\\Anaconda3\\lib\\site-packages\\numpy\\core\\_asarray.py\u001b[0m in \u001b[0;36masarray\u001b[1;34m(a, dtype, order)\u001b[0m\n\u001b[0;32m     83\u001b[0m \u001b[1;33m\u001b[0m\u001b[0m\n\u001b[0;32m     84\u001b[0m     \"\"\"\n\u001b[1;32m---> 85\u001b[1;33m     \u001b[1;32mreturn\u001b[0m \u001b[0marray\u001b[0m\u001b[1;33m(\u001b[0m\u001b[0ma\u001b[0m\u001b[1;33m,\u001b[0m \u001b[0mdtype\u001b[0m\u001b[1;33m,\u001b[0m \u001b[0mcopy\u001b[0m\u001b[1;33m=\u001b[0m\u001b[1;32mFalse\u001b[0m\u001b[1;33m,\u001b[0m \u001b[0morder\u001b[0m\u001b[1;33m=\u001b[0m\u001b[0morder\u001b[0m\u001b[1;33m)\u001b[0m\u001b[1;33m\u001b[0m\u001b[1;33m\u001b[0m\u001b[0m\n\u001b[0m\u001b[0;32m     86\u001b[0m \u001b[1;33m\u001b[0m\u001b[0m\n\u001b[0;32m     87\u001b[0m \u001b[1;33m\u001b[0m\u001b[0m\n",
      "\u001b[1;31mKeyboardInterrupt\u001b[0m: "
     ]
    }
   ],
   "source": [
    "data = feather.read_dataframe(\"{}_v2.feather\".format(FILENAME))\n",
    "y = data['Grouped_Severity']\n",
    "X = data.drop([\"Grouped_Severity\"], axis=1)\n",
    "\n",
    "accuracies = Neural_Network(X,y,90,10,3)\n",
    "for i in range(1,4):\n",
    "    print(\"Fold \",i,\" Accuracy: \",accuracies[i])\n",
    "print(\"Average Accuracy: \",np.mean(accuracies))"
   ]
  },
  {
   "cell_type": "markdown",
   "metadata": {},
   "source": [
    "### Finding best neuron size"
   ]
  },
  {
   "cell_type": "markdown",
   "metadata": {},
   "source": [
    "@Terry pls run this on your pc "
   ]
  },
  {
   "cell_type": "code",
   "execution_count": null,
   "metadata": {},
   "outputs": [],
   "source": [
    "data = feather.read_dataframe(\"{}_numeric_v2.feather\".format(FILENAME))\n",
    "\n",
    "y = data['Grouped_Severity']\n",
    "X = data.drop([\"Grouped_Severity\"], axis=1)\n",
    "X_train, X_test, y_train, y_test = train_test_split(X, y, test_size=0.25, random_state=30034)\n",
    "\n",
    "max_neurons = X_train.shape[1]\n",
    "neuron_size = range(max_neurons,4,-10)\n",
    "\n",
    "accs = []\n",
    "\n",
    "for i in neuron_size:\n",
    "    model = tf.keras.Sequential()\n",
    "    model.add(tf.keras.layers.Dense(i,input_dim=X_train.shape[1], activation='relu'))\n",
    "    model.add(tf.keras.layers.Dense(int(2/3*i), activation=tf.nn.leaky_relu))\n",
    "    model.add(tf.keras.layers.Dense(1, activation='sigmoid'))\n",
    "    # Compile model\n",
    "    model.compile(loss='binary_crossentropy', optimizer='adam', metrics=['accuracy'])\n",
    "\n",
    "    model.fit(X_train, y_train, epochs=10, batch_size=128)\n",
    "    (test_loss, test_acc) = model.evaluate(X_test, y_test)\n",
    "    print('Accuracy:', test_acc)\n",
    "    accs.append(test_acc)\n",
    "\n",
    "#plotting line graph of accuracy vs neuron_size\n",
    "sns.set_style(\"darkgrid\")\n",
    "plt.plot(neuron_size, accuracies, label=\"Accuracy\")\n",
    "\n",
    "    \n",
    "best_neuron_size = neuron_size[np.argmax(accs)]\n",
    "print(\"\\nBEST NEURON SIZE =\", best_neuron_size)"
   ]
  },
  {
   "cell_type": "markdown",
   "metadata": {},
   "source": [
    "# Create balanced data"
   ]
  },
  {
   "cell_type": "code",
   "execution_count": 23,
   "metadata": {},
   "outputs": [],
   "source": [
    "# Minimise the number of features to speed up the undersampling process or else pc goes boom boom\n",
    "\n",
    "data = feather.read_dataframe(\"{}_numeric_v2.feather\".format(FILENAME))\n",
    "\n",
    "def in_name(c, one_hots):\n",
    "    # Remove one hot encoded columns\n",
    "    for col_name in one_hots:\n",
    "        if c.startswith(f\"{col_name}_\"):\n",
    "            return True\n",
    "    return False\n",
    "\n",
    "one_hots = ['State', 'Wind_Direction', 'Hour', 'Timezone']\n",
    "oh_cols = [col for col in data.columns if in_name(col, one_hots)]\n",
    "num_cols = ['Temperature(F)', 'Visibility(mi)', 'Population_County', 'MedianHouseholdIncome_County', 'Humidity(%)', 'Precipitation(in)']\n",
    "log_cols = ['Amenity', 'Junction', 'Sunrise_Sunset', 'Civil_Twilight', 'Station']\n",
    "\n",
    "data = data.drop(oh_cols+num_cols+log_cols, axis=1)"
   ]
  },
  {
   "cell_type": "code",
   "execution_count": 24,
   "metadata": {},
   "outputs": [
    {
     "name": "stdout",
     "output_type": "stream",
     "text": [
      "['Side', 'Pressure(in)', 'Wind_Speed(mph)', 'Crossing', 'Stop', 'Traffic_Signal', 'Drive_County', 'Transit_County', 'Walk_County', 'Grouped_Severity', 'Condition_Clear', 'Condition_Cloudy', 'Condition_Fog', 'Condition_Heavy Rain', 'Condition_Heavy Snow', 'Condition_Heavy Thunderstorm', 'Condition_Light Rain', 'Condition_Light Snow', 'Condition_Partly Cloudy', 'Condition_Rain', 'Condition_Snow', 'Condition_Thunderstorm', 'Weekday_0', 'Weekday_1', 'Weekday_2', 'Weekday_3', 'Weekday_4', 'Weekday_5', 'Weekday_6']\n"
     ]
    }
   ],
   "source": [
    "print([c for c in data.columns])"
   ]
  },
  {
   "cell_type": "code",
   "execution_count": null,
   "metadata": {
    "scrolled": true
   },
   "outputs": [
    {
     "name": "stdout",
     "output_type": "stream",
     "text": [
      "Counter({0: 13840, 1: 6160})\n"
     ]
    }
   ],
   "source": [
    "from imblearn.under_sampling import RandomUnderSampler, NearMiss\n",
    "\n",
    "data = feather.read_dataframe(\"{}_numeric_v2.feather\".format(FILENAME))\n",
    "data = data.sample(n=20000, random_state=30034)\n",
    "\n",
    "y = data['Grouped_Severity']\n",
    "X = data.drop([\"Grouped_Severity\",'Precipitation(in)','Visibility(mi)'], axis=1)\n",
    "\n",
    "scaler=MinMaxScaler(feature_range=(0,1))\n",
    "X = scaler.fit_transform(X)\n",
    "\n",
    "print(Counter(y))\n",
    "\n",
    "# rus = RandomUnderSampler(random_state=30034)\n",
    "# X, y = rus.fit_resample(X, y)\n",
    "\n",
    "undersample = NearMiss(version=2, n_neighbors=3)\n",
    "X, y = undersample.fit_resample(X, y)\n",
    "\n",
    "print(Counter(y))"
   ]
  },
  {
   "cell_type": "code",
   "execution_count": null,
   "metadata": {},
   "outputs": [],
   "source": [
    "# The accuracy below is for 20,000 instances sampled from the dataset... i can't do higher or it goes boom"
   ]
  },
  {
   "cell_type": "code",
   "execution_count": 26,
   "metadata": {
    "scrolled": true
   },
   "outputs": [
    {
     "name": "stdout",
     "output_type": "stream",
     "text": [
      "FOLD NUMBER =  1\n",
      "Epoch 1/20\n",
      "9856/9856 [==============================] - 0s 47us/sample - loss: 0.6302 - acc: 0.6310\n",
      "Epoch 2/20\n",
      "9856/9856 [==============================] - 0s 15us/sample - loss: 0.5676 - acc: 0.6902\n",
      "Epoch 3/20\n",
      "9856/9856 [==============================] - 0s 16us/sample - loss: 0.5477 - acc: 0.7054\n",
      "Epoch 4/20\n",
      "9856/9856 [==============================] - 0s 15us/sample - loss: 0.5327 - acc: 0.7157\n",
      "Epoch 5/20\n",
      "9856/9856 [==============================] - 0s 16us/sample - loss: 0.5203 - acc: 0.7262\n",
      "Epoch 6/20\n",
      "9856/9856 [==============================] - 0s 17us/sample - loss: 0.5065 - acc: 0.7374\n",
      "Epoch 7/20\n",
      "9856/9856 [==============================] - 0s 15us/sample - loss: 0.4941 - acc: 0.7457\n",
      "Epoch 8/20\n",
      "9856/9856 [==============================] - 0s 15us/sample - loss: 0.4793 - acc: 0.7542\n",
      "Epoch 9/20\n",
      "9856/9856 [==============================] - 0s 16us/sample - loss: 0.4643 - acc: 0.7639\n",
      "Epoch 10/20\n",
      "9856/9856 [==============================] - 0s 16us/sample - loss: 0.4480 - acc: 0.7798\n",
      "Epoch 11/20\n",
      "9856/9856 [==============================] - 0s 16us/sample - loss: 0.4345 - acc: 0.7883\n",
      "Epoch 12/20\n",
      "9856/9856 [==============================] - 0s 16us/sample - loss: 0.4236 - acc: 0.7982\n",
      "Epoch 13/20\n",
      "9856/9856 [==============================] - 0s 17us/sample - loss: 0.4066 - acc: 0.8061\n",
      "Epoch 14/20\n",
      "9856/9856 [==============================] - 0s 16us/sample - loss: 0.3958 - acc: 0.8144\n",
      "Epoch 15/20\n",
      "9856/9856 [==============================] - 0s 17us/sample - loss: 0.3795 - acc: 0.8258\n",
      "Epoch 16/20\n",
      "9856/9856 [==============================] - 0s 17us/sample - loss: 0.3687 - acc: 0.8314\n",
      "Epoch 17/20\n",
      "9856/9856 [==============================] - 0s 18us/sample - loss: 0.3569 - acc: 0.8359\n",
      "Epoch 18/20\n",
      "9856/9856 [==============================] - 0s 17us/sample - loss: 0.3437 - acc: 0.8408\n",
      "Epoch 19/20\n",
      "9856/9856 [==============================] - 0s 18us/sample - loss: 0.3397 - acc: 0.8506\n",
      "Epoch 20/20\n",
      "9856/9856 [==============================] - 0s 19us/sample - loss: 0.3263 - acc: 0.8504\n",
      "\n",
      "TEST ACCURACY\n",
      "2464/2464 [==============================] - 0s 103us/sample - loss: 0.7164 - acc: 0.6627\n",
      "Accuracy: 0.6627435\n",
      "accuracy: 0.6627435064935064\n"
     ]
    },
    {
     "data": {
      "image/png": "[encoded data removed]",
      "text/plain": [
       "<Figure size 432x288 with 1 Axes>"
      ]
     },
     "metadata": {
      "needs_background": "light"
     },
     "output_type": "display_data"
    },
    {
     "name": "stdout",
     "output_type": "stream",
     "text": [
      "============================================\n",
      "FOLD NUMBER =  2\n",
      "Epoch 1/20\n",
      "9856/9856 [==============================] - 0s 50us/sample - loss: 0.6312 - acc: 0.6210\n",
      "Epoch 2/20\n",
      "9856/9856 [==============================] - 0s 16us/sample - loss: 0.5661 - acc: 0.6951\n",
      "Epoch 3/20\n",
      "9856/9856 [==============================] - 0s 17us/sample - loss: 0.5485 - acc: 0.7062\n",
      "Epoch 4/20\n",
      "9856/9856 [==============================] - 0s 19us/sample - loss: 0.5312 - acc: 0.7233\n",
      "Epoch 5/20\n",
      "9856/9856 [==============================] - 0s 16us/sample - loss: 0.5161 - acc: 0.7313\n",
      "Epoch 6/20\n",
      "9856/9856 [==============================] - 0s 16us/sample - loss: 0.4999 - acc: 0.7432\n",
      "Epoch 7/20\n",
      "9856/9856 [==============================] - 0s 17us/sample - loss: 0.4841 - acc: 0.7571\n",
      "Epoch 8/20\n",
      "9856/9856 [==============================] - 0s 18us/sample - loss: 0.4675 - acc: 0.7699\n",
      "Epoch 9/20\n",
      "9856/9856 [==============================] - 0s 18us/sample - loss: 0.4556 - acc: 0.7766\n",
      "Epoch 10/20\n",
      "9856/9856 [==============================] - 0s 18us/sample - loss: 0.4401 - acc: 0.7847\n",
      "Epoch 11/20\n",
      "9856/9856 [==============================] - 0s 18us/sample - loss: 0.4274 - acc: 0.7947\n",
      "Epoch 12/20\n",
      "9856/9856 [==============================] - 0s 21us/sample - loss: 0.4100 - acc: 0.8069\n",
      "Epoch 13/20\n",
      "9856/9856 [==============================] - 0s 22us/sample - loss: 0.4014 - acc: 0.8111\n",
      "Epoch 14/20\n",
      "9856/9856 [==============================] - 0s 18us/sample - loss: 0.3843 - acc: 0.8213\n",
      "Epoch 15/20\n",
      "9856/9856 [==============================] - 0s 17us/sample - loss: 0.3697 - acc: 0.8321\n",
      "Epoch 16/20\n",
      "9856/9856 [==============================] - 0s 19us/sample - loss: 0.3618 - acc: 0.8327\n",
      "Epoch 17/20\n",
      "9856/9856 [==============================] - 0s 18us/sample - loss: 0.3478 - acc: 0.8419\n",
      "Epoch 18/20\n",
      "9856/9856 [==============================] - 0s 17us/sample - loss: 0.3404 - acc: 0.8423\n",
      "Epoch 19/20\n",
      "9856/9856 [==============================] - 0s 18us/sample - loss: 0.3262 - acc: 0.8512\n",
      "Epoch 20/20\n",
      "9856/9856 [==============================] - 0s 18us/sample - loss: 0.3195 - acc: 0.8565\n",
      "\n",
      "TEST ACCURACY\n",
      "2464/2464 [==============================] - 0s 104us/sample - loss: 0.7594 - acc: 0.6506\n",
      "Accuracy: 0.6505682\n",
      "accuracy: 0.6505681818181818\n"
     ]
    },
    {
     "data": {
      "image/png": "[encoded data removed]",
      "text/plain": [
       "<Figure size 432x288 with 1 Axes>"
      ]
     },
     "metadata": {
      "needs_background": "light"
     },
     "output_type": "display_data"
    },
    {
     "name": "stdout",
     "output_type": "stream",
     "text": [
      "============================================\n",
      "FOLD NUMBER =  3\n",
      "Epoch 1/20\n",
      "9856/9856 [==============================] - 1s 51us/sample - loss: 0.6356 - acc: 0.6306\n",
      "Epoch 2/20\n",
      "9856/9856 [==============================] - 0s 18us/sample - loss: 0.5709 - acc: 0.6894\n",
      "Epoch 3/20\n",
      "9856/9856 [==============================] - 0s 18us/sample - loss: 0.5513 - acc: 0.7004\n",
      "Epoch 4/20\n",
      "9856/9856 [==============================] - 0s 17us/sample - loss: 0.5356 - acc: 0.7147\n",
      "Epoch 5/20\n",
      "9856/9856 [==============================] - 0s 16us/sample - loss: 0.5227 - acc: 0.7222\n",
      "Epoch 6/20\n",
      "9856/9856 [==============================] - 0s 17us/sample - loss: 0.5107 - acc: 0.7362\n",
      "Epoch 7/20\n",
      "9856/9856 [==============================] - 0s 17us/sample - loss: 0.4959 - acc: 0.7457\n",
      "Epoch 8/20\n",
      "9856/9856 [==============================] - 0s 18us/sample - loss: 0.4822 - acc: 0.7562\n",
      "Epoch 9/20\n",
      "9856/9856 [==============================] - 0s 20us/sample - loss: 0.4691 - acc: 0.7652\n",
      "Epoch 10/20\n",
      "9856/9856 [==============================] - 0s 20us/sample - loss: 0.4539 - acc: 0.7765\n",
      "Epoch 11/20\n",
      "9856/9856 [==============================] - 0s 17us/sample - loss: 0.4437 - acc: 0.7817\n",
      "Epoch 12/20\n",
      "9856/9856 [==============================] - 0s 18us/sample - loss: 0.4264 - acc: 0.7944\n",
      "Epoch 13/20\n",
      "9856/9856 [==============================] - 0s 18us/sample - loss: 0.4125 - acc: 0.80130s - loss: 0.4124 - acc: 0.801\n",
      "Epoch 14/20\n",
      "9856/9856 [==============================] - 0s 18us/sample - loss: 0.4055 - acc: 0.8041\n",
      "Epoch 15/20\n",
      "9856/9856 [==============================] - 0s 17us/sample - loss: 0.3897 - acc: 0.8197\n",
      "Epoch 16/20\n",
      "9856/9856 [==============================] - 0s 17us/sample - loss: 0.3786 - acc: 0.8249\n",
      "Epoch 17/20\n",
      "9856/9856 [==============================] - 0s 17us/sample - loss: 0.3713 - acc: 0.8263\n",
      "Epoch 18/20\n",
      "9856/9856 [==============================] - 0s 18us/sample - loss: 0.3607 - acc: 0.8347\n",
      "Epoch 19/20\n",
      "9856/9856 [==============================] - 0s 17us/sample - loss: 0.3474 - acc: 0.8428\n",
      "Epoch 20/20\n",
      "9856/9856 [==============================] - 0s 16us/sample - loss: 0.3368 - acc: 0.8513\n",
      "\n",
      "TEST ACCURACY\n",
      "2464/2464 [==============================] - 0s 103us/sample - loss: 0.6896 - acc: 0.6798\n",
      "Accuracy: 0.67978895\n",
      "accuracy: 0.679788961038961\n"
     ]
    },
    {
     "data": {
      "image/png": "[encoded data removed]",
      "text/plain": [
       "<Figure size 432x288 with 1 Axes>"
      ]
     },
     "metadata": {
      "needs_background": "light"
     },
     "output_type": "display_data"
    },
    {
     "name": "stdout",
     "output_type": "stream",
     "text": [
      "============================================\n",
      "FOLD NUMBER =  4\n",
      "Epoch 1/20\n",
      "9856/9856 [==============================] - 1s 52us/sample - loss: 0.6272 - acc: 0.6367\n",
      "Epoch 2/20\n",
      "9856/9856 [==============================] - 0s 19us/sample - loss: 0.5686 - acc: 0.6872\n",
      "Epoch 3/20\n",
      "9856/9856 [==============================] - 0s 18us/sample - loss: 0.5520 - acc: 0.7011\n",
      "Epoch 4/20\n",
      "9856/9856 [==============================] - 0s 18us/sample - loss: 0.5336 - acc: 0.7154\n",
      "Epoch 5/20\n",
      "9856/9856 [==============================] - 0s 17us/sample - loss: 0.5199 - acc: 0.7293\n",
      "Epoch 6/20\n",
      "9856/9856 [==============================] - 0s 18us/sample - loss: 0.5074 - acc: 0.7376\n",
      "Epoch 7/20\n",
      "9856/9856 [==============================] - 0s 19us/sample - loss: 0.4938 - acc: 0.7455\n",
      "Epoch 8/20\n",
      "9856/9856 [==============================] - 0s 23us/sample - loss: 0.4814 - acc: 0.7583\n",
      "Epoch 9/20\n",
      "9856/9856 [==============================] - 0s 19us/sample - loss: 0.4660 - acc: 0.7678\n",
      "Epoch 10/20\n",
      "9856/9856 [==============================] - 0s 17us/sample - loss: 0.4539 - acc: 0.7780\n",
      "Epoch 11/20\n",
      "9856/9856 [==============================] - 0s 19us/sample - loss: 0.4403 - acc: 0.7879\n",
      "Epoch 12/20\n",
      "9856/9856 [==============================] - 0s 18us/sample - loss: 0.4255 - acc: 0.7941\n",
      "Epoch 13/20\n",
      "9856/9856 [==============================] - 0s 17us/sample - loss: 0.4106 - acc: 0.8037\n",
      "Epoch 14/20\n",
      "9856/9856 [==============================] - 0s 18us/sample - loss: 0.4016 - acc: 0.8088\n",
      "Epoch 15/20\n",
      "9856/9856 [==============================] - 0s 17us/sample - loss: 0.3902 - acc: 0.8164\n",
      "Epoch 16/20\n",
      "9856/9856 [==============================] - 0s 17us/sample - loss: 0.3748 - acc: 0.8260\n",
      "Epoch 17/20\n",
      "9856/9856 [==============================] - 0s 17us/sample - loss: 0.3603 - acc: 0.8357\n",
      "Epoch 18/20\n",
      "9856/9856 [==============================] - 0s 19us/sample - loss: 0.3548 - acc: 0.8378\n",
      "Epoch 19/20\n",
      "9856/9856 [==============================] - 0s 19us/sample - loss: 0.3454 - acc: 0.8392\n",
      "Epoch 20/20\n",
      "9856/9856 [==============================] - 0s 18us/sample - loss: 0.3329 - acc: 0.8484\n",
      "\n",
      "TEST ACCURACY\n",
      "2464/2464 [==============================] - 0s 100us/sample - loss: 0.7013 - acc: 0.6778\n",
      "Accuracy: 0.67775977\n",
      "accuracy: 0.6777597402597403\n"
     ]
    },
    {
     "data": {
      "image/png": "[encoded data removed]",
      "text/plain": [
       "<Figure size 432x288 with 1 Axes>"
      ]
     },
     "metadata": {
      "needs_background": "light"
     },
     "output_type": "display_data"
    },
    {
     "name": "stdout",
     "output_type": "stream",
     "text": [
      "============================================\n",
      "FOLD NUMBER =  5\n",
      "Epoch 1/20\n",
      "9856/9856 [==============================] - 1s 54us/sample - loss: 0.6264 - acc: 0.6332\n",
      "Epoch 2/20\n",
      "9856/9856 [==============================] - 0s 19us/sample - loss: 0.5698 - acc: 0.6902\n",
      "Epoch 3/20\n",
      "9856/9856 [==============================] - 0s 18us/sample - loss: 0.5519 - acc: 0.7040\n",
      "Epoch 4/20\n",
      "9856/9856 [==============================] - 0s 19us/sample - loss: 0.5396 - acc: 0.7120\n",
      "Epoch 5/20\n",
      "9856/9856 [==============================] - 0s 21us/sample - loss: 0.5268 - acc: 0.7230\n",
      "Epoch 6/20\n",
      "9856/9856 [==============================] - 0s 17us/sample - loss: 0.5145 - acc: 0.7328\n",
      "Epoch 7/20\n",
      "9856/9856 [==============================] - 0s 18us/sample - loss: 0.5042 - acc: 0.7407\n",
      "Epoch 8/20\n",
      "9856/9856 [==============================] - 0s 18us/sample - loss: 0.4865 - acc: 0.7513\n",
      "Epoch 9/20\n",
      "9856/9856 [==============================] - 0s 19us/sample - loss: 0.4718 - acc: 0.7657\n",
      "Epoch 10/20\n",
      "9856/9856 [==============================] - 0s 17us/sample - loss: 0.4586 - acc: 0.7720\n",
      "Epoch 11/20\n",
      "9856/9856 [==============================] - 0s 19us/sample - loss: 0.4465 - acc: 0.7797\n",
      "Epoch 12/20\n",
      "9856/9856 [==============================] - 0s 19us/sample - loss: 0.4322 - acc: 0.7906\n",
      "Epoch 13/20\n",
      "9856/9856 [==============================] - 0s 19us/sample - loss: 0.4207 - acc: 0.7966\n",
      "Epoch 14/20\n",
      "9856/9856 [==============================] - 0s 19us/sample - loss: 0.4120 - acc: 0.8004\n",
      "Epoch 15/20\n",
      "9856/9856 [==============================] - 0s 20us/sample - loss: 0.3973 - acc: 0.8071\n",
      "Epoch 16/20\n",
      "9856/9856 [==============================] - 0s 18us/sample - loss: 0.3841 - acc: 0.8179\n",
      "Epoch 17/20\n",
      "9856/9856 [==============================] - 0s 18us/sample - loss: 0.3700 - acc: 0.8270\n",
      "Epoch 18/20\n",
      "9856/9856 [==============================] - 0s 19us/sample - loss: 0.3612 - acc: 0.8324\n",
      "Epoch 19/20\n",
      "9856/9856 [==============================] - 0s 19us/sample - loss: 0.3526 - acc: 0.8364\n",
      "Epoch 20/20\n",
      "9856/9856 [==============================] - 0s 19us/sample - loss: 0.3422 - acc: 0.8432\n",
      "\n",
      "TEST ACCURACY\n",
      "2464/2464 [==============================] - 0s 104us/sample - loss: 0.6865 - acc: 0.6713\n",
      "Accuracy: 0.67126626\n",
      "accuracy: 0.6712662337662337\n"
     ]
    },
    {
     "data": {
      "image/png": "[encoded data removed]",
      "text/plain": [
       "<Figure size 432x288 with 1 Axes>"
      ]
     },
     "metadata": {
      "needs_background": "light"
     },
     "output_type": "display_data"
    },
    {
     "name": "stdout",
     "output_type": "stream",
     "text": [
      "============================================\n",
      "0.6684253\n"
     ]
    }
   ],
   "source": [
    "from sklearn.model_selection import StratifiedKFold\n",
    "from sklearn.metrics import accuracy_score, confusion_matrix\n",
    "\n",
    "skf = StratifiedKFold(n_splits=5, random_state=30034, shuffle=True)\n",
    "fold_no = 1\n",
    "accs = []  # store each accuracy\n",
    "\n",
    "neuron_size = 90\n",
    "\n",
    "for train_index, test_index in skf.split(X, y):\n",
    "\n",
    "    # One hot encode labels\n",
    "    print(\"FOLD NUMBER = \", str(fold_no))\n",
    "\n",
    "    X_train = X[train_index]\n",
    "    X_test = X[test_index]\n",
    "\n",
    "    y_train = y[train_index]\n",
    "    y_test = y[test_index]\n",
    "\n",
    "    EPOCHS = 20\n",
    "    BATCH_SIZE = 128\n",
    "\n",
    "    \n",
    "    model = tf.keras.Sequential()\n",
    "    model.add(tf.keras.layers.Dense(neuron_size,input_dim=X_train.shape[1], activation='relu'))\n",
    "    model.add(tf.keras.layers.Dense(int(2/3*neuron_size), activation=tf.nn.leaky_relu))\n",
    "    model.add(tf.keras.layers.Dense(2, activation=tf.nn.softmax))\n",
    "    # Compile model\n",
    "    model.compile(loss='sparse_categorical_crossentropy', optimizer='adam', metrics=['accuracy'])\n",
    "\n",
    "    model.fit(X_train, y_train, epochs=EPOCHS, batch_size=BATCH_SIZE)\n",
    "    \n",
    "    y_preds = model.predict(X_test)\n",
    "    p = []\n",
    "    for i in y_preds:\n",
    "        p.append(np.argmax(i))\n",
    "\n",
    "    test_acc = accuracy_score(y_test, p)\n",
    "    accs.append(test_acc)\n",
    "\n",
    "    print(\"\\nTest Accuracy:\", test_acc)\n",
    "\n",
    "    cm=confusion_matrix(y_test,p)\n",
    "    cm = pd.DataFrame(cm, index = [i for i in \"01\"],\n",
    "                      columns = [i for i in \"01\"])\n",
    "    cm.index.name = 'Actual'\n",
    "    cm.columns.name = 'Predicted'\n",
    "    sns.heatmap(cm, annot=True, \n",
    "                cmap='Blues', cbar=False)\n",
    "    plt.show()\n",
    "\n",
    "    print(\"============================================\")\n",
    "    fold_no+=1\n",
    "\n",
    "print(np.mean(accs))"
   ]
  },
  {
   "cell_type": "code",
   "execution_count": null,
   "metadata": {},
   "outputs": [],
   "source": []
  },
  {
   "cell_type": "code",
   "execution_count": null,
   "metadata": {},
   "outputs": [],
   "source": []
  },
  {
   "cell_type": "code",
   "execution_count": null,
   "metadata": {},
   "outputs": [],
   "source": []
  },
  {
   "cell_type": "code",
   "execution_count": null,
   "metadata": {},
   "outputs": [],
   "source": []
  },
  {
   "cell_type": "markdown",
   "metadata": {},
   "source": [
    "### Performing  outlier removal"
   ]
  },
  {
   "cell_type": "code",
   "execution_count": null,
   "metadata": {},
   "outputs": [],
   "source": [
    "#function for removing outliers in numeric data\n",
    "def outlier_removal(data,columns):\n",
    "    for col in columns:\n",
    "        Q1 = np.quantile(data[col].values,0.25)\n",
    "        Q3 = np.quantile(data[col].values,0.75)\n",
    "        IQR = Q3-Q1\n",
    "        \n",
    "        lower = Q1 - 1.5*IQR\n",
    "        upper = Q3+ 1.5*IQR\n",
    "        \n",
    "        data = data[(data[col]>=lower) & (data[col]<=upper)]\n",
    "    return data"
   ]
  },
  {
   "cell_type": "code",
   "execution_count": null,
   "metadata": {
    "scrolled": true
   },
   "outputs": [],
   "source": [
    "data = feather.read_dataframe(\"{}_numeric_v2.feather\".format(FILENAME))\n",
    "\n",
    "numeric_cols = ['Temperature(F)', 'Humidity(%)', 'Pressure(in)', 'Visibility(mi)', \n",
    "        'Wind_Speed(mph)', 'Precipitation(in)',\n",
    "       'Population_County', 'Drive_County', 'Transit_County', 'Walk_County', 'MedianHouseholdIncome_County']\n",
    "data = outlier_removal(data,numeric_cols).reset_index(drop = True)"
   ]
  },
  {
   "cell_type": "code",
   "execution_count": 38,
   "metadata": {},
   "outputs": [
    {
     "data": {
      "image/png": "[encoded data removed]",
      "text/plain": [
       "<Figure size 1080x1440 with 12 Axes>"
      ]
     },
     "metadata": {},
     "output_type": "display_data"
    }
   ],
   "source": [
    "#Boxplot after outlier removal\n",
    "cols = ['Temperature(F)', 'Humidity(%)', 'Pressure(in)', 'Visibility(mi)', \n",
    "        'Wind_Speed(mph)', 'Precipitation(in)',\n",
    "       'Population_County', 'Drive_County', 'Transit_County', 'Walk_County', 'MedianHouseholdIncome_County']\n",
    "\n",
    "sns.set_style('darkgrid')\n",
    "f, axes = plt.subplots(6,2, figsize=(15,20))\n",
    "y = 0;\n",
    "for name in cols[1:]:\n",
    "    i, j = divmod(y, 2)\n",
    "    sns.boxplot(x=data[name], ax=axes[i, j])\n",
    "    y = y+1\n",
    "\n",
    "plt.tight_layout()\n",
    "plt.show()"
   ]
  },
  {
   "cell_type": "code",
   "execution_count": null,
   "metadata": {},
   "outputs": [],
   "source": [
    "data['Grouped_Severity'] = np.where(data['Severity']<=2, 0, 1)\n",
    "labels = data['Grouped_Severity']\n",
    "#dropping percipitation and visibility due to all values removed as outliers\n",
    "X = data.drop(['Severity',\"Grouped_Severity\",'Precipitation(in)','Visibility(mi)'], axis=1)\n",
    "\n",
    "accuracies = Neural_Network(data,labels,best_neuron_size,20,5)\n",
    "for i in range(1,4):\n",
    "    print(\"Fold \",i,\" Accuracy: \",accuracies[i])\n",
    "print(\"Average Accuracy: \",np.mean(accuracies))"
   ]
  },
  {
   "cell_type": "code",
   "execution_count": null,
   "metadata": {},
   "outputs": [],
   "source": []
  },
  {
   "cell_type": "code",
   "execution_count": null,
   "metadata": {},
   "outputs": [],
   "source": []
  }
 ],
 "metadata": {
  "kernelspec": {
   "display_name": "Python 3",
   "language": "python",
   "name": "python3"
  },
  "language_info": {
   "codemirror_mode": {
    "name": "ipython",
    "version": 3
   },
   "file_extension": ".py",
   "mimetype": "text/x-python",
   "name": "python",
   "nbconvert_exporter": "python",
   "pygments_lexer": "ipython3",
   "version": "3.7.1"
  }
 },
 "nbformat": 4,
 "nbformat_minor": 2
}
