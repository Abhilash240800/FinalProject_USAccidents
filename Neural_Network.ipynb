{
 "cells": [
  {
   "cell_type": "code",
   "execution_count": 2,
   "metadata": {},
   "outputs": [],
   "source": [
    "import pandas\n",
    "import numpy as np"
   ]
  },
  {
   "cell_type": "markdown",
   "metadata": {},
   "source": [
    "Building the basic structure for the neural network\n",
    "Constructing a two layer neural network"
   ]
  },
  {
   "cell_type": "code",
   "execution_count": null,
   "metadata": {},
   "outputs": [],
   "source": [
    "class NeuralNetwork:\n",
    "    def __init__(self,input_layer,weights1,weights2,bias1,bias2):\n",
    "        self.input = input_layer\n",
    "        self.weights1 = weights1\n",
    "        self.weights2 = weights2\n",
    "        self.labels = [1,2,3,4]\n",
    "        self.bias1 = bias1\n",
    "        self.bias2 = bias2\n",
    "        self.output = np.zeros(labels.shape)\n",
    "    \n",
    "    #using swish as the activation function for the input layer\n",
    "    #Given as x*sigmoid(x)\n",
    "    def swish(X):\n",
    "        return X/(1+np.exp(-X))\n",
    "    \n",
    "\n",
    "    ##defining softmax function, log(C) constant normalizing constant added to prevent\n",
    "    ##overflowing log(C) = -max(X)\n",
    "    def softmax(layer):\n",
    "        upper = np.exp(layer-np.max(layer))\n",
    "        lower = np.sum(exps)\n",
    "        return upper/lower\n",
    "\n",
    "    #layer 2 and bias2 are both size 4 corresponding to the final output layer of \n",
    "    #severity from 1 to 4\n",
    "    def feedforward(self):\n",
    "        self.layer1 = []\n",
    "        self.layer2 = []\n",
    "        for i in bias1:\n",
    "            self.layer1.append(swish(np.dot(self.input,self.weigths)+i))\n",
    "        for j in bias2:\n",
    "            self.layer2.append(np.dot(self.layer1,self.weights2)+j)\n",
    "        self.output = softmax(self.layer2)\n",
    "    \n",
    "    def cross_entropy(self):\n",
    "        m = self.labels.shape[0]\n",
    "        p = self.output\n",
    "        loss = 0\n",
    "        for i in range(m):\n",
    "            loss += (self.labels[i] * np.log(p[i]))\n",
    "        loss = loss * -1\n",
    "        return loss\n",
    "    \n",
    "    def backprop(self):\n",
    "        "
   ]
  },
  {
   "cell_type": "code",
   "execution_count": null,
   "metadata": {},
   "outputs": [],
   "source": []
  }
 ],
 "metadata": {
  "kernelspec": {
   "display_name": "Python 3",
   "language": "python",
   "name": "python3"
  },
  "language_info": {
   "codemirror_mode": {
    "name": "ipython",
    "version": 3
   },
   "file_extension": ".py",
   "mimetype": "text/x-python",
   "name": "python",
   "nbconvert_exporter": "python",
   "pygments_lexer": "ipython3",
   "version": "3.7.6"
  }
 },
 "nbformat": 4,
 "nbformat_minor": 4
}
