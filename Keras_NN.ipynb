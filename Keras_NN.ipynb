{
 "cells": [
  {
   "cell_type": "code",
   "execution_count": 1,
   "metadata": {},
   "outputs": [
    {
     "name": "stderr",
     "output_type": "stream",
     "text": [
      "Using TensorFlow backend.\n"
     ]
    }
   ],
   "source": [
    "import pandas\n",
    "import numpy as np\n",
    "import pandas as pd\n",
    "from sklearn.preprocessing import OneHotEncoder\n",
    "from sklearn.model_selection import train_test_split\n",
    "import tensorflow as tf\n",
    "from keras.utils import to_categorical\n",
    "import feather\n",
    "import random"
   ]
  },
  {
   "cell_type": "code",
   "execution_count": 2,
   "metadata": {},
   "outputs": [],
   "source": [
    "FILENAME = \"Datasets/Round_2/preproccesed_outliers_1085575_col_11_threshold_09\"\n",
    "#N = 100000    #number of instances to use from the dataset (just for testing the model)\n",
    "data = feather.read_dataframe(\"{}.feather\".format(FILENAME))\n",
    "#data = data.iloc[:N, :].reset_index(drop=True)"
   ]
  },
  {
   "cell_type": "code",
   "execution_count": 3,
   "metadata": {
    "scrolled": true
   },
   "outputs": [],
   "source": [
    "# Create one hot encoding labels\n",
    "n = len(data)\n",
    "labels = data['Severity']\n",
    "labels_oh = np.zeros((n, 4))\n",
    "for i in range(n):\n",
    "    labels_oh[i, labels[i]-1] = 1\n",
    "    \n",
    "# Get the attributes\n",
    "atts_oh = data.drop('Severity', axis=1)"
   ]
  },
  {
   "cell_type": "code",
   "execution_count": 4,
   "metadata": {},
   "outputs": [],
   "source": [
    "# Split into train and test set\n",
    "X_train, X_test, y_train, y_test = train_test_split(atts_oh, labels_oh, test_size=0.33, random_state=30034)"
   ]
  },
  {
   "cell_type": "code",
   "execution_count": 7,
   "metadata": {},
   "outputs": [
    {
     "name": "stdout",
     "output_type": "stream",
     "text": [
      "_________________________________________________________________\n",
      "Layer (type)                 Output Shape              Param #   \n",
      "=================================================================\n",
      "dense_2 (Dense)              (None, 30)                4470      \n",
      "_________________________________________________________________\n",
      "dense_3 (Dense)              (None, 4)                 124       \n",
      "=================================================================\n",
      "Total params: 4,594\n",
      "Trainable params: 4,594\n",
      "Non-trainable params: 0\n",
      "_________________________________________________________________\n"
     ]
    }
   ],
   "source": [
    "EPOCHS = 20\n",
    "BATCH_SIZE = 128\n",
    "\n",
    "model = tf.keras.Sequential()\n",
    "model.add(tf.keras.layers.Dense(30, activation=tf.nn.swish,input_shape=(X_train.shape[1],))) # Swish indeed performs better than sigmoid\n",
    "model.add(tf.keras.layers.Dense(4, activation=tf.nn.softmax))\n",
    "\n",
    "# Compile and print out summary of model\n",
    "model.compile(loss='categorical_crossentropy', \n",
    "              optimizer='adam',\n",
    "             metrics=['accuracy'])\n",
    "\n",
    "model.summary()"
   ]
  },
  {
   "cell_type": "code",
   "execution_count": 8,
   "metadata": {},
   "outputs": [
    {
     "name": "stdout",
     "output_type": "stream",
     "text": [
      "Epoch 1/20\n",
      "1431510/1431510 [==============================] - 29s 21us/sample - loss: 0.9818 - acc: 0.6927\n",
      "Epoch 2/20\n",
      "1431510/1431510 [==============================] - 30s 21us/sample - loss: 0.6602 - acc: 0.7098\n",
      "Epoch 3/20\n",
      "1431510/1431510 [==============================] - 30s 21us/sample - loss: 0.5656 - acc: 0.7119\n",
      "Epoch 4/20\n",
      "1431510/1431510 [==============================] - 30s 21us/sample - loss: 0.5618 - acc: 0.7127\n",
      "Epoch 5/20\n",
      "1431510/1431510 [==============================] - 31s 21us/sample - loss: 0.5602 - acc: 0.7130\n",
      "Epoch 6/20\n",
      "1431510/1431510 [==============================] - 31s 21us/sample - loss: 0.5587 - acc: 0.7142\n",
      "Epoch 7/20\n",
      "1431510/1431510 [==============================] - 31s 22us/sample - loss: 0.5579 - acc: 0.7146\n",
      "Epoch 8/20\n",
      "1431510/1431510 [==============================] - 31s 22us/sample - loss: 0.5572 - acc: 0.7152\n",
      "Epoch 9/20\n",
      "1431510/1431510 [==============================] - 33s 23us/sample - loss: 0.5569 - acc: 0.7152\n",
      "Epoch 10/20\n",
      "1431510/1431510 [==============================] - 32s 22us/sample - loss: 0.5564 - acc: 0.7152\n",
      "Epoch 11/20\n",
      "1431510/1431510 [==============================] - 31s 22us/sample - loss: 0.5561 - acc: 0.7153\n",
      "Epoch 12/20\n",
      "1431510/1431510 [==============================] - 31s 22us/sample - loss: 0.5559 - acc: 0.7157\n",
      "Epoch 13/20\n",
      "1431510/1431510 [==============================] - 32s 22us/sample - loss: 0.5555 - acc: 0.7162\n",
      "Epoch 14/20\n",
      "1431510/1431510 [==============================] - 32s 22us/sample - loss: 0.5554 - acc: 0.7167\n",
      "Epoch 15/20\n",
      "1431510/1431510 [==============================] - 32s 22us/sample - loss: 0.5551 - acc: 0.7170\n",
      "Epoch 16/20\n",
      "1431510/1431510 [==============================] - 31s 22us/sample - loss: 0.5548 - acc: 0.7171\n",
      "Epoch 17/20\n",
      "1431510/1431510 [==============================] - 31s 22us/sample - loss: 0.5545 - acc: 0.7176\n",
      "Epoch 18/20\n",
      "1431510/1431510 [==============================] - 32s 22us/sample - loss: 0.5543 - acc: 0.7178\n",
      "Epoch 19/20\n",
      "1431510/1431510 [==============================] - 32s 22us/sample - loss: 0.5541 - acc: 0.7180\n",
      "Epoch 20/20\n",
      "1431510/1431510 [==============================] - 31s 22us/sample - loss: 0.5539 - acc: 0.7179\n"
     ]
    },
    {
     "data": {
      "text/plain": [
       "<tensorflow.python.keras.callbacks.History at 0x2595b563c50>"
      ]
     },
     "execution_count": 8,
     "metadata": {},
     "output_type": "execute_result"
    }
   ],
   "source": [
    "# Train the model\n",
    "model.fit(X_train, y_train, epochs=EPOCHS, batch_size=BATCH_SIZE)"
   ]
  },
  {
   "cell_type": "code",
   "execution_count": 9,
   "metadata": {},
   "outputs": [
    {
     "name": "stdout",
     "output_type": "stream",
     "text": [
      "705073/705073 [==============================] - 18s 26us/sample - loss: 0.5521 - acc: 0.7192\n",
      "\n",
      "test_acc:  0.71916384\n"
     ]
    }
   ],
   "source": [
    "# Testing the model \n",
    "test_loss, test_acc = model.evaluate(X_test, y_test)\n",
    "print('\\ntest_acc: ', test_acc)"
   ]
  }
 ],
 "metadata": {
  "kernelspec": {
   "display_name": "Python [conda env:root] *",
   "language": "python",
   "name": "conda-root-py"
  },
  "language_info": {
   "codemirror_mode": {
    "name": "ipython",
    "version": 3
   },
   "file_extension": ".py",
   "mimetype": "text/x-python",
   "name": "python",
   "nbconvert_exporter": "python",
   "pygments_lexer": "ipython3",
   "version": "3.7.1"
  }
 },
 "nbformat": 4,
 "nbformat_minor": 2
}
